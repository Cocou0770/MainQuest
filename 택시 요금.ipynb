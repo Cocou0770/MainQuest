{
 "cells": [
  {
   "cell_type": "code",
   "execution_count": 1,
   "id": "b4f680c1",
   "metadata": {},
   "outputs": [],
   "source": [
    "import pandas as pd\n",
    "import numpy as np\n",
    "import matplotlib.pyplot as plt\n",
    "import seaborn as sns"
   ]
  },
  {
   "cell_type": "code",
   "execution_count": 2,
   "id": "1e3b3a30",
   "metadata": {},
   "outputs": [],
   "source": [
    "data = pd.read_csv('data/trip.csv')"
   ]
  },
  {
   "cell_type": "code",
   "execution_count": 3,
   "id": "b549ed05",
   "metadata": {},
   "outputs": [
    {
     "data": {
      "text/html": [
       "<div>\n",
       "<style scoped>\n",
       "    .dataframe tbody tr th:only-of-type {\n",
       "        vertical-align: middle;\n",
       "    }\n",
       "\n",
       "    .dataframe tbody tr th {\n",
       "        vertical-align: top;\n",
       "    }\n",
       "\n",
       "    .dataframe thead th {\n",
       "        text-align: right;\n",
       "    }\n",
       "</style>\n",
       "<table border=\"1\" class=\"dataframe\">\n",
       "  <thead>\n",
       "    <tr style=\"text-align: right;\">\n",
       "      <th></th>\n",
       "      <th>passenger_name</th>\n",
       "      <th>tpep_pickup_datetime</th>\n",
       "      <th>tpep_dropoff_datetime</th>\n",
       "      <th>payment_method</th>\n",
       "      <th>passenger_count</th>\n",
       "      <th>trip_distance</th>\n",
       "      <th>fare_amount</th>\n",
       "      <th>tip_amount</th>\n",
       "      <th>tolls_amount</th>\n",
       "    </tr>\n",
       "  </thead>\n",
       "  <tbody>\n",
       "    <tr>\n",
       "      <th>0</th>\n",
       "      <td>Pamela Duffy</td>\n",
       "      <td>03/25/2017 8:55:43 AM</td>\n",
       "      <td>03/25/2017 9:09:47 AM</td>\n",
       "      <td>Debit Card</td>\n",
       "      <td>6</td>\n",
       "      <td>3.34</td>\n",
       "      <td>13.0</td>\n",
       "      <td>2.76</td>\n",
       "      <td>0.0</td>\n",
       "    </tr>\n",
       "    <tr>\n",
       "      <th>1</th>\n",
       "      <td>Michelle Foster</td>\n",
       "      <td>04/11/2017 2:53:28 PM</td>\n",
       "      <td>04/11/2017 3:19:58 PM</td>\n",
       "      <td>Debit Card</td>\n",
       "      <td>1</td>\n",
       "      <td>1.80</td>\n",
       "      <td>16.0</td>\n",
       "      <td>4.00</td>\n",
       "      <td>0.0</td>\n",
       "    </tr>\n",
       "    <tr>\n",
       "      <th>2</th>\n",
       "      <td>Tina Combs</td>\n",
       "      <td>12/15/2017 7:26:56 AM</td>\n",
       "      <td>12/15/2017 7:34:08 AM</td>\n",
       "      <td>Debit Card</td>\n",
       "      <td>1</td>\n",
       "      <td>1.00</td>\n",
       "      <td>6.5</td>\n",
       "      <td>1.45</td>\n",
       "      <td>0.0</td>\n",
       "    </tr>\n",
       "    <tr>\n",
       "      <th>3</th>\n",
       "      <td>Anthony Ray</td>\n",
       "      <td>05/07/2017 1:17:59 PM</td>\n",
       "      <td>05/07/2017 1:48:14 PM</td>\n",
       "      <td>Cash</td>\n",
       "      <td>1</td>\n",
       "      <td>3.70</td>\n",
       "      <td>20.5</td>\n",
       "      <td>6.39</td>\n",
       "      <td>0.0</td>\n",
       "    </tr>\n",
       "    <tr>\n",
       "      <th>4</th>\n",
       "      <td>Brianna Johnson</td>\n",
       "      <td>04/15/2017 11:32:20 PM</td>\n",
       "      <td>04/15/2017 11:49:03 PM</td>\n",
       "      <td>Debit Card</td>\n",
       "      <td>1</td>\n",
       "      <td>4.37</td>\n",
       "      <td>16.5</td>\n",
       "      <td>0.00</td>\n",
       "      <td>0.0</td>\n",
       "    </tr>\n",
       "  </tbody>\n",
       "</table>\n",
       "</div>"
      ],
      "text/plain": [
       "    passenger_name    tpep_pickup_datetime   tpep_dropoff_datetime  \\\n",
       "0     Pamela Duffy   03/25/2017 8:55:43 AM   03/25/2017 9:09:47 AM   \n",
       "1  Michelle Foster   04/11/2017 2:53:28 PM   04/11/2017 3:19:58 PM   \n",
       "2       Tina Combs   12/15/2017 7:26:56 AM   12/15/2017 7:34:08 AM   \n",
       "3      Anthony Ray   05/07/2017 1:17:59 PM   05/07/2017 1:48:14 PM   \n",
       "4  Brianna Johnson  04/15/2017 11:32:20 PM  04/15/2017 11:49:03 PM   \n",
       "\n",
       "  payment_method  passenger_count  trip_distance  fare_amount  tip_amount  \\\n",
       "0     Debit Card                6           3.34         13.0        2.76   \n",
       "1     Debit Card                1           1.80         16.0        4.00   \n",
       "2     Debit Card                1           1.00          6.5        1.45   \n",
       "3           Cash                1           3.70         20.5        6.39   \n",
       "4     Debit Card                1           4.37         16.5        0.00   \n",
       "\n",
       "   tolls_amount  \n",
       "0           0.0  \n",
       "1           0.0  \n",
       "2           0.0  \n",
       "3           0.0  \n",
       "4           0.0  "
      ]
     },
     "execution_count": 3,
     "metadata": {},
     "output_type": "execute_result"
    }
   ],
   "source": [
    "data.head()"
   ]
  },
  {
   "cell_type": "code",
   "execution_count": 4,
   "id": "6ada2b60",
   "metadata": {},
   "outputs": [
    {
     "name": "stdout",
     "output_type": "stream",
     "text": [
      "<class 'pandas.core.frame.DataFrame'>\n",
      "RangeIndex: 22701 entries, 0 to 22700\n",
      "Data columns (total 9 columns):\n",
      " #   Column                 Non-Null Count  Dtype  \n",
      "---  ------                 --------------  -----  \n",
      " 0   passenger_name         22701 non-null  object \n",
      " 1   tpep_pickup_datetime   22701 non-null  object \n",
      " 2   tpep_dropoff_datetime  22701 non-null  object \n",
      " 3   payment_method         22701 non-null  object \n",
      " 4   passenger_count        22701 non-null  int64  \n",
      " 5   trip_distance          22701 non-null  float64\n",
      " 6   fare_amount            22698 non-null  float64\n",
      " 7   tip_amount             22701 non-null  float64\n",
      " 8   tolls_amount           22701 non-null  float64\n",
      "dtypes: float64(4), int64(1), object(4)\n",
      "memory usage: 1.6+ MB\n"
     ]
    }
   ],
   "source": [
    "# Q. info() 메서드를 사용하여 데이터 컬럼명과 자료형을 확인합니다.\n",
    "\n",
    "data.info()"
   ]
  },
  {
   "cell_type": "code",
   "execution_count": 5,
   "id": "cd998316",
   "metadata": {},
   "outputs": [
    {
     "data": {
      "text/html": [
       "<div>\n",
       "<style scoped>\n",
       "    .dataframe tbody tr th:only-of-type {\n",
       "        vertical-align: middle;\n",
       "    }\n",
       "\n",
       "    .dataframe tbody tr th {\n",
       "        vertical-align: top;\n",
       "    }\n",
       "\n",
       "    .dataframe thead th {\n",
       "        text-align: right;\n",
       "    }\n",
       "</style>\n",
       "<table border=\"1\" class=\"dataframe\">\n",
       "  <thead>\n",
       "    <tr style=\"text-align: right;\">\n",
       "      <th></th>\n",
       "      <th>passenger_count</th>\n",
       "      <th>trip_distance</th>\n",
       "      <th>fare_amount</th>\n",
       "      <th>tip_amount</th>\n",
       "      <th>tolls_amount</th>\n",
       "    </tr>\n",
       "  </thead>\n",
       "  <tbody>\n",
       "    <tr>\n",
       "      <th>count</th>\n",
       "      <td>22701.000000</td>\n",
       "      <td>22701.000000</td>\n",
       "      <td>22698.000000</td>\n",
       "      <td>22701.000000</td>\n",
       "      <td>22701.000000</td>\n",
       "    </tr>\n",
       "    <tr>\n",
       "      <th>mean</th>\n",
       "      <td>1.643584</td>\n",
       "      <td>2.913400</td>\n",
       "      <td>13.024009</td>\n",
       "      <td>1.835745</td>\n",
       "      <td>0.312514</td>\n",
       "    </tr>\n",
       "    <tr>\n",
       "      <th>std</th>\n",
       "      <td>1.304942</td>\n",
       "      <td>3.653023</td>\n",
       "      <td>13.240074</td>\n",
       "      <td>2.800537</td>\n",
       "      <td>1.399153</td>\n",
       "    </tr>\n",
       "    <tr>\n",
       "      <th>min</th>\n",
       "      <td>0.000000</td>\n",
       "      <td>0.000000</td>\n",
       "      <td>-120.000000</td>\n",
       "      <td>0.000000</td>\n",
       "      <td>0.000000</td>\n",
       "    </tr>\n",
       "    <tr>\n",
       "      <th>25%</th>\n",
       "      <td>1.000000</td>\n",
       "      <td>0.990000</td>\n",
       "      <td>6.500000</td>\n",
       "      <td>0.000000</td>\n",
       "      <td>0.000000</td>\n",
       "    </tr>\n",
       "    <tr>\n",
       "      <th>50%</th>\n",
       "      <td>1.000000</td>\n",
       "      <td>1.610000</td>\n",
       "      <td>9.500000</td>\n",
       "      <td>1.350000</td>\n",
       "      <td>0.000000</td>\n",
       "    </tr>\n",
       "    <tr>\n",
       "      <th>75%</th>\n",
       "      <td>2.000000</td>\n",
       "      <td>3.060000</td>\n",
       "      <td>14.500000</td>\n",
       "      <td>2.450000</td>\n",
       "      <td>0.000000</td>\n",
       "    </tr>\n",
       "    <tr>\n",
       "      <th>max</th>\n",
       "      <td>36.000000</td>\n",
       "      <td>33.960000</td>\n",
       "      <td>999.990000</td>\n",
       "      <td>200.000000</td>\n",
       "      <td>19.100000</td>\n",
       "    </tr>\n",
       "  </tbody>\n",
       "</table>\n",
       "</div>"
      ],
      "text/plain": [
       "       passenger_count  trip_distance   fare_amount    tip_amount  \\\n",
       "count     22701.000000   22701.000000  22698.000000  22701.000000   \n",
       "mean          1.643584       2.913400     13.024009      1.835745   \n",
       "std           1.304942       3.653023     13.240074      2.800537   \n",
       "min           0.000000       0.000000   -120.000000      0.000000   \n",
       "25%           1.000000       0.990000      6.500000      0.000000   \n",
       "50%           1.000000       1.610000      9.500000      1.350000   \n",
       "75%           2.000000       3.060000     14.500000      2.450000   \n",
       "max          36.000000      33.960000    999.990000    200.000000   \n",
       "\n",
       "       tolls_amount  \n",
       "count  22701.000000  \n",
       "mean       0.312514  \n",
       "std        1.399153  \n",
       "min        0.000000  \n",
       "25%        0.000000  \n",
       "50%        0.000000  \n",
       "75%        0.000000  \n",
       "max       19.100000  "
      ]
     },
     "execution_count": 5,
     "metadata": {},
     "output_type": "execute_result"
    }
   ],
   "source": [
    "# Q. describe() 메서드를 사용하여 데이터 컬럼별 통계량을 확인합니다.\n",
    "\n",
    "data.describe()"
   ]
  },
  {
   "cell_type": "code",
   "execution_count": 6,
   "id": "095c68a9",
   "metadata": {},
   "outputs": [
    {
     "name": "stdout",
     "output_type": "stream",
     "text": [
      "    passenger_name   tpep_pickup_datetime  tpep_dropoff_datetime  \\\n",
      "16     Sarah Gross  08/15/2017 7:48:08 PM  08/15/2017 8:00:37 PM   \n",
      "17     Sarah Gross  08/15/2017 7:48:08 PM  08/15/2017 8:00:37 PM   \n",
      "203   Lisa Bullock  02/13/2017 4:25:41 PM  02/13/2017 4:55:35 PM   \n",
      "204   Lisa Bullock  02/13/2017 4:25:41 PM  02/13/2017 4:55:35 PM   \n",
      "\n",
      "    payment_method  passenger_count  trip_distance  fare_amount  tip_amount  \\\n",
      "16            Cash                1            3.6         12.5        2.85   \n",
      "17            Cash                1            3.6         12.5        2.85   \n",
      "203           Cash                1            4.2         21.0        0.00   \n",
      "204           Cash                1            4.2         21.0        0.00   \n",
      "\n",
      "     tolls_amount  \n",
      "16            0.0  \n",
      "17            0.0  \n",
      "203           0.0  \n",
      "204           0.0  \n"
     ]
    }
   ],
   "source": [
    "# Q. 중복 데이터를 확인합니다.\n",
    "\n",
    "data.duplicated()\n",
    "\n",
    "dp_name  = data.duplicated( keep=False)\n",
    "print(data[dp_name])"
   ]
  },
  {
   "cell_type": "code",
   "execution_count": 7,
   "id": "a64d294b",
   "metadata": {},
   "outputs": [
    {
     "name": "stdout",
     "output_type": "stream",
     "text": [
      "   passenger_name   tpep_pickup_datetime  tpep_dropoff_datetime  \\\n",
      "16    Sarah Gross  08/15/2017 7:48:08 PM  08/15/2017 8:00:37 PM   \n",
      "17    Sarah Gross  08/15/2017 7:48:08 PM  08/15/2017 8:00:37 PM   \n",
      "\n",
      "   payment_method  passenger_count  trip_distance  fare_amount  tip_amount  \\\n",
      "16           Cash                1            3.6         12.5        2.85   \n",
      "17           Cash                1            3.6         12.5        2.85   \n",
      "\n",
      "    tolls_amount  \n",
      "16           0.0  \n",
      "17           0.0  \n",
      "    passenger_name   tpep_pickup_datetime  tpep_dropoff_datetime  \\\n",
      "203   Lisa Bullock  02/13/2017 4:25:41 PM  02/13/2017 4:55:35 PM   \n",
      "204   Lisa Bullock  02/13/2017 4:25:41 PM  02/13/2017 4:55:35 PM   \n",
      "\n",
      "    payment_method  passenger_count  trip_distance  fare_amount  tip_amount  \\\n",
      "203           Cash                1            4.2         21.0         0.0   \n",
      "204           Cash                1            4.2         21.0         0.0   \n",
      "\n",
      "     tolls_amount  \n",
      "203           0.0  \n",
      "204           0.0  \n"
     ]
    }
   ],
   "source": [
    "print(data[data['passenger_name'] == 'Sarah Gross'])\n",
    "print(data[data['passenger_name'] == 'Lisa Bullock'])"
   ]
  },
  {
   "cell_type": "code",
   "execution_count": 8,
   "id": "425bcef3",
   "metadata": {},
   "outputs": [],
   "source": [
    "# Q. 중복 데이터를 제거합니다.\n",
    "\n",
    "data = data.drop_duplicates( )"
   ]
  },
  {
   "cell_type": "code",
   "execution_count": 9,
   "id": "d48d29df",
   "metadata": {},
   "outputs": [
    {
     "data": {
      "text/html": [
       "<div>\n",
       "<style scoped>\n",
       "    .dataframe tbody tr th:only-of-type {\n",
       "        vertical-align: middle;\n",
       "    }\n",
       "\n",
       "    .dataframe tbody tr th {\n",
       "        vertical-align: top;\n",
       "    }\n",
       "\n",
       "    .dataframe thead th {\n",
       "        text-align: right;\n",
       "    }\n",
       "</style>\n",
       "<table border=\"1\" class=\"dataframe\">\n",
       "  <thead>\n",
       "    <tr style=\"text-align: right;\">\n",
       "      <th></th>\n",
       "      <th>passenger_name</th>\n",
       "      <th>tpep_pickup_datetime</th>\n",
       "      <th>tpep_dropoff_datetime</th>\n",
       "      <th>payment_method</th>\n",
       "      <th>passenger_count</th>\n",
       "      <th>trip_distance</th>\n",
       "      <th>fare_amount</th>\n",
       "      <th>tip_amount</th>\n",
       "      <th>tolls_amount</th>\n",
       "    </tr>\n",
       "  </thead>\n",
       "  <tbody>\n",
       "    <tr>\n",
       "      <th>0</th>\n",
       "      <td>Pamela Duffy</td>\n",
       "      <td>03/25/2017 8:55:43 AM</td>\n",
       "      <td>03/25/2017 9:09:47 AM</td>\n",
       "      <td>Debit Card</td>\n",
       "      <td>6</td>\n",
       "      <td>3.34</td>\n",
       "      <td>13.0</td>\n",
       "      <td>2.76</td>\n",
       "      <td>0.00</td>\n",
       "    </tr>\n",
       "    <tr>\n",
       "      <th>1</th>\n",
       "      <td>Michelle Foster</td>\n",
       "      <td>04/11/2017 2:53:28 PM</td>\n",
       "      <td>04/11/2017 3:19:58 PM</td>\n",
       "      <td>Debit Card</td>\n",
       "      <td>1</td>\n",
       "      <td>1.80</td>\n",
       "      <td>16.0</td>\n",
       "      <td>4.00</td>\n",
       "      <td>0.00</td>\n",
       "    </tr>\n",
       "    <tr>\n",
       "      <th>2</th>\n",
       "      <td>Tina Combs</td>\n",
       "      <td>12/15/2017 7:26:56 AM</td>\n",
       "      <td>12/15/2017 7:34:08 AM</td>\n",
       "      <td>Debit Card</td>\n",
       "      <td>1</td>\n",
       "      <td>1.00</td>\n",
       "      <td>6.5</td>\n",
       "      <td>1.45</td>\n",
       "      <td>0.00</td>\n",
       "    </tr>\n",
       "    <tr>\n",
       "      <th>3</th>\n",
       "      <td>Anthony Ray</td>\n",
       "      <td>05/07/2017 1:17:59 PM</td>\n",
       "      <td>05/07/2017 1:48:14 PM</td>\n",
       "      <td>Cash</td>\n",
       "      <td>1</td>\n",
       "      <td>3.70</td>\n",
       "      <td>20.5</td>\n",
       "      <td>6.39</td>\n",
       "      <td>0.00</td>\n",
       "    </tr>\n",
       "    <tr>\n",
       "      <th>4</th>\n",
       "      <td>Brianna Johnson</td>\n",
       "      <td>04/15/2017 11:32:20 PM</td>\n",
       "      <td>04/15/2017 11:49:03 PM</td>\n",
       "      <td>Debit Card</td>\n",
       "      <td>1</td>\n",
       "      <td>4.37</td>\n",
       "      <td>16.5</td>\n",
       "      <td>0.00</td>\n",
       "      <td>0.00</td>\n",
       "    </tr>\n",
       "    <tr>\n",
       "      <th>...</th>\n",
       "      <td>...</td>\n",
       "      <td>...</td>\n",
       "      <td>...</td>\n",
       "      <td>...</td>\n",
       "      <td>...</td>\n",
       "      <td>...</td>\n",
       "      <td>...</td>\n",
       "      <td>...</td>\n",
       "      <td>...</td>\n",
       "    </tr>\n",
       "    <tr>\n",
       "      <th>22696</th>\n",
       "      <td>Austin Johnson</td>\n",
       "      <td>02/24/2017 5:37:23 PM</td>\n",
       "      <td>02/24/2017 5:40:39 PM</td>\n",
       "      <td>Cash</td>\n",
       "      <td>3</td>\n",
       "      <td>0.61</td>\n",
       "      <td>4.0</td>\n",
       "      <td>0.00</td>\n",
       "      <td>0.00</td>\n",
       "    </tr>\n",
       "    <tr>\n",
       "      <th>22697</th>\n",
       "      <td>Monique Williams</td>\n",
       "      <td>08/06/2017 4:43:59 PM</td>\n",
       "      <td>08/06/2017 5:24:47 PM</td>\n",
       "      <td>Cash</td>\n",
       "      <td>1</td>\n",
       "      <td>16.71</td>\n",
       "      <td>52.0</td>\n",
       "      <td>14.64</td>\n",
       "      <td>5.76</td>\n",
       "    </tr>\n",
       "    <tr>\n",
       "      <th>22698</th>\n",
       "      <td>Drew Graves</td>\n",
       "      <td>09/04/2017 2:54:14 PM</td>\n",
       "      <td>09/04/2017 2:58:22 PM</td>\n",
       "      <td>Debit Card</td>\n",
       "      <td>1</td>\n",
       "      <td>0.42</td>\n",
       "      <td>4.5</td>\n",
       "      <td>0.00</td>\n",
       "      <td>0.00</td>\n",
       "    </tr>\n",
       "    <tr>\n",
       "      <th>22699</th>\n",
       "      <td>Jonathan Copeland</td>\n",
       "      <td>07/15/2017 12:56:30 PM</td>\n",
       "      <td>07/15/2017 1:08:26 PM</td>\n",
       "      <td>Debit Card</td>\n",
       "      <td>1</td>\n",
       "      <td>2.36</td>\n",
       "      <td>10.5</td>\n",
       "      <td>1.70</td>\n",
       "      <td>0.00</td>\n",
       "    </tr>\n",
       "    <tr>\n",
       "      <th>22700</th>\n",
       "      <td>Benjamin Miller</td>\n",
       "      <td>03/02/2017 1:02:49 PM</td>\n",
       "      <td>03/02/2017 1:16:09 PM</td>\n",
       "      <td>Cash</td>\n",
       "      <td>1</td>\n",
       "      <td>2.10</td>\n",
       "      <td>11.0</td>\n",
       "      <td>2.35</td>\n",
       "      <td>0.00</td>\n",
       "    </tr>\n",
       "  </tbody>\n",
       "</table>\n",
       "<p>22699 rows × 9 columns</p>\n",
       "</div>"
      ],
      "text/plain": [
       "          passenger_name    tpep_pickup_datetime   tpep_dropoff_datetime  \\\n",
       "0           Pamela Duffy   03/25/2017 8:55:43 AM   03/25/2017 9:09:47 AM   \n",
       "1        Michelle Foster   04/11/2017 2:53:28 PM   04/11/2017 3:19:58 PM   \n",
       "2             Tina Combs   12/15/2017 7:26:56 AM   12/15/2017 7:34:08 AM   \n",
       "3            Anthony Ray   05/07/2017 1:17:59 PM   05/07/2017 1:48:14 PM   \n",
       "4        Brianna Johnson  04/15/2017 11:32:20 PM  04/15/2017 11:49:03 PM   \n",
       "...                  ...                     ...                     ...   \n",
       "22696     Austin Johnson   02/24/2017 5:37:23 PM   02/24/2017 5:40:39 PM   \n",
       "22697   Monique Williams   08/06/2017 4:43:59 PM   08/06/2017 5:24:47 PM   \n",
       "22698        Drew Graves   09/04/2017 2:54:14 PM   09/04/2017 2:58:22 PM   \n",
       "22699  Jonathan Copeland  07/15/2017 12:56:30 PM   07/15/2017 1:08:26 PM   \n",
       "22700    Benjamin Miller   03/02/2017 1:02:49 PM   03/02/2017 1:16:09 PM   \n",
       "\n",
       "      payment_method  passenger_count  trip_distance  fare_amount  tip_amount  \\\n",
       "0         Debit Card                6           3.34         13.0        2.76   \n",
       "1         Debit Card                1           1.80         16.0        4.00   \n",
       "2         Debit Card                1           1.00          6.5        1.45   \n",
       "3               Cash                1           3.70         20.5        6.39   \n",
       "4         Debit Card                1           4.37         16.5        0.00   \n",
       "...              ...              ...            ...          ...         ...   \n",
       "22696           Cash                3           0.61          4.0        0.00   \n",
       "22697           Cash                1          16.71         52.0       14.64   \n",
       "22698     Debit Card                1           0.42          4.5        0.00   \n",
       "22699     Debit Card                1           2.36         10.5        1.70   \n",
       "22700           Cash                1           2.10         11.0        2.35   \n",
       "\n",
       "       tolls_amount  \n",
       "0              0.00  \n",
       "1              0.00  \n",
       "2              0.00  \n",
       "3              0.00  \n",
       "4              0.00  \n",
       "...             ...  \n",
       "22696          0.00  \n",
       "22697          5.76  \n",
       "22698          0.00  \n",
       "22699          0.00  \n",
       "22700          0.00  \n",
       "\n",
       "[22699 rows x 9 columns]"
      ]
     },
     "execution_count": 9,
     "metadata": {},
     "output_type": "execute_result"
    }
   ],
   "source": [
    "data"
   ]
  },
  {
   "cell_type": "code",
   "execution_count": 10,
   "id": "0d4b2a82",
   "metadata": {},
   "outputs": [
    {
     "data": {
      "text/plain": [
       "passenger_name           0\n",
       "tpep_pickup_datetime     0\n",
       "tpep_dropoff_datetime    0\n",
       "payment_method           0\n",
       "passenger_count          0\n",
       "trip_distance            0\n",
       "fare_amount              3\n",
       "tip_amount               0\n",
       "tolls_amount             0\n",
       "dtype: int64"
      ]
     },
     "execution_count": 10,
     "metadata": {},
     "output_type": "execute_result"
    }
   ],
   "source": [
    "data.isna().sum()"
   ]
  },
  {
   "cell_type": "code",
   "execution_count": 11,
   "id": "f6b1dde6",
   "metadata": {},
   "outputs": [
    {
     "data": {
      "text/plain": [
       "passenger_name           0.000000\n",
       "tpep_pickup_datetime     0.000000\n",
       "tpep_dropoff_datetime    0.000000\n",
       "payment_method           0.000000\n",
       "passenger_count          0.000000\n",
       "trip_distance            0.000000\n",
       "fare_amount              0.000132\n",
       "tip_amount               0.000000\n",
       "tolls_amount             0.000000\n",
       "dtype: float64"
      ]
     },
     "execution_count": 11,
     "metadata": {},
     "output_type": "execute_result"
    }
   ],
   "source": [
    "# Q. 전체 데이터 대비 결측치의 비율을 확인합니다.\n",
    "\n",
    "data.isna( ).mean( )"
   ]
  },
  {
   "cell_type": "code",
   "execution_count": 12,
   "id": "409acc52",
   "metadata": {},
   "outputs": [],
   "source": [
    "# Q. 결측치를 제거합니다.\n",
    "\n",
    "data = data.dropna()"
   ]
  },
  {
   "cell_type": "code",
   "execution_count": 13,
   "id": "f7ec91e2",
   "metadata": {},
   "outputs": [
    {
     "data": {
      "text/plain": [
       "passenger_name           0.0\n",
       "tpep_pickup_datetime     0.0\n",
       "tpep_dropoff_datetime    0.0\n",
       "payment_method           0.0\n",
       "passenger_count          0.0\n",
       "trip_distance            0.0\n",
       "fare_amount              0.0\n",
       "tip_amount               0.0\n",
       "tolls_amount             0.0\n",
       "dtype: float64"
      ]
     },
     "execution_count": 13,
     "metadata": {},
     "output_type": "execute_result"
    }
   ],
   "source": [
    "data.isna().mean()"
   ]
  },
  {
   "cell_type": "code",
   "execution_count": 14,
   "id": "88484f14",
   "metadata": {},
   "outputs": [
    {
     "data": {
      "text/plain": [
       "12804     0\n",
       "19458     0\n",
       "5565      0\n",
       "5670      0\n",
       "13718     0\n",
       "         ..\n",
       "416       6\n",
       "4322      6\n",
       "14500     6\n",
       "0         6\n",
       "64       36\n",
       "Name: passenger_count, Length: 22696, dtype: int64"
      ]
     },
     "execution_count": 14,
     "metadata": {},
     "output_type": "execute_result"
    }
   ],
   "source": [
    "# passenger_count 컬럼의 값을 기준으로 정렬합니다.\n",
    "\n",
    "data['passenger_count'].sort_values()"
   ]
  },
  {
   "cell_type": "code",
   "execution_count": 15,
   "id": "34dc444e",
   "metadata": {},
   "outputs": [
    {
     "data": {
      "text/plain": [
       "<AxesSubplot:ylabel='passenger_count'>"
      ]
     },
     "execution_count": 15,
     "metadata": {},
     "output_type": "execute_result"
    },
    {
     "data": {
      "image/png": "[encoded data removed]",
      "text/plain": [
       "<Figure size 432x288 with 1 Axes>"
      ]
     },
     "metadata": {
      "needs_background": "light"
     },
     "output_type": "display_data"
    }
   ],
   "source": [
    "# passenger_count 값의 scatter plot을 그립니다.\n",
    "\n",
    "sns.scatterplot(x = data.index, y = data['passenger_count'])"
   ]
  },
  {
   "cell_type": "code",
   "execution_count": 16,
   "id": "f8bd5c50",
   "metadata": {},
   "outputs": [],
   "source": [
    "# passenger_count 컬럼의 이상치를 제거합니다.\n",
    "# (passenger_count가 6을 초과하는 경우)\n",
    "\n",
    "data = data[data['passenger_count'] <= 6]"
   ]
  },
  {
   "cell_type": "code",
   "execution_count": 17,
   "id": "69fcab10",
   "metadata": {},
   "outputs": [
    {
     "data": {
      "text/plain": [
       "33"
      ]
     },
     "execution_count": 17,
     "metadata": {},
     "output_type": "execute_result"
    }
   ],
   "source": [
    "# passenger_count 컬럼의 이상치를 확인합니다.\n",
    "# (passenger_count가 0인 경우)\n",
    "\n",
    "len(data[data['passenger_count'] == 0])"
   ]
  },
  {
   "cell_type": "code",
   "execution_count": 18,
   "id": "e1010586",
   "metadata": {},
   "outputs": [],
   "source": [
    "# passenger_count 컬럼의 이상치를 제거합니다.\n",
    "\n",
    "data = data[data['passenger_count'] != 0]"
   ]
  },
  {
   "cell_type": "code",
   "execution_count": 19,
   "id": "f9e2cd95",
   "metadata": {},
   "outputs": [
    {
     "data": {
      "text/plain": [
       "<AxesSubplot:ylabel='passenger_count'>"
      ]
     },
     "execution_count": 19,
     "metadata": {},
     "output_type": "execute_result"
    },
    {
     "data": {
      "image/png": "[encoded data removed]",
      "text/plain": [
       "<Figure size 432x288 with 1 Axes>"
      ]
     },
     "metadata": {
      "needs_background": "light"
     },
     "output_type": "display_data"
    }
   ],
   "source": [
    "# passenger_count의 scatter plot을 다시 그려봅니다.\n",
    "\n",
    "sns.scatterplot(x = data.index, y = data['passenger_count'])"
   ]
  },
  {
   "cell_type": "code",
   "execution_count": 20,
   "id": "9e47656a",
   "metadata": {},
   "outputs": [
    {
     "name": "stderr",
     "output_type": "stream",
     "text": [
      "/opt/conda/lib/python3.9/site-packages/seaborn/distributions.py:2619: FutureWarning: `distplot` is a deprecated function and will be removed in a future version. Please adapt your code to use either `displot` (a figure-level function with similar flexibility) or `histplot` (an axes-level function for histograms).\n",
      "  warnings.warn(msg, FutureWarning)\n"
     ]
    },
    {
     "data": {
      "text/plain": [
       "<AxesSubplot:xlabel='trip_distance', ylabel='Density'>"
      ]
     },
     "execution_count": 20,
     "metadata": {},
     "output_type": "execute_result"
    },
    {
     "data": {
      "image/png": "[encoded data removed]",
      "text/plain": [
       "<Figure size 432x288 with 1 Axes>"
      ]
     },
     "metadata": {
      "needs_background": "light"
     },
     "output_type": "display_data"
    }
   ],
   "source": [
    "# Q. trip_distance의 이상치를 확인합니다.\n",
    "\n",
    "sns.distplot(data['trip_distance'])"
   ]
  },
  {
   "cell_type": "code",
   "execution_count": 21,
   "id": "622f96e4",
   "metadata": {},
   "outputs": [],
   "source": [
    "data = data[data['trip_distance'] <= 15]"
   ]
  },
  {
   "cell_type": "code",
   "execution_count": 22,
   "id": "693ed8cf",
   "metadata": {},
   "outputs": [
    {
     "name": "stderr",
     "output_type": "stream",
     "text": [
      "/opt/conda/lib/python3.9/site-packages/seaborn/distributions.py:2619: FutureWarning: `distplot` is a deprecated function and will be removed in a future version. Please adapt your code to use either `displot` (a figure-level function with similar flexibility) or `histplot` (an axes-level function for histograms).\n",
      "  warnings.warn(msg, FutureWarning)\n"
     ]
    },
    {
     "data": {
      "text/plain": [
       "<AxesSubplot:xlabel='trip_distance', ylabel='Density'>"
      ]
     },
     "execution_count": 22,
     "metadata": {},
     "output_type": "execute_result"
    },
    {
     "data": {
      "image/png": "[encoded data removed]",
      "text/plain": [
       "<Figure size 432x288 with 1 Axes>"
      ]
     },
     "metadata": {
      "needs_background": "light"
     },
     "output_type": "display_data"
    }
   ],
   "source": [
    "# Q. trip_distance의 히스토그램을 그립니다.\n",
    "\n",
    "sns.distplot(data['trip_distance']) "
   ]
  },
  {
   "cell_type": "code",
   "execution_count": 27,
   "id": "9f648abe",
   "metadata": {},
   "outputs": [
    {
     "data": {
      "text/html": [
       "<div>\n",
       "<style scoped>\n",
       "    .dataframe tbody tr th:only-of-type {\n",
       "        vertical-align: middle;\n",
       "    }\n",
       "\n",
       "    .dataframe tbody tr th {\n",
       "        vertical-align: top;\n",
       "    }\n",
       "\n",
       "    .dataframe thead th {\n",
       "        text-align: right;\n",
       "    }\n",
       "</style>\n",
       "<table border=\"1\" class=\"dataframe\">\n",
       "  <thead>\n",
       "    <tr style=\"text-align: right;\">\n",
       "      <th></th>\n",
       "      <th>passenger_count</th>\n",
       "      <th>trip_distance</th>\n",
       "      <th>tip_amount</th>\n",
       "      <th>tolls_amount</th>\n",
       "    </tr>\n",
       "  </thead>\n",
       "  <tbody>\n",
       "    <tr>\n",
       "      <th>count</th>\n",
       "      <td>22041.000000</td>\n",
       "      <td>22041.000000</td>\n",
       "      <td>22041.000000</td>\n",
       "      <td>22041.000000</td>\n",
       "    </tr>\n",
       "    <tr>\n",
       "      <th>mean</th>\n",
       "      <td>1.642212</td>\n",
       "      <td>2.465928</td>\n",
       "      <td>1.674179</td>\n",
       "      <td>0.196810</td>\n",
       "    </tr>\n",
       "    <tr>\n",
       "      <th>std</th>\n",
       "      <td>1.283578</td>\n",
       "      <td>2.495176</td>\n",
       "      <td>2.426917</td>\n",
       "      <td>1.075136</td>\n",
       "    </tr>\n",
       "    <tr>\n",
       "      <th>min</th>\n",
       "      <td>1.000000</td>\n",
       "      <td>0.000000</td>\n",
       "      <td>0.000000</td>\n",
       "      <td>0.000000</td>\n",
       "    </tr>\n",
       "    <tr>\n",
       "      <th>25%</th>\n",
       "      <td>1.000000</td>\n",
       "      <td>0.970000</td>\n",
       "      <td>0.000000</td>\n",
       "      <td>0.000000</td>\n",
       "    </tr>\n",
       "    <tr>\n",
       "      <th>50%</th>\n",
       "      <td>1.000000</td>\n",
       "      <td>1.600000</td>\n",
       "      <td>1.350000</td>\n",
       "      <td>0.000000</td>\n",
       "    </tr>\n",
       "    <tr>\n",
       "      <th>75%</th>\n",
       "      <td>2.000000</td>\n",
       "      <td>2.830000</td>\n",
       "      <td>2.350000</td>\n",
       "      <td>0.000000</td>\n",
       "    </tr>\n",
       "    <tr>\n",
       "      <th>max</th>\n",
       "      <td>6.000000</td>\n",
       "      <td>15.000000</td>\n",
       "      <td>200.000000</td>\n",
       "      <td>18.000000</td>\n",
       "    </tr>\n",
       "  </tbody>\n",
       "</table>\n",
       "</div>"
      ],
      "text/plain": [
       "       passenger_count  trip_distance    tip_amount  tolls_amount\n",
       "count     22041.000000   22041.000000  22041.000000  22041.000000\n",
       "mean          1.642212       2.465928      1.674179      0.196810\n",
       "std           1.283578       2.495176      2.426917      1.075136\n",
       "min           1.000000       0.000000      0.000000      0.000000\n",
       "25%           1.000000       0.970000      0.000000      0.000000\n",
       "50%           1.000000       1.600000      1.350000      0.000000\n",
       "75%           2.000000       2.830000      2.350000      0.000000\n",
       "max           6.000000      15.000000    200.000000     18.000000"
      ]
     },
     "execution_count": 27,
     "metadata": {},
     "output_type": "execute_result"
    }
   ],
   "source": [
    "data.describe()"
   ]
  },
  {
   "cell_type": "code",
   "execution_count": 23,
   "id": "f28e2f7a",
   "metadata": {},
   "outputs": [
    {
     "data": {
      "text/plain": [
       "14"
      ]
     },
     "execution_count": 23,
     "metadata": {},
     "output_type": "execute_result"
    }
   ],
   "source": [
    "# Q. fare_amount의 이상치 데이터 개수를 확인합니다.\n",
    "# (fare_amount가 0 이하인 경우)\n",
    "len(data[data['fare_amount'] < 0])"
   ]
  },
  {
   "cell_type": "code",
   "execution_count": 24,
   "id": "1b10e586",
   "metadata": {},
   "outputs": [],
   "source": [
    "# Q. fare_amount의 이상치를 제거합니다.\n",
    "\n",
    "data = data[data['fare_amount'] > 0]\n"
   ]
  },
  {
   "cell_type": "code",
   "execution_count": 25,
   "id": "57222c22",
   "metadata": {},
   "outputs": [
    {
     "data": {
      "text/html": [
       "<div>\n",
       "<style scoped>\n",
       "    .dataframe tbody tr th:only-of-type {\n",
       "        vertical-align: middle;\n",
       "    }\n",
       "\n",
       "    .dataframe tbody tr th {\n",
       "        vertical-align: top;\n",
       "    }\n",
       "\n",
       "    .dataframe thead th {\n",
       "        text-align: right;\n",
       "    }\n",
       "</style>\n",
       "<table border=\"1\" class=\"dataframe\">\n",
       "  <thead>\n",
       "    <tr style=\"text-align: right;\">\n",
       "      <th></th>\n",
       "      <th>passenger_name</th>\n",
       "      <th>tpep_pickup_datetime</th>\n",
       "      <th>tpep_dropoff_datetime</th>\n",
       "      <th>payment_method</th>\n",
       "      <th>passenger_count</th>\n",
       "      <th>trip_distance</th>\n",
       "      <th>fare_amount</th>\n",
       "      <th>tip_amount</th>\n",
       "      <th>tolls_amount</th>\n",
       "    </tr>\n",
       "  </thead>\n",
       "  <tbody>\n",
       "    <tr>\n",
       "      <th>14285</th>\n",
       "      <td>Mark Reed</td>\n",
       "      <td>05/03/2017 7:44:28 PM</td>\n",
       "      <td>05/03/2017 7:44:38 PM</td>\n",
       "      <td>Debit Card</td>\n",
       "      <td>1</td>\n",
       "      <td>0.00</td>\n",
       "      <td>0.01</td>\n",
       "      <td>0.00</td>\n",
       "      <td>0.00</td>\n",
       "    </tr>\n",
       "    <tr>\n",
       "      <th>4063</th>\n",
       "      <td>Phillip Gonzalez</td>\n",
       "      <td>08/12/2017 8:49:29 PM</td>\n",
       "      <td>08/12/2017 9:18:50 PM</td>\n",
       "      <td>Cash</td>\n",
       "      <td>4</td>\n",
       "      <td>4.50</td>\n",
       "      <td>0.01</td>\n",
       "      <td>0.00</td>\n",
       "      <td>10.50</td>\n",
       "    </tr>\n",
       "    <tr>\n",
       "      <th>13972</th>\n",
       "      <td>Matthew Blake</td>\n",
       "      <td>02/23/2017 9:21:25 AM</td>\n",
       "      <td>02/23/2017 9:21:57 AM</td>\n",
       "      <td>Cash</td>\n",
       "      <td>1</td>\n",
       "      <td>0.00</td>\n",
       "      <td>1.00</td>\n",
       "      <td>0.00</td>\n",
       "      <td>0.00</td>\n",
       "    </tr>\n",
       "    <tr>\n",
       "      <th>9190</th>\n",
       "      <td>Valerie Vasquez</td>\n",
       "      <td>03/31/2017 5:29:19 AM</td>\n",
       "      <td>03/31/2017 5:29:32 AM</td>\n",
       "      <td>Cash</td>\n",
       "      <td>1</td>\n",
       "      <td>0.01</td>\n",
       "      <td>2.50</td>\n",
       "      <td>0.00</td>\n",
       "      <td>0.00</td>\n",
       "    </tr>\n",
       "    <tr>\n",
       "      <th>21595</th>\n",
       "      <td>Timothy Ramirez</td>\n",
       "      <td>04/14/2017 9:18:30 PM</td>\n",
       "      <td>04/14/2017 9:18:32 PM</td>\n",
       "      <td>Credit Card</td>\n",
       "      <td>1</td>\n",
       "      <td>1.20</td>\n",
       "      <td>2.50</td>\n",
       "      <td>0.00</td>\n",
       "      <td>0.00</td>\n",
       "    </tr>\n",
       "    <tr>\n",
       "      <th>...</th>\n",
       "      <td>...</td>\n",
       "      <td>...</td>\n",
       "      <td>...</td>\n",
       "      <td>...</td>\n",
       "      <td>...</td>\n",
       "      <td>...</td>\n",
       "      <td>...</td>\n",
       "      <td>...</td>\n",
       "      <td>...</td>\n",
       "    </tr>\n",
       "    <tr>\n",
       "      <th>3584</th>\n",
       "      <td>Matthew Chavez</td>\n",
       "      <td>01/01/2017 11:53:01 PM</td>\n",
       "      <td>01/01/2017 11:53:42 PM</td>\n",
       "      <td>Credit Card</td>\n",
       "      <td>1</td>\n",
       "      <td>7.30</td>\n",
       "      <td>152.00</td>\n",
       "      <td>0.00</td>\n",
       "      <td>0.00</td>\n",
       "    </tr>\n",
       "    <tr>\n",
       "      <th>12513</th>\n",
       "      <td>Mr. Wesley Reyes</td>\n",
       "      <td>12/17/2017 6:24:24 PM</td>\n",
       "      <td>12/17/2017 6:24:42 PM</td>\n",
       "      <td>Cash</td>\n",
       "      <td>1</td>\n",
       "      <td>0.00</td>\n",
       "      <td>175.00</td>\n",
       "      <td>46.69</td>\n",
       "      <td>11.75</td>\n",
       "    </tr>\n",
       "    <tr>\n",
       "      <th>15476</th>\n",
       "      <td>James Dyer MD</td>\n",
       "      <td>06/06/2017 8:55:01 PM</td>\n",
       "      <td>06/06/2017 8:55:06 PM</td>\n",
       "      <td>Debit Card</td>\n",
       "      <td>1</td>\n",
       "      <td>0.00</td>\n",
       "      <td>200.00</td>\n",
       "      <td>11.00</td>\n",
       "      <td>0.00</td>\n",
       "    </tr>\n",
       "    <tr>\n",
       "      <th>20314</th>\n",
       "      <td>Nicholas Thomas</td>\n",
       "      <td>12/19/2017 9:40:46 AM</td>\n",
       "      <td>12/19/2017 9:40:55 AM</td>\n",
       "      <td>Cash</td>\n",
       "      <td>2</td>\n",
       "      <td>0.00</td>\n",
       "      <td>450.00</td>\n",
       "      <td>0.00</td>\n",
       "      <td>0.00</td>\n",
       "    </tr>\n",
       "    <tr>\n",
       "      <th>8478</th>\n",
       "      <td>Alexis Hanson</td>\n",
       "      <td>02/06/2017 5:50:10 AM</td>\n",
       "      <td>02/06/2017 5:51:08 AM</td>\n",
       "      <td>Credit Card</td>\n",
       "      <td>1</td>\n",
       "      <td>2.60</td>\n",
       "      <td>999.99</td>\n",
       "      <td>200.00</td>\n",
       "      <td>0.00</td>\n",
       "    </tr>\n",
       "  </tbody>\n",
       "</table>\n",
       "<p>22021 rows × 9 columns</p>\n",
       "</div>"
      ],
      "text/plain": [
       "         passenger_name    tpep_pickup_datetime   tpep_dropoff_datetime  \\\n",
       "14285         Mark Reed   05/03/2017 7:44:28 PM   05/03/2017 7:44:38 PM   \n",
       "4063   Phillip Gonzalez   08/12/2017 8:49:29 PM   08/12/2017 9:18:50 PM   \n",
       "13972     Matthew Blake   02/23/2017 9:21:25 AM   02/23/2017 9:21:57 AM   \n",
       "9190    Valerie Vasquez   03/31/2017 5:29:19 AM   03/31/2017 5:29:32 AM   \n",
       "21595   Timothy Ramirez   04/14/2017 9:18:30 PM   04/14/2017 9:18:32 PM   \n",
       "...                 ...                     ...                     ...   \n",
       "3584     Matthew Chavez  01/01/2017 11:53:01 PM  01/01/2017 11:53:42 PM   \n",
       "12513  Mr. Wesley Reyes   12/17/2017 6:24:24 PM   12/17/2017 6:24:42 PM   \n",
       "15476     James Dyer MD   06/06/2017 8:55:01 PM   06/06/2017 8:55:06 PM   \n",
       "20314   Nicholas Thomas   12/19/2017 9:40:46 AM   12/19/2017 9:40:55 AM   \n",
       "8478      Alexis Hanson   02/06/2017 5:50:10 AM   02/06/2017 5:51:08 AM   \n",
       "\n",
       "      payment_method  passenger_count  trip_distance  fare_amount  tip_amount  \\\n",
       "14285     Debit Card                1           0.00         0.01        0.00   \n",
       "4063            Cash                4           4.50         0.01        0.00   \n",
       "13972           Cash                1           0.00         1.00        0.00   \n",
       "9190            Cash                1           0.01         2.50        0.00   \n",
       "21595    Credit Card                1           1.20         2.50        0.00   \n",
       "...              ...              ...            ...          ...         ...   \n",
       "3584     Credit Card                1           7.30       152.00        0.00   \n",
       "12513           Cash                1           0.00       175.00       46.69   \n",
       "15476     Debit Card                1           0.00       200.00       11.00   \n",
       "20314           Cash                2           0.00       450.00        0.00   \n",
       "8478     Credit Card                1           2.60       999.99      200.00   \n",
       "\n",
       "       tolls_amount  \n",
       "14285          0.00  \n",
       "4063          10.50  \n",
       "13972          0.00  \n",
       "9190           0.00  \n",
       "21595          0.00  \n",
       "...             ...  \n",
       "3584           0.00  \n",
       "12513         11.75  \n",
       "15476          0.00  \n",
       "20314          0.00  \n",
       "8478           0.00  \n",
       "\n",
       "[22021 rows x 9 columns]"
      ]
     },
     "execution_count": 25,
     "metadata": {},
     "output_type": "execute_result"
    }
   ],
   "source": [
    "data.sort_values('fare_amount')"
   ]
  },
  {
   "cell_type": "code",
   "execution_count": 26,
   "id": "9a96c1e3",
   "metadata": {},
   "outputs": [],
   "source": [
    "# Q. fare_amount의 이상치를 제거합니다.\n",
    "data = data[data['fare_amount'] < 900]"
   ]
  },
  {
   "cell_type": "code",
   "execution_count": 27,
   "id": "030dd877",
   "metadata": {},
   "outputs": [
    {
     "data": {
      "text/plain": [
       "<AxesSubplot:ylabel='fare_amount'>"
      ]
     },
     "execution_count": 27,
     "metadata": {},
     "output_type": "execute_result"
    },
    {
     "data": {
      "image/png": "[encoded data removed]",
      "text/plain": [
       "<Figure size 432x288 with 1 Axes>"
      ]
     },
     "metadata": {
      "needs_background": "light"
     },
     "output_type": "display_data"
    }
   ],
   "source": [
    "# Q. fare_amount의 scatter plot을 그립니다.\n",
    "\n",
    "sns.scatterplot(x = data.index, y = data['fare_amount'])"
   ]
  },
  {
   "cell_type": "code",
   "execution_count": 28,
   "id": "5c01fe58",
   "metadata": {},
   "outputs": [],
   "source": [
    "# fare_amount가 150을 초과한다면 150으로 변환합니다.\n",
    "\n",
    "def fare_func(x):\n",
    "    if x > 150:\n",
    "        return 150\n",
    "    else:\n",
    "        return x"
   ]
  },
  {
   "cell_type": "code",
   "execution_count": 29,
   "id": "19f820fc",
   "metadata": {},
   "outputs": [
    {
     "data": {
      "text/plain": [
       "0        13.0\n",
       "1        16.0\n",
       "2         6.5\n",
       "3        20.5\n",
       "4        16.5\n",
       "         ... \n",
       "22695     7.5\n",
       "22696     4.0\n",
       "22698     4.5\n",
       "22699    10.5\n",
       "22700    11.0\n",
       "Name: fare_amount, Length: 22020, dtype: float64"
      ]
     },
     "execution_count": 29,
     "metadata": {},
     "output_type": "execute_result"
    }
   ],
   "source": [
    "data['fare_amount'].apply(fare_func)"
   ]
  },
  {
   "cell_type": "code",
   "execution_count": 30,
   "id": "71ab860b",
   "metadata": {},
   "outputs": [],
   "source": [
    "data['fare_amount'] = data['fare_amount'].apply(lambda x: 150 if x > 150 else x)"
   ]
  },
  {
   "cell_type": "code",
   "execution_count": 31,
   "id": "c403fe97",
   "metadata": {},
   "outputs": [
    {
     "data": {
      "text/html": [
       "<div>\n",
       "<style scoped>\n",
       "    .dataframe tbody tr th:only-of-type {\n",
       "        vertical-align: middle;\n",
       "    }\n",
       "\n",
       "    .dataframe tbody tr th {\n",
       "        vertical-align: top;\n",
       "    }\n",
       "\n",
       "    .dataframe thead th {\n",
       "        text-align: right;\n",
       "    }\n",
       "</style>\n",
       "<table border=\"1\" class=\"dataframe\">\n",
       "  <thead>\n",
       "    <tr style=\"text-align: right;\">\n",
       "      <th></th>\n",
       "      <th>passenger_name</th>\n",
       "      <th>tpep_pickup_datetime</th>\n",
       "      <th>tpep_dropoff_datetime</th>\n",
       "      <th>payment_method</th>\n",
       "      <th>passenger_count</th>\n",
       "      <th>trip_distance</th>\n",
       "      <th>fare_amount</th>\n",
       "      <th>tip_amount</th>\n",
       "      <th>tolls_amount</th>\n",
       "    </tr>\n",
       "  </thead>\n",
       "  <tbody>\n",
       "    <tr>\n",
       "      <th>14285</th>\n",
       "      <td>Mark Reed</td>\n",
       "      <td>05/03/2017 7:44:28 PM</td>\n",
       "      <td>05/03/2017 7:44:38 PM</td>\n",
       "      <td>Debit Card</td>\n",
       "      <td>1</td>\n",
       "      <td>0.0</td>\n",
       "      <td>0.01</td>\n",
       "      <td>0.00</td>\n",
       "      <td>0.00</td>\n",
       "    </tr>\n",
       "    <tr>\n",
       "      <th>4063</th>\n",
       "      <td>Phillip Gonzalez</td>\n",
       "      <td>08/12/2017 8:49:29 PM</td>\n",
       "      <td>08/12/2017 9:18:50 PM</td>\n",
       "      <td>Cash</td>\n",
       "      <td>4</td>\n",
       "      <td>4.5</td>\n",
       "      <td>0.01</td>\n",
       "      <td>0.00</td>\n",
       "      <td>10.50</td>\n",
       "    </tr>\n",
       "    <tr>\n",
       "      <th>13972</th>\n",
       "      <td>Matthew Blake</td>\n",
       "      <td>02/23/2017 9:21:25 AM</td>\n",
       "      <td>02/23/2017 9:21:57 AM</td>\n",
       "      <td>Cash</td>\n",
       "      <td>1</td>\n",
       "      <td>0.0</td>\n",
       "      <td>1.00</td>\n",
       "      <td>0.00</td>\n",
       "      <td>0.00</td>\n",
       "    </tr>\n",
       "    <tr>\n",
       "      <th>248</th>\n",
       "      <td>Erik Perez</td>\n",
       "      <td>09/18/2017 8:50:53 PM</td>\n",
       "      <td>09/18/2017 8:51:03 PM</td>\n",
       "      <td>Cash</td>\n",
       "      <td>1</td>\n",
       "      <td>0.0</td>\n",
       "      <td>2.50</td>\n",
       "      <td>0.00</td>\n",
       "      <td>0.00</td>\n",
       "    </tr>\n",
       "    <tr>\n",
       "      <th>18699</th>\n",
       "      <td>Donna Silva</td>\n",
       "      <td>12/01/2017 12:03:08 PM</td>\n",
       "      <td>12/01/2017 12:03:13 PM</td>\n",
       "      <td>Cash</td>\n",
       "      <td>1</td>\n",
       "      <td>0.0</td>\n",
       "      <td>2.50</td>\n",
       "      <td>0.00</td>\n",
       "      <td>0.00</td>\n",
       "    </tr>\n",
       "    <tr>\n",
       "      <th>...</th>\n",
       "      <td>...</td>\n",
       "      <td>...</td>\n",
       "      <td>...</td>\n",
       "      <td>...</td>\n",
       "      <td>...</td>\n",
       "      <td>...</td>\n",
       "      <td>...</td>\n",
       "      <td>...</td>\n",
       "      <td>...</td>\n",
       "    </tr>\n",
       "    <tr>\n",
       "      <th>1930</th>\n",
       "      <td>Cameron Long</td>\n",
       "      <td>06/16/2017 6:30:08 PM</td>\n",
       "      <td>06/16/2017 7:18:50 PM</td>\n",
       "      <td>Debit Card</td>\n",
       "      <td>2</td>\n",
       "      <td>12.5</td>\n",
       "      <td>120.00</td>\n",
       "      <td>5.00</td>\n",
       "      <td>12.50</td>\n",
       "    </tr>\n",
       "    <tr>\n",
       "      <th>20314</th>\n",
       "      <td>Nicholas Thomas</td>\n",
       "      <td>12/19/2017 9:40:46 AM</td>\n",
       "      <td>12/19/2017 9:40:55 AM</td>\n",
       "      <td>Cash</td>\n",
       "      <td>2</td>\n",
       "      <td>0.0</td>\n",
       "      <td>150.00</td>\n",
       "      <td>0.00</td>\n",
       "      <td>0.00</td>\n",
       "    </tr>\n",
       "    <tr>\n",
       "      <th>15476</th>\n",
       "      <td>James Dyer MD</td>\n",
       "      <td>06/06/2017 8:55:01 PM</td>\n",
       "      <td>06/06/2017 8:55:06 PM</td>\n",
       "      <td>Debit Card</td>\n",
       "      <td>1</td>\n",
       "      <td>0.0</td>\n",
       "      <td>150.00</td>\n",
       "      <td>11.00</td>\n",
       "      <td>0.00</td>\n",
       "    </tr>\n",
       "    <tr>\n",
       "      <th>3584</th>\n",
       "      <td>Matthew Chavez</td>\n",
       "      <td>01/01/2017 11:53:01 PM</td>\n",
       "      <td>01/01/2017 11:53:42 PM</td>\n",
       "      <td>Credit Card</td>\n",
       "      <td>1</td>\n",
       "      <td>7.3</td>\n",
       "      <td>150.00</td>\n",
       "      <td>0.00</td>\n",
       "      <td>0.00</td>\n",
       "    </tr>\n",
       "    <tr>\n",
       "      <th>12513</th>\n",
       "      <td>Mr. Wesley Reyes</td>\n",
       "      <td>12/17/2017 6:24:24 PM</td>\n",
       "      <td>12/17/2017 6:24:42 PM</td>\n",
       "      <td>Cash</td>\n",
       "      <td>1</td>\n",
       "      <td>0.0</td>\n",
       "      <td>150.00</td>\n",
       "      <td>46.69</td>\n",
       "      <td>11.75</td>\n",
       "    </tr>\n",
       "  </tbody>\n",
       "</table>\n",
       "<p>22020 rows × 9 columns</p>\n",
       "</div>"
      ],
      "text/plain": [
       "         passenger_name    tpep_pickup_datetime   tpep_dropoff_datetime  \\\n",
       "14285         Mark Reed   05/03/2017 7:44:28 PM   05/03/2017 7:44:38 PM   \n",
       "4063   Phillip Gonzalez   08/12/2017 8:49:29 PM   08/12/2017 9:18:50 PM   \n",
       "13972     Matthew Blake   02/23/2017 9:21:25 AM   02/23/2017 9:21:57 AM   \n",
       "248          Erik Perez   09/18/2017 8:50:53 PM   09/18/2017 8:51:03 PM   \n",
       "18699       Donna Silva  12/01/2017 12:03:08 PM  12/01/2017 12:03:13 PM   \n",
       "...                 ...                     ...                     ...   \n",
       "1930       Cameron Long   06/16/2017 6:30:08 PM   06/16/2017 7:18:50 PM   \n",
       "20314   Nicholas Thomas   12/19/2017 9:40:46 AM   12/19/2017 9:40:55 AM   \n",
       "15476     James Dyer MD   06/06/2017 8:55:01 PM   06/06/2017 8:55:06 PM   \n",
       "3584     Matthew Chavez  01/01/2017 11:53:01 PM  01/01/2017 11:53:42 PM   \n",
       "12513  Mr. Wesley Reyes   12/17/2017 6:24:24 PM   12/17/2017 6:24:42 PM   \n",
       "\n",
       "      payment_method  passenger_count  trip_distance  fare_amount  tip_amount  \\\n",
       "14285     Debit Card                1            0.0         0.01        0.00   \n",
       "4063            Cash                4            4.5         0.01        0.00   \n",
       "13972           Cash                1            0.0         1.00        0.00   \n",
       "248             Cash                1            0.0         2.50        0.00   \n",
       "18699           Cash                1            0.0         2.50        0.00   \n",
       "...              ...              ...            ...          ...         ...   \n",
       "1930      Debit Card                2           12.5       120.00        5.00   \n",
       "20314           Cash                2            0.0       150.00        0.00   \n",
       "15476     Debit Card                1            0.0       150.00       11.00   \n",
       "3584     Credit Card                1            7.3       150.00        0.00   \n",
       "12513           Cash                1            0.0       150.00       46.69   \n",
       "\n",
       "       tolls_amount  \n",
       "14285          0.00  \n",
       "4063          10.50  \n",
       "13972          0.00  \n",
       "248            0.00  \n",
       "18699          0.00  \n",
       "...             ...  \n",
       "1930          12.50  \n",
       "20314          0.00  \n",
       "15476          0.00  \n",
       "3584           0.00  \n",
       "12513         11.75  \n",
       "\n",
       "[22020 rows x 9 columns]"
      ]
     },
     "execution_count": 31,
     "metadata": {},
     "output_type": "execute_result"
    }
   ],
   "source": [
    "data.sort_values('fare_amount')"
   ]
  },
  {
   "cell_type": "code",
   "execution_count": 32,
   "id": "8f811b41",
   "metadata": {},
   "outputs": [
    {
     "data": {
      "text/plain": [
       "<AxesSubplot:ylabel='fare_amount'>"
      ]
     },
     "execution_count": 32,
     "metadata": {},
     "output_type": "execute_result"
    },
    {
     "data": {
      "image/png": "[encoded data removed]",
      "text/plain": [
       "<Figure size 432x288 with 1 Axes>"
      ]
     },
     "metadata": {
      "needs_background": "light"
     },
     "output_type": "display_data"
    }
   ],
   "source": [
    "# Q. tip_amount의 scatter plot을 그립니다.\n",
    "\n",
    "sns.scatterplot(x = data.index, y = data['fare_amount'])"
   ]
  },
  {
   "cell_type": "code",
   "execution_count": 33,
   "id": "21222894",
   "metadata": {},
   "outputs": [
    {
     "data": {
      "text/plain": [
       "<AxesSubplot:ylabel='tip_amount'>"
      ]
     },
     "execution_count": 33,
     "metadata": {},
     "output_type": "execute_result"
    },
    {
     "data": {
      "image/png": "[encoded data removed]",
      "text/plain": [
       "<Figure size 432x288 with 1 Axes>"
      ]
     },
     "metadata": {
      "needs_background": "light"
     },
     "output_type": "display_data"
    }
   ],
   "source": [
    "# Q. tip_amount의 이상치를 확인합니다.\n",
    "\n",
    "sns.scatterplot(x = data.index, y = data['tip_amount'])"
   ]
  },
  {
   "cell_type": "code",
   "execution_count": 34,
   "id": "983956d5",
   "metadata": {},
   "outputs": [],
   "source": [
    "# Q. tip_amount의 이상치를 제거합니다.\n",
    "data = data[data['tip_amount'] < 40]"
   ]
  },
  {
   "cell_type": "code",
   "execution_count": 35,
   "id": "81f65e35",
   "metadata": {},
   "outputs": [
    {
     "data": {
      "text/plain": [
       "22019"
      ]
     },
     "execution_count": 35,
     "metadata": {},
     "output_type": "execute_result"
    }
   ],
   "source": [
    "len(data)"
   ]
  },
  {
   "cell_type": "code",
   "execution_count": 36,
   "id": "db156322",
   "metadata": {},
   "outputs": [
    {
     "data": {
      "text/plain": [
       "<AxesSubplot:ylabel='tolls_amount'>"
      ]
     },
     "execution_count": 36,
     "metadata": {},
     "output_type": "execute_result"
    },
    {
     "data": {
      "image/png": "[encoded data removed]",
      "text/plain": [
       "<Figure size 432x288 with 1 Axes>"
      ]
     },
     "metadata": {
      "needs_background": "light"
     },
     "output_type": "display_data"
    }
   ],
   "source": [
    "# Q. tolls_amount의 scatter plot을 그립니다.\n",
    "\n",
    "sns.scatterplot(x = data.index, y = data['tolls_amount'])"
   ]
  },
  {
   "cell_type": "code",
   "execution_count": 37,
   "id": "763c061f",
   "metadata": {},
   "outputs": [
    {
     "data": {
      "text/html": [
       "<div>\n",
       "<style scoped>\n",
       "    .dataframe tbody tr th:only-of-type {\n",
       "        vertical-align: middle;\n",
       "    }\n",
       "\n",
       "    .dataframe tbody tr th {\n",
       "        vertical-align: top;\n",
       "    }\n",
       "\n",
       "    .dataframe thead th {\n",
       "        text-align: right;\n",
       "    }\n",
       "</style>\n",
       "<table border=\"1\" class=\"dataframe\">\n",
       "  <thead>\n",
       "    <tr style=\"text-align: right;\">\n",
       "      <th></th>\n",
       "      <th>passenger_name</th>\n",
       "      <th>tpep_pickup_datetime</th>\n",
       "      <th>tpep_dropoff_datetime</th>\n",
       "      <th>payment_method</th>\n",
       "      <th>passenger_count</th>\n",
       "      <th>trip_distance</th>\n",
       "      <th>fare_amount</th>\n",
       "      <th>tip_amount</th>\n",
       "      <th>tolls_amount</th>\n",
       "    </tr>\n",
       "  </thead>\n",
       "  <tbody>\n",
       "    <tr>\n",
       "      <th>0</th>\n",
       "      <td>Pamela Duffy</td>\n",
       "      <td>03/25/2017 8:55:43 AM</td>\n",
       "      <td>03/25/2017 9:09:47 AM</td>\n",
       "      <td>Debit Card</td>\n",
       "      <td>6</td>\n",
       "      <td>3.34</td>\n",
       "      <td>13.00</td>\n",
       "      <td>2.76</td>\n",
       "      <td>0.00</td>\n",
       "    </tr>\n",
       "    <tr>\n",
       "      <th>1</th>\n",
       "      <td>Michelle Foster</td>\n",
       "      <td>04/11/2017 2:53:28 PM</td>\n",
       "      <td>04/11/2017 3:19:58 PM</td>\n",
       "      <td>Debit Card</td>\n",
       "      <td>1</td>\n",
       "      <td>1.80</td>\n",
       "      <td>16.00</td>\n",
       "      <td>4.00</td>\n",
       "      <td>0.00</td>\n",
       "    </tr>\n",
       "    <tr>\n",
       "      <th>2</th>\n",
       "      <td>Tina Combs</td>\n",
       "      <td>12/15/2017 7:26:56 AM</td>\n",
       "      <td>12/15/2017 7:34:08 AM</td>\n",
       "      <td>Debit Card</td>\n",
       "      <td>1</td>\n",
       "      <td>1.00</td>\n",
       "      <td>6.50</td>\n",
       "      <td>1.45</td>\n",
       "      <td>0.00</td>\n",
       "    </tr>\n",
       "    <tr>\n",
       "      <th>3</th>\n",
       "      <td>Anthony Ray</td>\n",
       "      <td>05/07/2017 1:17:59 PM</td>\n",
       "      <td>05/07/2017 1:48:14 PM</td>\n",
       "      <td>Cash</td>\n",
       "      <td>1</td>\n",
       "      <td>3.70</td>\n",
       "      <td>20.50</td>\n",
       "      <td>6.39</td>\n",
       "      <td>0.00</td>\n",
       "    </tr>\n",
       "    <tr>\n",
       "      <th>4</th>\n",
       "      <td>Brianna Johnson</td>\n",
       "      <td>04/15/2017 11:32:20 PM</td>\n",
       "      <td>04/15/2017 11:49:03 PM</td>\n",
       "      <td>Debit Card</td>\n",
       "      <td>1</td>\n",
       "      <td>4.37</td>\n",
       "      <td>16.50</td>\n",
       "      <td>0.00</td>\n",
       "      <td>0.00</td>\n",
       "    </tr>\n",
       "    <tr>\n",
       "      <th>5</th>\n",
       "      <td>Justin Smith</td>\n",
       "      <td>03/25/2017 8:34:11 PM</td>\n",
       "      <td>03/25/2017 8:42:11 PM</td>\n",
       "      <td>Debit Card</td>\n",
       "      <td>6</td>\n",
       "      <td>2.30</td>\n",
       "      <td>9.00</td>\n",
       "      <td>2.06</td>\n",
       "      <td>0.00</td>\n",
       "    </tr>\n",
       "    <tr>\n",
       "      <th>6</th>\n",
       "      <td>Tonya Moreno</td>\n",
       "      <td>05/03/2017 7:04:09 PM</td>\n",
       "      <td>05/03/2017 8:03:47 PM</td>\n",
       "      <td>Cash</td>\n",
       "      <td>1</td>\n",
       "      <td>12.83</td>\n",
       "      <td>47.50</td>\n",
       "      <td>9.86</td>\n",
       "      <td>0.00</td>\n",
       "    </tr>\n",
       "    <tr>\n",
       "      <th>7</th>\n",
       "      <td>Hannah Foley</td>\n",
       "      <td>08/15/2017 5:41:06 PM</td>\n",
       "      <td>08/15/2017 6:03:05 PM</td>\n",
       "      <td>Debit Card</td>\n",
       "      <td>1</td>\n",
       "      <td>2.98</td>\n",
       "      <td>16.00</td>\n",
       "      <td>1.78</td>\n",
       "      <td>0.00</td>\n",
       "    </tr>\n",
       "    <tr>\n",
       "      <th>8</th>\n",
       "      <td>Katie Whitney</td>\n",
       "      <td>02/04/2017 4:17:07 PM</td>\n",
       "      <td>02/04/2017 4:29:14 PM</td>\n",
       "      <td>Cash</td>\n",
       "      <td>1</td>\n",
       "      <td>1.20</td>\n",
       "      <td>9.00</td>\n",
       "      <td>0.00</td>\n",
       "      <td>0.00</td>\n",
       "    </tr>\n",
       "    <tr>\n",
       "      <th>9</th>\n",
       "      <td>Amanda Jones</td>\n",
       "      <td>11/10/2017 3:20:29 PM</td>\n",
       "      <td>11/10/2017 3:40:55 PM</td>\n",
       "      <td>Cash</td>\n",
       "      <td>1</td>\n",
       "      <td>1.60</td>\n",
       "      <td>13.00</td>\n",
       "      <td>2.75</td>\n",
       "      <td>0.00</td>\n",
       "    </tr>\n",
       "    <tr>\n",
       "      <th>10</th>\n",
       "      <td>Cory Jensen</td>\n",
       "      <td>03/04/2017 11:58:00 AM</td>\n",
       "      <td>03/04/2017 12:13:12 PM</td>\n",
       "      <td>Cash</td>\n",
       "      <td>1</td>\n",
       "      <td>1.77</td>\n",
       "      <td>11.50</td>\n",
       "      <td>2.46</td>\n",
       "      <td>0.00</td>\n",
       "    </tr>\n",
       "    <tr>\n",
       "      <th>12</th>\n",
       "      <td>Ryan Reyes</td>\n",
       "      <td>06/09/2017 7:00:26 PM</td>\n",
       "      <td>06/09/2017 7:20:11 PM</td>\n",
       "      <td>Debit Card</td>\n",
       "      <td>1</td>\n",
       "      <td>3.00</td>\n",
       "      <td>15.00</td>\n",
       "      <td>3.35</td>\n",
       "      <td>0.00</td>\n",
       "    </tr>\n",
       "    <tr>\n",
       "      <th>13</th>\n",
       "      <td>Jessica Mooney</td>\n",
       "      <td>11/06/2017 11:35:05 PM</td>\n",
       "      <td>11/06/2017 11:42:57 PM</td>\n",
       "      <td>Credit Card</td>\n",
       "      <td>1</td>\n",
       "      <td>2.39</td>\n",
       "      <td>9.50</td>\n",
       "      <td>2.16</td>\n",
       "      <td>0.00</td>\n",
       "    </tr>\n",
       "    <tr>\n",
       "      <th>14</th>\n",
       "      <td>Heidi May</td>\n",
       "      <td>02/22/2017 3:18:31 PM</td>\n",
       "      <td>02/22/2017 3:42:50 PM</td>\n",
       "      <td>Cash</td>\n",
       "      <td>1</td>\n",
       "      <td>3.30</td>\n",
       "      <td>17.50</td>\n",
       "      <td>4.55</td>\n",
       "      <td>0.00</td>\n",
       "    </tr>\n",
       "    <tr>\n",
       "      <th>15</th>\n",
       "      <td>Anthony Richard</td>\n",
       "      <td>06/02/2017 6:41:39 AM</td>\n",
       "      <td>06/02/2017 6:57:47 AM</td>\n",
       "      <td>Credit Card</td>\n",
       "      <td>1</td>\n",
       "      <td>5.93</td>\n",
       "      <td>19.00</td>\n",
       "      <td>3.00</td>\n",
       "      <td>0.00</td>\n",
       "    </tr>\n",
       "    <tr>\n",
       "      <th>16</th>\n",
       "      <td>Sarah Gross</td>\n",
       "      <td>08/15/2017 7:48:08 PM</td>\n",
       "      <td>08/15/2017 8:00:37 PM</td>\n",
       "      <td>Cash</td>\n",
       "      <td>1</td>\n",
       "      <td>3.60</td>\n",
       "      <td>12.50</td>\n",
       "      <td>2.85</td>\n",
       "      <td>0.00</td>\n",
       "    </tr>\n",
       "    <tr>\n",
       "      <th>18</th>\n",
       "      <td>Susan Robinson</td>\n",
       "      <td>07/10/2017 1:36:31 PM</td>\n",
       "      <td>07/10/2017 1:48:43 PM</td>\n",
       "      <td>Cash</td>\n",
       "      <td>2</td>\n",
       "      <td>1.71</td>\n",
       "      <td>9.50</td>\n",
       "      <td>0.00</td>\n",
       "      <td>0.00</td>\n",
       "    </tr>\n",
       "    <tr>\n",
       "      <th>19</th>\n",
       "      <td>Cynthia Mendoza</td>\n",
       "      <td>04/10/2017 6:12:58 PM</td>\n",
       "      <td>04/10/2017 6:17:39 PM</td>\n",
       "      <td>Cash</td>\n",
       "      <td>2</td>\n",
       "      <td>0.63</td>\n",
       "      <td>5.00</td>\n",
       "      <td>0.00</td>\n",
       "      <td>0.00</td>\n",
       "    </tr>\n",
       "    <tr>\n",
       "      <th>20</th>\n",
       "      <td>Zachary James</td>\n",
       "      <td>03/05/2017 4:01:07 AM</td>\n",
       "      <td>03/05/2017 4:14:11 AM</td>\n",
       "      <td>Credit Card</td>\n",
       "      <td>2</td>\n",
       "      <td>2.77</td>\n",
       "      <td>11.50</td>\n",
       "      <td>3.20</td>\n",
       "      <td>0.00</td>\n",
       "    </tr>\n",
       "    <tr>\n",
       "      <th>21</th>\n",
       "      <td>Marissa Scott</td>\n",
       "      <td>12/30/2017 11:52:44 PM</td>\n",
       "      <td>12/30/2017 11:58:57 PM</td>\n",
       "      <td>Debit Card</td>\n",
       "      <td>1</td>\n",
       "      <td>1.10</td>\n",
       "      <td>6.50</td>\n",
       "      <td>0.00</td>\n",
       "      <td>0.00</td>\n",
       "    </tr>\n",
       "    <tr>\n",
       "      <th>22</th>\n",
       "      <td>Jacqueline Mclean DVM</td>\n",
       "      <td>10/11/2017 12:34:49 PM</td>\n",
       "      <td>10/11/2017 1:22:38 PM</td>\n",
       "      <td>Debit Card</td>\n",
       "      <td>1</td>\n",
       "      <td>12.30</td>\n",
       "      <td>68.25</td>\n",
       "      <td>12.00</td>\n",
       "      <td>16.26</td>\n",
       "    </tr>\n",
       "    <tr>\n",
       "      <th>23</th>\n",
       "      <td>Krista Stewart</td>\n",
       "      <td>01/06/2017 8:12:07 PM</td>\n",
       "      <td>01/06/2017 8:18:37 PM</td>\n",
       "      <td>Cash</td>\n",
       "      <td>1</td>\n",
       "      <td>0.52</td>\n",
       "      <td>5.50</td>\n",
       "      <td>1.00</td>\n",
       "      <td>0.00</td>\n",
       "    </tr>\n",
       "    <tr>\n",
       "      <th>24</th>\n",
       "      <td>Mike Taylor</td>\n",
       "      <td>06/27/2017 12:08:22 AM</td>\n",
       "      <td>06/27/2017 12:13:45 AM</td>\n",
       "      <td>Credit Card</td>\n",
       "      <td>1</td>\n",
       "      <td>1.70</td>\n",
       "      <td>7.00</td>\n",
       "      <td>2.05</td>\n",
       "      <td>0.00</td>\n",
       "    </tr>\n",
       "    <tr>\n",
       "      <th>25</th>\n",
       "      <td>Heather Johnson</td>\n",
       "      <td>02/13/2017 10:29:33 AM</td>\n",
       "      <td>02/13/2017 10:34:11 AM</td>\n",
       "      <td>Cash</td>\n",
       "      <td>1</td>\n",
       "      <td>0.90</td>\n",
       "      <td>5.50</td>\n",
       "      <td>1.25</td>\n",
       "      <td>0.00</td>\n",
       "    </tr>\n",
       "    <tr>\n",
       "      <th>26</th>\n",
       "      <td>Tiffany Ramirez</td>\n",
       "      <td>01/14/2017 7:58:42 PM</td>\n",
       "      <td>01/14/2017 8:05:59 PM</td>\n",
       "      <td>Debit Card</td>\n",
       "      <td>1</td>\n",
       "      <td>1.72</td>\n",
       "      <td>8.00</td>\n",
       "      <td>2.79</td>\n",
       "      <td>0.00</td>\n",
       "    </tr>\n",
       "    <tr>\n",
       "      <th>27</th>\n",
       "      <td>James Taylor</td>\n",
       "      <td>11/04/2017 1:27:59 AM</td>\n",
       "      <td>11/04/2017 1:44:05 AM</td>\n",
       "      <td>Credit Card</td>\n",
       "      <td>1</td>\n",
       "      <td>2.70</td>\n",
       "      <td>13.00</td>\n",
       "      <td>2.85</td>\n",
       "      <td>0.00</td>\n",
       "    </tr>\n",
       "    <tr>\n",
       "      <th>28</th>\n",
       "      <td>Gabriela Bryan</td>\n",
       "      <td>11/24/2017 10:48:13 AM</td>\n",
       "      <td>11/24/2017 10:52:57 AM</td>\n",
       "      <td>Cash</td>\n",
       "      <td>1</td>\n",
       "      <td>0.85</td>\n",
       "      <td>5.50</td>\n",
       "      <td>0.00</td>\n",
       "      <td>0.00</td>\n",
       "    </tr>\n",
       "    <tr>\n",
       "      <th>29</th>\n",
       "      <td>Janet Hogan MD</td>\n",
       "      <td>11/22/2017 10:24:17 AM</td>\n",
       "      <td>11/22/2017 10:38:52 AM</td>\n",
       "      <td>Cash</td>\n",
       "      <td>1</td>\n",
       "      <td>2.30</td>\n",
       "      <td>11.00</td>\n",
       "      <td>2.35</td>\n",
       "      <td>0.00</td>\n",
       "    </tr>\n",
       "    <tr>\n",
       "      <th>31</th>\n",
       "      <td>Jessica Cohen</td>\n",
       "      <td>08/09/2017 9:01:50 PM</td>\n",
       "      <td>08/09/2017 9:14:28 PM</td>\n",
       "      <td>Cash</td>\n",
       "      <td>1</td>\n",
       "      <td>2.30</td>\n",
       "      <td>10.50</td>\n",
       "      <td>1.77</td>\n",
       "      <td>0.00</td>\n",
       "    </tr>\n",
       "    <tr>\n",
       "      <th>32</th>\n",
       "      <td>Katherine Martin</td>\n",
       "      <td>04/12/2017 11:07:56 AM</td>\n",
       "      <td>04/12/2017 11:19:29 AM</td>\n",
       "      <td>Cash</td>\n",
       "      <td>4</td>\n",
       "      <td>1.50</td>\n",
       "      <td>9.00</td>\n",
       "      <td>0.00</td>\n",
       "      <td>0.00</td>\n",
       "    </tr>\n",
       "  </tbody>\n",
       "</table>\n",
       "</div>"
      ],
      "text/plain": [
       "           passenger_name    tpep_pickup_datetime   tpep_dropoff_datetime  \\\n",
       "0            Pamela Duffy   03/25/2017 8:55:43 AM   03/25/2017 9:09:47 AM   \n",
       "1         Michelle Foster   04/11/2017 2:53:28 PM   04/11/2017 3:19:58 PM   \n",
       "2              Tina Combs   12/15/2017 7:26:56 AM   12/15/2017 7:34:08 AM   \n",
       "3             Anthony Ray   05/07/2017 1:17:59 PM   05/07/2017 1:48:14 PM   \n",
       "4         Brianna Johnson  04/15/2017 11:32:20 PM  04/15/2017 11:49:03 PM   \n",
       "5            Justin Smith   03/25/2017 8:34:11 PM   03/25/2017 8:42:11 PM   \n",
       "6            Tonya Moreno   05/03/2017 7:04:09 PM   05/03/2017 8:03:47 PM   \n",
       "7            Hannah Foley   08/15/2017 5:41:06 PM   08/15/2017 6:03:05 PM   \n",
       "8           Katie Whitney   02/04/2017 4:17:07 PM   02/04/2017 4:29:14 PM   \n",
       "9            Amanda Jones   11/10/2017 3:20:29 PM   11/10/2017 3:40:55 PM   \n",
       "10            Cory Jensen  03/04/2017 11:58:00 AM  03/04/2017 12:13:12 PM   \n",
       "12             Ryan Reyes   06/09/2017 7:00:26 PM   06/09/2017 7:20:11 PM   \n",
       "13         Jessica Mooney  11/06/2017 11:35:05 PM  11/06/2017 11:42:57 PM   \n",
       "14              Heidi May   02/22/2017 3:18:31 PM   02/22/2017 3:42:50 PM   \n",
       "15        Anthony Richard   06/02/2017 6:41:39 AM   06/02/2017 6:57:47 AM   \n",
       "16            Sarah Gross   08/15/2017 7:48:08 PM   08/15/2017 8:00:37 PM   \n",
       "18         Susan Robinson   07/10/2017 1:36:31 PM   07/10/2017 1:48:43 PM   \n",
       "19        Cynthia Mendoza   04/10/2017 6:12:58 PM   04/10/2017 6:17:39 PM   \n",
       "20          Zachary James   03/05/2017 4:01:07 AM   03/05/2017 4:14:11 AM   \n",
       "21          Marissa Scott  12/30/2017 11:52:44 PM  12/30/2017 11:58:57 PM   \n",
       "22  Jacqueline Mclean DVM  10/11/2017 12:34:49 PM   10/11/2017 1:22:38 PM   \n",
       "23         Krista Stewart   01/06/2017 8:12:07 PM   01/06/2017 8:18:37 PM   \n",
       "24            Mike Taylor  06/27/2017 12:08:22 AM  06/27/2017 12:13:45 AM   \n",
       "25        Heather Johnson  02/13/2017 10:29:33 AM  02/13/2017 10:34:11 AM   \n",
       "26        Tiffany Ramirez   01/14/2017 7:58:42 PM   01/14/2017 8:05:59 PM   \n",
       "27           James Taylor   11/04/2017 1:27:59 AM   11/04/2017 1:44:05 AM   \n",
       "28         Gabriela Bryan  11/24/2017 10:48:13 AM  11/24/2017 10:52:57 AM   \n",
       "29         Janet Hogan MD  11/22/2017 10:24:17 AM  11/22/2017 10:38:52 AM   \n",
       "31          Jessica Cohen   08/09/2017 9:01:50 PM   08/09/2017 9:14:28 PM   \n",
       "32       Katherine Martin  04/12/2017 11:07:56 AM  04/12/2017 11:19:29 AM   \n",
       "\n",
       "   payment_method  passenger_count  trip_distance  fare_amount  tip_amount  \\\n",
       "0      Debit Card                6           3.34        13.00        2.76   \n",
       "1      Debit Card                1           1.80        16.00        4.00   \n",
       "2      Debit Card                1           1.00         6.50        1.45   \n",
       "3            Cash                1           3.70        20.50        6.39   \n",
       "4      Debit Card                1           4.37        16.50        0.00   \n",
       "5      Debit Card                6           2.30         9.00        2.06   \n",
       "6            Cash                1          12.83        47.50        9.86   \n",
       "7      Debit Card                1           2.98        16.00        1.78   \n",
       "8            Cash                1           1.20         9.00        0.00   \n",
       "9            Cash                1           1.60        13.00        2.75   \n",
       "10           Cash                1           1.77        11.50        2.46   \n",
       "12     Debit Card                1           3.00        15.00        3.35   \n",
       "13    Credit Card                1           2.39         9.50        2.16   \n",
       "14           Cash                1           3.30        17.50        4.55   \n",
       "15    Credit Card                1           5.93        19.00        3.00   \n",
       "16           Cash                1           3.60        12.50        2.85   \n",
       "18           Cash                2           1.71         9.50        0.00   \n",
       "19           Cash                2           0.63         5.00        0.00   \n",
       "20    Credit Card                2           2.77        11.50        3.20   \n",
       "21     Debit Card                1           1.10         6.50        0.00   \n",
       "22     Debit Card                1          12.30        68.25       12.00   \n",
       "23           Cash                1           0.52         5.50        1.00   \n",
       "24    Credit Card                1           1.70         7.00        2.05   \n",
       "25           Cash                1           0.90         5.50        1.25   \n",
       "26     Debit Card                1           1.72         8.00        2.79   \n",
       "27    Credit Card                1           2.70        13.00        2.85   \n",
       "28           Cash                1           0.85         5.50        0.00   \n",
       "29           Cash                1           2.30        11.00        2.35   \n",
       "31           Cash                1           2.30        10.50        1.77   \n",
       "32           Cash                4           1.50         9.00        0.00   \n",
       "\n",
       "    tolls_amount  \n",
       "0           0.00  \n",
       "1           0.00  \n",
       "2           0.00  \n",
       "3           0.00  \n",
       "4           0.00  \n",
       "5           0.00  \n",
       "6           0.00  \n",
       "7           0.00  \n",
       "8           0.00  \n",
       "9           0.00  \n",
       "10          0.00  \n",
       "12          0.00  \n",
       "13          0.00  \n",
       "14          0.00  \n",
       "15          0.00  \n",
       "16          0.00  \n",
       "18          0.00  \n",
       "19          0.00  \n",
       "20          0.00  \n",
       "21          0.00  \n",
       "22         16.26  \n",
       "23          0.00  \n",
       "24          0.00  \n",
       "25          0.00  \n",
       "26          0.00  \n",
       "27          0.00  \n",
       "28          0.00  \n",
       "29          0.00  \n",
       "31          0.00  \n",
       "32          0.00  "
      ]
     },
     "execution_count": 37,
     "metadata": {},
     "output_type": "execute_result"
    }
   ],
   "source": [
    "data.head(30)"
   ]
  },
  {
   "cell_type": "code",
   "execution_count": 38,
   "id": "b47c0394",
   "metadata": {},
   "outputs": [
    {
     "data": {
      "text/plain": [
       "array(['Debit Card', 'Cash', 'Credit Card'], dtype=object)"
      ]
     },
     "execution_count": 38,
     "metadata": {},
     "output_type": "execute_result"
    }
   ],
   "source": [
    "# payment_method 컬럼에 어떤 값들이 있는지 살펴봅시다.\n",
    "\n",
    "data['payment_method'].unique()"
   ]
  },
  {
   "cell_type": "code",
   "execution_count": 39,
   "id": "1d134222",
   "metadata": {},
   "outputs": [
    {
     "data": {
      "text/plain": [
       "3"
      ]
     },
     "execution_count": 39,
     "metadata": {},
     "output_type": "execute_result"
    }
   ],
   "source": [
    "data['payment_method'].nunique()"
   ]
  },
  {
   "cell_type": "code",
   "execution_count": 40,
   "id": "b3a9021f",
   "metadata": {},
   "outputs": [
    {
     "data": {
      "text/plain": [
       "Cash           10862\n",
       "Debit Card      5601\n",
       "Credit Card     5556\n",
       "Name: payment_method, dtype: int64"
      ]
     },
     "execution_count": 40,
     "metadata": {},
     "output_type": "execute_result"
    }
   ],
   "source": [
    "data['payment_method'].value_counts()"
   ]
  },
  {
   "cell_type": "code",
   "execution_count": 41,
   "id": "db53de0b",
   "metadata": {},
   "outputs": [],
   "source": [
    "# Q. 'Debit Card'와 'Credit Card' 항목을 'Card'로 변환합니다. \n",
    "# (힌트: replace() 메서드를 사용합니다.)\n",
    "\n",
    "data = data.replace({'Debit Card': 'Card', 'Credit Card': 'Card'})"
   ]
  },
  {
   "cell_type": "code",
   "execution_count": 42,
   "id": "b5795bac",
   "metadata": {},
   "outputs": [
    {
     "data": {
      "text/plain": [
       "Card    11157\n",
       "Cash    10862\n",
       "Name: payment_method, dtype: int64"
      ]
     },
     "execution_count": 42,
     "metadata": {},
     "output_type": "execute_result"
    }
   ],
   "source": [
    "data['payment_method'].value_counts()"
   ]
  },
  {
   "cell_type": "code",
   "execution_count": 43,
   "id": "d5cd41d4",
   "metadata": {},
   "outputs": [],
   "source": [
    "example = 'Susan Robinson'"
   ]
  },
  {
   "cell_type": "code",
   "execution_count": 44,
   "id": "acb2df10",
   "metadata": {},
   "outputs": [
    {
     "data": {
      "text/plain": [
       "['Susan', 'Robinson']"
      ]
     },
     "execution_count": 44,
     "metadata": {},
     "output_type": "execute_result"
    }
   ],
   "source": [
    "example.split()"
   ]
  },
  {
   "cell_type": "code",
   "execution_count": 45,
   "id": "44a5610b",
   "metadata": {},
   "outputs": [],
   "source": [
    "# Q. passenger_name을 성과 이름으로 분리하여 성 부분만 passenger_first_name 컬럼으로 저장합니다.\n",
    "\n",
    "data['passenger_first_name'] = data['passenger_name'].str.split(' ').str[-1]"
   ]
  },
  {
   "cell_type": "code",
   "execution_count": 46,
   "id": "befbcbe6",
   "metadata": {},
   "outputs": [
    {
     "data": {
      "text/html": [
       "<div>\n",
       "<style scoped>\n",
       "    .dataframe tbody tr th:only-of-type {\n",
       "        vertical-align: middle;\n",
       "    }\n",
       "\n",
       "    .dataframe tbody tr th {\n",
       "        vertical-align: top;\n",
       "    }\n",
       "\n",
       "    .dataframe thead th {\n",
       "        text-align: right;\n",
       "    }\n",
       "</style>\n",
       "<table border=\"1\" class=\"dataframe\">\n",
       "  <thead>\n",
       "    <tr style=\"text-align: right;\">\n",
       "      <th></th>\n",
       "      <th>passenger_name</th>\n",
       "      <th>tpep_pickup_datetime</th>\n",
       "      <th>tpep_dropoff_datetime</th>\n",
       "      <th>payment_method</th>\n",
       "      <th>passenger_count</th>\n",
       "      <th>trip_distance</th>\n",
       "      <th>fare_amount</th>\n",
       "      <th>tip_amount</th>\n",
       "      <th>tolls_amount</th>\n",
       "      <th>passenger_first_name</th>\n",
       "    </tr>\n",
       "  </thead>\n",
       "  <tbody>\n",
       "    <tr>\n",
       "      <th>0</th>\n",
       "      <td>Pamela Duffy</td>\n",
       "      <td>03/25/2017 8:55:43 AM</td>\n",
       "      <td>03/25/2017 9:09:47 AM</td>\n",
       "      <td>Card</td>\n",
       "      <td>6</td>\n",
       "      <td>3.34</td>\n",
       "      <td>13.0</td>\n",
       "      <td>2.76</td>\n",
       "      <td>0.0</td>\n",
       "      <td>Duffy</td>\n",
       "    </tr>\n",
       "    <tr>\n",
       "      <th>1</th>\n",
       "      <td>Michelle Foster</td>\n",
       "      <td>04/11/2017 2:53:28 PM</td>\n",
       "      <td>04/11/2017 3:19:58 PM</td>\n",
       "      <td>Card</td>\n",
       "      <td>1</td>\n",
       "      <td>1.80</td>\n",
       "      <td>16.0</td>\n",
       "      <td>4.00</td>\n",
       "      <td>0.0</td>\n",
       "      <td>Foster</td>\n",
       "    </tr>\n",
       "    <tr>\n",
       "      <th>2</th>\n",
       "      <td>Tina Combs</td>\n",
       "      <td>12/15/2017 7:26:56 AM</td>\n",
       "      <td>12/15/2017 7:34:08 AM</td>\n",
       "      <td>Card</td>\n",
       "      <td>1</td>\n",
       "      <td>1.00</td>\n",
       "      <td>6.5</td>\n",
       "      <td>1.45</td>\n",
       "      <td>0.0</td>\n",
       "      <td>Combs</td>\n",
       "    </tr>\n",
       "    <tr>\n",
       "      <th>3</th>\n",
       "      <td>Anthony Ray</td>\n",
       "      <td>05/07/2017 1:17:59 PM</td>\n",
       "      <td>05/07/2017 1:48:14 PM</td>\n",
       "      <td>Cash</td>\n",
       "      <td>1</td>\n",
       "      <td>3.70</td>\n",
       "      <td>20.5</td>\n",
       "      <td>6.39</td>\n",
       "      <td>0.0</td>\n",
       "      <td>Ray</td>\n",
       "    </tr>\n",
       "    <tr>\n",
       "      <th>4</th>\n",
       "      <td>Brianna Johnson</td>\n",
       "      <td>04/15/2017 11:32:20 PM</td>\n",
       "      <td>04/15/2017 11:49:03 PM</td>\n",
       "      <td>Card</td>\n",
       "      <td>1</td>\n",
       "      <td>4.37</td>\n",
       "      <td>16.5</td>\n",
       "      <td>0.00</td>\n",
       "      <td>0.0</td>\n",
       "      <td>Johnson</td>\n",
       "    </tr>\n",
       "  </tbody>\n",
       "</table>\n",
       "</div>"
      ],
      "text/plain": [
       "    passenger_name    tpep_pickup_datetime   tpep_dropoff_datetime  \\\n",
       "0     Pamela Duffy   03/25/2017 8:55:43 AM   03/25/2017 9:09:47 AM   \n",
       "1  Michelle Foster   04/11/2017 2:53:28 PM   04/11/2017 3:19:58 PM   \n",
       "2       Tina Combs   12/15/2017 7:26:56 AM   12/15/2017 7:34:08 AM   \n",
       "3      Anthony Ray   05/07/2017 1:17:59 PM   05/07/2017 1:48:14 PM   \n",
       "4  Brianna Johnson  04/15/2017 11:32:20 PM  04/15/2017 11:49:03 PM   \n",
       "\n",
       "  payment_method  passenger_count  trip_distance  fare_amount  tip_amount  \\\n",
       "0           Card                6           3.34         13.0        2.76   \n",
       "1           Card                1           1.80         16.0        4.00   \n",
       "2           Card                1           1.00          6.5        1.45   \n",
       "3           Cash                1           3.70         20.5        6.39   \n",
       "4           Card                1           4.37         16.5        0.00   \n",
       "\n",
       "   tolls_amount passenger_first_name  \n",
       "0           0.0                Duffy  \n",
       "1           0.0               Foster  \n",
       "2           0.0                Combs  \n",
       "3           0.0                  Ray  \n",
       "4           0.0              Johnson  "
      ]
     },
     "execution_count": 46,
     "metadata": {},
     "output_type": "execute_result"
    }
   ],
   "source": [
    "data.head()"
   ]
  },
  {
   "cell_type": "code",
   "execution_count": 47,
   "id": "5217ceec",
   "metadata": {},
   "outputs": [
    {
     "name": "stdout",
     "output_type": "stream",
     "text": [
      "<class 'pandas.core.frame.DataFrame'>\n",
      "Int64Index: 22019 entries, 0 to 22700\n",
      "Data columns (total 10 columns):\n",
      " #   Column                 Non-Null Count  Dtype  \n",
      "---  ------                 --------------  -----  \n",
      " 0   passenger_name         22019 non-null  object \n",
      " 1   tpep_pickup_datetime   22019 non-null  object \n",
      " 2   tpep_dropoff_datetime  22019 non-null  object \n",
      " 3   payment_method         22019 non-null  object \n",
      " 4   passenger_count        22019 non-null  int64  \n",
      " 5   trip_distance          22019 non-null  float64\n",
      " 6   fare_amount            22019 non-null  float64\n",
      " 7   tip_amount             22019 non-null  float64\n",
      " 8   tolls_amount           22019 non-null  float64\n",
      " 9   passenger_first_name   22019 non-null  object \n",
      "dtypes: float64(4), int64(1), object(5)\n",
      "memory usage: 1.8+ MB\n"
     ]
    }
   ],
   "source": [
    "data.info()"
   ]
  },
  {
   "cell_type": "code",
   "execution_count": 48,
   "id": "5048ea2c",
   "metadata": {},
   "outputs": [],
   "source": [
    "# Q. tpep_pickup_datetime 컬럼의 object 자료형을 datetime으로 변환합니다.\n",
    "\n",
    "data['tpep_pickup_datetime'] = pd.to_datetime(data['tpep_pickup_datetime'])"
   ]
  },
  {
   "cell_type": "code",
   "execution_count": 49,
   "id": "41a6a762",
   "metadata": {},
   "outputs": [],
   "source": [
    "# Q. tpep_dropoff_datetime 컬럼의 object 자료형을 datetime으로 변환합니다.\n",
    "\n",
    "data['tpep_dropoff_datetime'] = pd.to_datetime(data['tpep_dropoff_datetime'])"
   ]
  },
  {
   "cell_type": "code",
   "execution_count": 50,
   "id": "b4f383ba",
   "metadata": {},
   "outputs": [
    {
     "name": "stdout",
     "output_type": "stream",
     "text": [
      "<class 'pandas.core.frame.DataFrame'>\n",
      "Int64Index: 22019 entries, 0 to 22700\n",
      "Data columns (total 10 columns):\n",
      " #   Column                 Non-Null Count  Dtype         \n",
      "---  ------                 --------------  -----         \n",
      " 0   passenger_name         22019 non-null  object        \n",
      " 1   tpep_pickup_datetime   22019 non-null  datetime64[ns]\n",
      " 2   tpep_dropoff_datetime  22019 non-null  datetime64[ns]\n",
      " 3   payment_method         22019 non-null  object        \n",
      " 4   passenger_count        22019 non-null  int64         \n",
      " 5   trip_distance          22019 non-null  float64       \n",
      " 6   fare_amount            22019 non-null  float64       \n",
      " 7   tip_amount             22019 non-null  float64       \n",
      " 8   tolls_amount           22019 non-null  float64       \n",
      " 9   passenger_first_name   22019 non-null  object        \n",
      "dtypes: datetime64[ns](2), float64(4), int64(1), object(3)\n",
      "memory usage: 1.8+ MB\n"
     ]
    }
   ],
   "source": [
    "data.info()"
   ]
  },
  {
   "cell_type": "code",
   "execution_count": 51,
   "id": "0e3b5e58",
   "metadata": {},
   "outputs": [],
   "source": [
    "# Q. 하차 시각과 승차 시각의 차이를 travel_time 컬럼으로 저장합니다.\n",
    "\n",
    "data['travel_time'] = data['tpep_dropoff_datetime'] - data['tpep_pickup_datetime']"
   ]
  },
  {
   "cell_type": "code",
   "execution_count": 52,
   "id": "992ddca1",
   "metadata": {},
   "outputs": [
    {
     "data": {
      "text/html": [
       "<div>\n",
       "<style scoped>\n",
       "    .dataframe tbody tr th:only-of-type {\n",
       "        vertical-align: middle;\n",
       "    }\n",
       "\n",
       "    .dataframe tbody tr th {\n",
       "        vertical-align: top;\n",
       "    }\n",
       "\n",
       "    .dataframe thead th {\n",
       "        text-align: right;\n",
       "    }\n",
       "</style>\n",
       "<table border=\"1\" class=\"dataframe\">\n",
       "  <thead>\n",
       "    <tr style=\"text-align: right;\">\n",
       "      <th></th>\n",
       "      <th>passenger_name</th>\n",
       "      <th>tpep_pickup_datetime</th>\n",
       "      <th>tpep_dropoff_datetime</th>\n",
       "      <th>payment_method</th>\n",
       "      <th>passenger_count</th>\n",
       "      <th>trip_distance</th>\n",
       "      <th>fare_amount</th>\n",
       "      <th>tip_amount</th>\n",
       "      <th>tolls_amount</th>\n",
       "      <th>passenger_first_name</th>\n",
       "      <th>travel_time</th>\n",
       "    </tr>\n",
       "  </thead>\n",
       "  <tbody>\n",
       "    <tr>\n",
       "      <th>0</th>\n",
       "      <td>Pamela Duffy</td>\n",
       "      <td>2017-03-25 08:55:43</td>\n",
       "      <td>2017-03-25 09:09:47</td>\n",
       "      <td>Card</td>\n",
       "      <td>6</td>\n",
       "      <td>3.34</td>\n",
       "      <td>13.0</td>\n",
       "      <td>2.76</td>\n",
       "      <td>0.0</td>\n",
       "      <td>Duffy</td>\n",
       "      <td>0 days 00:14:04</td>\n",
       "    </tr>\n",
       "    <tr>\n",
       "      <th>1</th>\n",
       "      <td>Michelle Foster</td>\n",
       "      <td>2017-04-11 14:53:28</td>\n",
       "      <td>2017-04-11 15:19:58</td>\n",
       "      <td>Card</td>\n",
       "      <td>1</td>\n",
       "      <td>1.80</td>\n",
       "      <td>16.0</td>\n",
       "      <td>4.00</td>\n",
       "      <td>0.0</td>\n",
       "      <td>Foster</td>\n",
       "      <td>0 days 00:26:30</td>\n",
       "    </tr>\n",
       "    <tr>\n",
       "      <th>2</th>\n",
       "      <td>Tina Combs</td>\n",
       "      <td>2017-12-15 07:26:56</td>\n",
       "      <td>2017-12-15 07:34:08</td>\n",
       "      <td>Card</td>\n",
       "      <td>1</td>\n",
       "      <td>1.00</td>\n",
       "      <td>6.5</td>\n",
       "      <td>1.45</td>\n",
       "      <td>0.0</td>\n",
       "      <td>Combs</td>\n",
       "      <td>0 days 00:07:12</td>\n",
       "    </tr>\n",
       "    <tr>\n",
       "      <th>3</th>\n",
       "      <td>Anthony Ray</td>\n",
       "      <td>2017-05-07 13:17:59</td>\n",
       "      <td>2017-05-07 13:48:14</td>\n",
       "      <td>Cash</td>\n",
       "      <td>1</td>\n",
       "      <td>3.70</td>\n",
       "      <td>20.5</td>\n",
       "      <td>6.39</td>\n",
       "      <td>0.0</td>\n",
       "      <td>Ray</td>\n",
       "      <td>0 days 00:30:15</td>\n",
       "    </tr>\n",
       "    <tr>\n",
       "      <th>4</th>\n",
       "      <td>Brianna Johnson</td>\n",
       "      <td>2017-04-15 23:32:20</td>\n",
       "      <td>2017-04-15 23:49:03</td>\n",
       "      <td>Card</td>\n",
       "      <td>1</td>\n",
       "      <td>4.37</td>\n",
       "      <td>16.5</td>\n",
       "      <td>0.00</td>\n",
       "      <td>0.0</td>\n",
       "      <td>Johnson</td>\n",
       "      <td>0 days 00:16:43</td>\n",
       "    </tr>\n",
       "  </tbody>\n",
       "</table>\n",
       "</div>"
      ],
      "text/plain": [
       "    passenger_name tpep_pickup_datetime tpep_dropoff_datetime payment_method  \\\n",
       "0     Pamela Duffy  2017-03-25 08:55:43   2017-03-25 09:09:47           Card   \n",
       "1  Michelle Foster  2017-04-11 14:53:28   2017-04-11 15:19:58           Card   \n",
       "2       Tina Combs  2017-12-15 07:26:56   2017-12-15 07:34:08           Card   \n",
       "3      Anthony Ray  2017-05-07 13:17:59   2017-05-07 13:48:14           Cash   \n",
       "4  Brianna Johnson  2017-04-15 23:32:20   2017-04-15 23:49:03           Card   \n",
       "\n",
       "   passenger_count  trip_distance  fare_amount  tip_amount  tolls_amount  \\\n",
       "0                6           3.34         13.0        2.76           0.0   \n",
       "1                1           1.80         16.0        4.00           0.0   \n",
       "2                1           1.00          6.5        1.45           0.0   \n",
       "3                1           3.70         20.5        6.39           0.0   \n",
       "4                1           4.37         16.5        0.00           0.0   \n",
       "\n",
       "  passenger_first_name     travel_time  \n",
       "0                Duffy 0 days 00:14:04  \n",
       "1               Foster 0 days 00:26:30  \n",
       "2                Combs 0 days 00:07:12  \n",
       "3                  Ray 0 days 00:30:15  \n",
       "4              Johnson 0 days 00:16:43  "
      ]
     },
     "execution_count": 52,
     "metadata": {},
     "output_type": "execute_result"
    }
   ],
   "source": [
    "data.head()"
   ]
  },
  {
   "cell_type": "code",
   "execution_count": 53,
   "id": "83ae23dc",
   "metadata": {},
   "outputs": [
    {
     "name": "stdout",
     "output_type": "stream",
     "text": [
      "<class 'pandas.core.frame.DataFrame'>\n",
      "Int64Index: 22019 entries, 0 to 22700\n",
      "Data columns (total 11 columns):\n",
      " #   Column                 Non-Null Count  Dtype          \n",
      "---  ------                 --------------  -----          \n",
      " 0   passenger_name         22019 non-null  object         \n",
      " 1   tpep_pickup_datetime   22019 non-null  datetime64[ns] \n",
      " 2   tpep_dropoff_datetime  22019 non-null  datetime64[ns] \n",
      " 3   payment_method         22019 non-null  object         \n",
      " 4   passenger_count        22019 non-null  int64          \n",
      " 5   trip_distance          22019 non-null  float64        \n",
      " 6   fare_amount            22019 non-null  float64        \n",
      " 7   tip_amount             22019 non-null  float64        \n",
      " 8   tolls_amount           22019 non-null  float64        \n",
      " 9   passenger_first_name   22019 non-null  object         \n",
      " 10  travel_time            22019 non-null  timedelta64[ns]\n",
      "dtypes: datetime64[ns](2), float64(4), int64(1), object(3), timedelta64[ns](1)\n",
      "memory usage: 2.0+ MB\n"
     ]
    }
   ],
   "source": [
    "data.info()"
   ]
  },
  {
   "cell_type": "code",
   "execution_count": 54,
   "id": "3bfa150f",
   "metadata": {},
   "outputs": [],
   "source": [
    "# Q. travel_time 컬럼의 데이터를 초 단위로 변환합니다.\n",
    "data['travel_time'] = pd.to_timedelta(data['travel_time'], unit='second')\n",
    "\n",
    "data['travel_time'] = data['travel_time'].dt.total_seconds()"
   ]
  },
  {
   "cell_type": "code",
   "execution_count": 55,
   "id": "bd092b8c",
   "metadata": {},
   "outputs": [
    {
     "data": {
      "text/html": [
       "<div>\n",
       "<style scoped>\n",
       "    .dataframe tbody tr th:only-of-type {\n",
       "        vertical-align: middle;\n",
       "    }\n",
       "\n",
       "    .dataframe tbody tr th {\n",
       "        vertical-align: top;\n",
       "    }\n",
       "\n",
       "    .dataframe thead th {\n",
       "        text-align: right;\n",
       "    }\n",
       "</style>\n",
       "<table border=\"1\" class=\"dataframe\">\n",
       "  <thead>\n",
       "    <tr style=\"text-align: right;\">\n",
       "      <th></th>\n",
       "      <th>passenger_name</th>\n",
       "      <th>tpep_pickup_datetime</th>\n",
       "      <th>tpep_dropoff_datetime</th>\n",
       "      <th>payment_method</th>\n",
       "      <th>passenger_count</th>\n",
       "      <th>trip_distance</th>\n",
       "      <th>fare_amount</th>\n",
       "      <th>tip_amount</th>\n",
       "      <th>tolls_amount</th>\n",
       "      <th>passenger_first_name</th>\n",
       "      <th>travel_time</th>\n",
       "    </tr>\n",
       "  </thead>\n",
       "  <tbody>\n",
       "    <tr>\n",
       "      <th>0</th>\n",
       "      <td>Pamela Duffy</td>\n",
       "      <td>2017-03-25 08:55:43</td>\n",
       "      <td>2017-03-25 09:09:47</td>\n",
       "      <td>Card</td>\n",
       "      <td>6</td>\n",
       "      <td>3.34</td>\n",
       "      <td>13.0</td>\n",
       "      <td>2.76</td>\n",
       "      <td>0.0</td>\n",
       "      <td>Duffy</td>\n",
       "      <td>844.0</td>\n",
       "    </tr>\n",
       "    <tr>\n",
       "      <th>1</th>\n",
       "      <td>Michelle Foster</td>\n",
       "      <td>2017-04-11 14:53:28</td>\n",
       "      <td>2017-04-11 15:19:58</td>\n",
       "      <td>Card</td>\n",
       "      <td>1</td>\n",
       "      <td>1.80</td>\n",
       "      <td>16.0</td>\n",
       "      <td>4.00</td>\n",
       "      <td>0.0</td>\n",
       "      <td>Foster</td>\n",
       "      <td>1590.0</td>\n",
       "    </tr>\n",
       "    <tr>\n",
       "      <th>2</th>\n",
       "      <td>Tina Combs</td>\n",
       "      <td>2017-12-15 07:26:56</td>\n",
       "      <td>2017-12-15 07:34:08</td>\n",
       "      <td>Card</td>\n",
       "      <td>1</td>\n",
       "      <td>1.00</td>\n",
       "      <td>6.5</td>\n",
       "      <td>1.45</td>\n",
       "      <td>0.0</td>\n",
       "      <td>Combs</td>\n",
       "      <td>432.0</td>\n",
       "    </tr>\n",
       "    <tr>\n",
       "      <th>3</th>\n",
       "      <td>Anthony Ray</td>\n",
       "      <td>2017-05-07 13:17:59</td>\n",
       "      <td>2017-05-07 13:48:14</td>\n",
       "      <td>Cash</td>\n",
       "      <td>1</td>\n",
       "      <td>3.70</td>\n",
       "      <td>20.5</td>\n",
       "      <td>6.39</td>\n",
       "      <td>0.0</td>\n",
       "      <td>Ray</td>\n",
       "      <td>1815.0</td>\n",
       "    </tr>\n",
       "    <tr>\n",
       "      <th>4</th>\n",
       "      <td>Brianna Johnson</td>\n",
       "      <td>2017-04-15 23:32:20</td>\n",
       "      <td>2017-04-15 23:49:03</td>\n",
       "      <td>Card</td>\n",
       "      <td>1</td>\n",
       "      <td>4.37</td>\n",
       "      <td>16.5</td>\n",
       "      <td>0.00</td>\n",
       "      <td>0.0</td>\n",
       "      <td>Johnson</td>\n",
       "      <td>1003.0</td>\n",
       "    </tr>\n",
       "  </tbody>\n",
       "</table>\n",
       "</div>"
      ],
      "text/plain": [
       "    passenger_name tpep_pickup_datetime tpep_dropoff_datetime payment_method  \\\n",
       "0     Pamela Duffy  2017-03-25 08:55:43   2017-03-25 09:09:47           Card   \n",
       "1  Michelle Foster  2017-04-11 14:53:28   2017-04-11 15:19:58           Card   \n",
       "2       Tina Combs  2017-12-15 07:26:56   2017-12-15 07:34:08           Card   \n",
       "3      Anthony Ray  2017-05-07 13:17:59   2017-05-07 13:48:14           Cash   \n",
       "4  Brianna Johnson  2017-04-15 23:32:20   2017-04-15 23:49:03           Card   \n",
       "\n",
       "   passenger_count  trip_distance  fare_amount  tip_amount  tolls_amount  \\\n",
       "0                6           3.34         13.0        2.76           0.0   \n",
       "1                1           1.80         16.0        4.00           0.0   \n",
       "2                1           1.00          6.5        1.45           0.0   \n",
       "3                1           3.70         20.5        6.39           0.0   \n",
       "4                1           4.37         16.5        0.00           0.0   \n",
       "\n",
       "  passenger_first_name  travel_time  \n",
       "0                Duffy        844.0  \n",
       "1               Foster       1590.0  \n",
       "2                Combs        432.0  \n",
       "3                  Ray       1815.0  \n",
       "4              Johnson       1003.0  "
      ]
     },
     "execution_count": 55,
     "metadata": {},
     "output_type": "execute_result"
    }
   ],
   "source": [
    "data.head()"
   ]
  },
  {
   "cell_type": "code",
   "execution_count": 56,
   "id": "aea0e5ce",
   "metadata": {},
   "outputs": [],
   "source": [
    "# Q. 승객이 지불한 총 요금을 total_amount 컬럼으로 저장합니다.\n",
    "\n",
    "data['total_amount'] = data['fare_amount'] + data['tip_amount']+data['tolls_amount']"
   ]
  },
  {
   "cell_type": "code",
   "execution_count": 57,
   "id": "ef928e87",
   "metadata": {},
   "outputs": [
    {
     "data": {
      "text/plain": [
       "<AxesSubplot:xlabel='fare_amount', ylabel='trip_distance'>"
      ]
     },
     "execution_count": 57,
     "metadata": {},
     "output_type": "execute_result"
    },
    {
     "data": {
      "image/png": "[encoded data removed]",
      "text/plain": [
       "<Figure size 432x288 with 1 Axes>"
      ]
     },
     "metadata": {
      "needs_background": "light"
     },
     "output_type": "display_data"
    }
   ],
   "source": [
    "# Q. fare_amount와 trip_distance 사이의 관계를 scatter plot으로 표현합니다.\n",
    "\n",
    "sns.scatterplot(x = data['fare_amount'], y = data['trip_distance'])\n"
   ]
  },
  {
   "cell_type": "code",
   "execution_count": 60,
   "id": "4179267d",
   "metadata": {},
   "outputs": [
    {
     "data": {
      "text/plain": [
       "0         844.0\n",
       "1        1590.0\n",
       "2         432.0\n",
       "3        1815.0\n",
       "4        1003.0\n",
       "          ...  \n",
       "22695     567.0\n",
       "22696     196.0\n",
       "22698     248.0\n",
       "22699     716.0\n",
       "22700     800.0\n",
       "Name: travel_time, Length: 22019, dtype: float64"
      ]
     },
     "execution_count": 60,
     "metadata": {},
     "output_type": "execute_result"
    },
    {
     "data": {
      "image/png": "[encoded data removed]",
      "text/plain": [
       "<Figure size 432x288 with 1 Axes>"
      ]
     },
     "metadata": {
      "needs_background": "light"
     },
     "output_type": "display_data"
    }
   ],
   "source": [
    "# Q. fare_amount와 travel_time 사이의 관계를 scatter plot으로 표현합니다.\n",
    "\n",
    "sns.scatterplot(x = data['fare_amount'], y = data['travel_time'])"
   ]
  },
  {
   "cell_type": "code",
   "execution_count": 61,
   "id": "65c73d99",
   "metadata": {},
   "outputs": [
    {
     "data": {
      "text/plain": [
       "<AxesSubplot:xlabel='trip_distance', ylabel='travel_time'>"
      ]
     },
     "execution_count": 61,
     "metadata": {},
     "output_type": "execute_result"
    },
    {
     "data": {
      "image/png": "[encoded data removed]",
      "text/plain": [
       "<Figure size 432x288 with 1 Axes>"
      ]
     },
     "metadata": {
      "needs_background": "light"
     },
     "output_type": "display_data"
    }
   ],
   "source": [
    "# Q. trip_distance와 travel_time 사이의 관계를 scatter plot으로 표현합니다.\n",
    "\n",
    "sns.scatterplot(x = data['trip_distance'], y = data['travel_time'])"
   ]
  },
  {
   "cell_type": "code",
   "execution_count": 65,
   "id": "3db1f324",
   "metadata": {},
   "outputs": [],
   "source": [
    "# Q. scatter plot으로 관찰된 travel_time의 이상치를 제거합니다.\n",
    "data = data[data['travel_time'] < 15000]"
   ]
  },
  {
   "cell_type": "code",
   "execution_count": 66,
   "id": "4652c6f4",
   "metadata": {},
   "outputs": [
    {
     "data": {
      "text/plain": [
       "<AxesSubplot:xlabel='fare_amount', ylabel='travel_time'>"
      ]
     },
     "execution_count": 66,
     "metadata": {},
     "output_type": "execute_result"
    },
    {
     "data": {
      "image/png": "[encoded data removed]",
      "text/plain": [
       "<Figure size 432x288 with 1 Axes>"
      ]
     },
     "metadata": {
      "needs_background": "light"
     },
     "output_type": "display_data"
    }
   ],
   "source": [
    "sns.scatterplot(x = data['fare_amount'], y = data['travel_time'])"
   ]
  },
  {
   "cell_type": "code",
   "execution_count": 67,
   "id": "18c6f262",
   "metadata": {},
   "outputs": [
    {
     "data": {
      "text/plain": [
       "<AxesSubplot:xlabel='trip_distance', ylabel='travel_time'>"
      ]
     },
     "execution_count": 67,
     "metadata": {},
     "output_type": "execute_result"
    },
    {
     "data": {
      "image/png": "[encoded data removed]",
      "text/plain": [
       "<Figure size 432x288 with 1 Axes>"
      ]
     },
     "metadata": {
      "needs_background": "light"
     },
     "output_type": "display_data"
    }
   ],
   "source": [
    "sns.scatterplot(x = data['trip_distance'], y = data['travel_time'])"
   ]
  },
  {
   "cell_type": "code",
   "execution_count": null,
   "id": "ecb1a617",
   "metadata": {},
   "outputs": [],
   "source": []
  }
 ],
 "metadata": {
  "kernelspec": {
   "display_name": "Python 3 (ipykernel)",
   "language": "python",
   "name": "python3"
  },
  "language_info": {
   "codemirror_mode": {
    "name": "ipython",
    "version": 3
   },
   "file_extension": ".py",
   "mimetype": "text/x-python",
   "name": "python",
   "nbconvert_exporter": "python",
   "pygments_lexer": "ipython3",
   "version": "3.9.7"
  }
 },
 "nbformat": 4,
 "nbformat_minor": 5
}
