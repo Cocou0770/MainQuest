{
 "cells": [
  {
   "cell_type": "code",
   "execution_count": 1,
   "metadata": {
    "id": "roCZN58vEV8j"
   },
   "outputs": [],
   "source": [
    "import pandas as pd\n",
    "import numpy as np\n",
    "import matplotlib.pyplot as plt\n",
    "import seaborn as sns\n",
    "\n",
    "plt.rc('font', family='Malgun Gothic')\n",
    "plt.rcParams['axes.unicode_minus'] = False"
   ]
  },
  {
   "cell_type": "code",
   "execution_count": 2,
   "metadata": {
    "colab": {
     "base_uri": "https://localhost:8080/"
    },
    "id": "Ln2ta7MtEeBn",
    "outputId": "89d3f40d-4182-4f2e-b644-c4e73199d8ce"
   },
   "outputs": [
    {
     "name": "stdout",
     "output_type": "stream",
     "text": [
      "Requirement already satisfied: kagglehub in c:\\users\\coco\\anaconda3\\lib\\site-packages (0.2.7)\n",
      "Requirement already satisfied: packaging in c:\\users\\coco\\anaconda3\\lib\\site-packages (from kagglehub) (25.0)\n",
      "Requirement already satisfied: requests in c:\\users\\coco\\anaconda3\\lib\\site-packages (from kagglehub) (2.32.4)\n",
      "Requirement already satisfied: tqdm in c:\\users\\coco\\anaconda3\\lib\\site-packages (from kagglehub) (4.67.1)\n",
      "Requirement already satisfied: charset_normalizer<4,>=2 in c:\\users\\coco\\anaconda3\\lib\\site-packages (from requests->kagglehub) (3.3.2)\n",
      "Requirement already satisfied: idna<4,>=2.5 in c:\\users\\coco\\anaconda3\\lib\\site-packages (from requests->kagglehub) (3.7)\n",
      "Requirement already satisfied: urllib3<3,>=1.21.1 in c:\\users\\coco\\anaconda3\\lib\\site-packages (from requests->kagglehub) (2.5.0)\n",
      "Requirement already satisfied: certifi>=2017.4.17 in c:\\users\\coco\\anaconda3\\lib\\site-packages (from requests->kagglehub) (2025.8.3)\n",
      "Requirement already satisfied: colorama in c:\\users\\coco\\anaconda3\\lib\\site-packages (from tqdm->kagglehub) (0.4.6)\n"
     ]
    }
   ],
   "source": [
    "!pip install kagglehub"
   ]
  },
  {
   "cell_type": "code",
   "execution_count": 3,
   "metadata": {
    "colab": {
     "base_uri": "https://localhost:8080/"
    },
    "id": "nzm86qcTEXKO",
    "outputId": "f81f1bf5-09aa-44d2-dffc-3756b5e09db5"
   },
   "outputs": [
    {
     "name": "stdout",
     "output_type": "stream",
     "text": [
      "Warning: Looks like you're using an outdated `kagglehub` version, please consider updating (latest version: 0.3.12)\n",
      "Path to dataset files: C:\\Users\\Coco\\.cache\\kagglehub\\datasets\\tunguz\\online-retail\\versions\\1\n"
     ]
    },
    {
     "data": {
      "text/plain": [
       "(541909, 8)"
      ]
     },
     "execution_count": 3,
     "metadata": {},
     "output_type": "execute_result"
    }
   ],
   "source": [
    "import kagglehub\n",
    "import os\n",
    "\n",
    "# Download latest version\n",
    "path = kagglehub.dataset_download(\"tunguz/online-retail\")\n",
    "\n",
    "print(\"Path to dataset files:\", path)\n",
    "df = pd.read_csv(path + '/' + os.listdir(path)[0], encoding='latin1')\n",
    "df.shape"
   ]
  },
  {
   "cell_type": "code",
   "execution_count": 4,
   "metadata": {
    "colab": {
     "base_uri": "https://localhost:8080/",
     "height": 293
    },
    "id": "1a1z6CpsMVmm",
    "outputId": "30bfa160-b185-493f-f4eb-378581578016"
   },
   "outputs": [
    {
     "data": {
      "text/html": [
       "<div>\n",
       "<style scoped>\n",
       "    .dataframe tbody tr th:only-of-type {\n",
       "        vertical-align: middle;\n",
       "    }\n",
       "\n",
       "    .dataframe tbody tr th {\n",
       "        vertical-align: top;\n",
       "    }\n",
       "\n",
       "    .dataframe thead th {\n",
       "        text-align: right;\n",
       "    }\n",
       "</style>\n",
       "<table border=\"1\" class=\"dataframe\">\n",
       "  <thead>\n",
       "    <tr style=\"text-align: right;\">\n",
       "      <th></th>\n",
       "      <th>InvoiceNo</th>\n",
       "      <th>StockCode</th>\n",
       "      <th>Description</th>\n",
       "      <th>Quantity</th>\n",
       "      <th>InvoiceDate</th>\n",
       "      <th>UnitPrice</th>\n",
       "      <th>CustomerID</th>\n",
       "      <th>Country</th>\n",
       "    </tr>\n",
       "  </thead>\n",
       "  <tbody>\n",
       "    <tr>\n",
       "      <th>0</th>\n",
       "      <td>536365</td>\n",
       "      <td>85123A</td>\n",
       "      <td>WHITE HANGING HEART T-LIGHT HOLDER</td>\n",
       "      <td>6</td>\n",
       "      <td>12/1/10 8:26</td>\n",
       "      <td>2.55</td>\n",
       "      <td>17850.0</td>\n",
       "      <td>United Kingdom</td>\n",
       "    </tr>\n",
       "    <tr>\n",
       "      <th>1</th>\n",
       "      <td>536365</td>\n",
       "      <td>71053</td>\n",
       "      <td>WHITE METAL LANTERN</td>\n",
       "      <td>6</td>\n",
       "      <td>12/1/10 8:26</td>\n",
       "      <td>3.39</td>\n",
       "      <td>17850.0</td>\n",
       "      <td>United Kingdom</td>\n",
       "    </tr>\n",
       "    <tr>\n",
       "      <th>2</th>\n",
       "      <td>536365</td>\n",
       "      <td>84406B</td>\n",
       "      <td>CREAM CUPID HEARTS COAT HANGER</td>\n",
       "      <td>8</td>\n",
       "      <td>12/1/10 8:26</td>\n",
       "      <td>2.75</td>\n",
       "      <td>17850.0</td>\n",
       "      <td>United Kingdom</td>\n",
       "    </tr>\n",
       "    <tr>\n",
       "      <th>3</th>\n",
       "      <td>536365</td>\n",
       "      <td>84029G</td>\n",
       "      <td>KNITTED UNION FLAG HOT WATER BOTTLE</td>\n",
       "      <td>6</td>\n",
       "      <td>12/1/10 8:26</td>\n",
       "      <td>3.39</td>\n",
       "      <td>17850.0</td>\n",
       "      <td>United Kingdom</td>\n",
       "    </tr>\n",
       "    <tr>\n",
       "      <th>4</th>\n",
       "      <td>536365</td>\n",
       "      <td>84029E</td>\n",
       "      <td>RED WOOLLY HOTTIE WHITE HEART.</td>\n",
       "      <td>6</td>\n",
       "      <td>12/1/10 8:26</td>\n",
       "      <td>3.39</td>\n",
       "      <td>17850.0</td>\n",
       "      <td>United Kingdom</td>\n",
       "    </tr>\n",
       "  </tbody>\n",
       "</table>\n",
       "</div>"
      ],
      "text/plain": [
       "  InvoiceNo StockCode                          Description  Quantity  \\\n",
       "0    536365    85123A   WHITE HANGING HEART T-LIGHT HOLDER         6   \n",
       "1    536365     71053                  WHITE METAL LANTERN         6   \n",
       "2    536365    84406B       CREAM CUPID HEARTS COAT HANGER         8   \n",
       "3    536365    84029G  KNITTED UNION FLAG HOT WATER BOTTLE         6   \n",
       "4    536365    84029E       RED WOOLLY HOTTIE WHITE HEART.         6   \n",
       "\n",
       "    InvoiceDate  UnitPrice  CustomerID         Country  \n",
       "0  12/1/10 8:26       2.55     17850.0  United Kingdom  \n",
       "1  12/1/10 8:26       3.39     17850.0  United Kingdom  \n",
       "2  12/1/10 8:26       2.75     17850.0  United Kingdom  \n",
       "3  12/1/10 8:26       3.39     17850.0  United Kingdom  \n",
       "4  12/1/10 8:26       3.39     17850.0  United Kingdom  "
      ]
     },
     "execution_count": 4,
     "metadata": {},
     "output_type": "execute_result"
    }
   ],
   "source": [
    "df.head()"
   ]
  },
  {
   "cell_type": "code",
   "execution_count": 5,
   "metadata": {
    "colab": {
     "base_uri": "https://localhost:8080/"
    },
    "id": "L0HBCqRrKnx4",
    "outputId": "85a8ffbf-ef43-4e1a-efab-051c894edf49"
   },
   "outputs": [
    {
     "name": "stdout",
     "output_type": "stream",
     "text": [
      "<class 'pandas.core.frame.DataFrame'>\n",
      "RangeIndex: 541909 entries, 0 to 541908\n",
      "Data columns (total 8 columns):\n",
      " #   Column       Non-Null Count   Dtype  \n",
      "---  ------       --------------   -----  \n",
      " 0   InvoiceNo    541909 non-null  object \n",
      " 1   StockCode    541909 non-null  object \n",
      " 2   Description  540455 non-null  object \n",
      " 3   Quantity     541909 non-null  int64  \n",
      " 4   InvoiceDate  541909 non-null  object \n",
      " 5   UnitPrice    541909 non-null  float64\n",
      " 6   CustomerID   406829 non-null  float64\n",
      " 7   Country      541909 non-null  object \n",
      "dtypes: float64(2), int64(1), object(5)\n",
      "memory usage: 33.1+ MB\n"
     ]
    }
   ],
   "source": [
    "df.info()"
   ]
  },
  {
   "cell_type": "code",
   "execution_count": 6,
   "metadata": {
    "colab": {
     "base_uri": "https://localhost:8080/",
     "height": 362
    },
    "id": "9eMYZRXsMvDk",
    "outputId": "2c245f9a-eeb7-40dc-c999-8bce34ffd28b"
   },
   "outputs": [
    {
     "data": {
      "text/html": [
       "<div>\n",
       "<style scoped>\n",
       "    .dataframe tbody tr th:only-of-type {\n",
       "        vertical-align: middle;\n",
       "    }\n",
       "\n",
       "    .dataframe tbody tr th {\n",
       "        vertical-align: top;\n",
       "    }\n",
       "\n",
       "    .dataframe thead th {\n",
       "        text-align: right;\n",
       "    }\n",
       "</style>\n",
       "<table border=\"1\" class=\"dataframe\">\n",
       "  <thead>\n",
       "    <tr style=\"text-align: right;\">\n",
       "      <th></th>\n",
       "      <th>InvoiceNo</th>\n",
       "      <th>StockCode</th>\n",
       "      <th>Description</th>\n",
       "      <th>Quantity</th>\n",
       "      <th>InvoiceDate</th>\n",
       "      <th>UnitPrice</th>\n",
       "      <th>CustomerID</th>\n",
       "      <th>Country</th>\n",
       "      <th>TotalPrice</th>\n",
       "    </tr>\n",
       "  </thead>\n",
       "  <tbody>\n",
       "    <tr>\n",
       "      <th>0</th>\n",
       "      <td>536365</td>\n",
       "      <td>85123A</td>\n",
       "      <td>WHITE HANGING HEART T-LIGHT HOLDER</td>\n",
       "      <td>6</td>\n",
       "      <td>12/1/10 8:26</td>\n",
       "      <td>2.55</td>\n",
       "      <td>17850.0</td>\n",
       "      <td>United Kingdom</td>\n",
       "      <td>15.30</td>\n",
       "    </tr>\n",
       "    <tr>\n",
       "      <th>1</th>\n",
       "      <td>536365</td>\n",
       "      <td>71053</td>\n",
       "      <td>WHITE METAL LANTERN</td>\n",
       "      <td>6</td>\n",
       "      <td>12/1/10 8:26</td>\n",
       "      <td>3.39</td>\n",
       "      <td>17850.0</td>\n",
       "      <td>United Kingdom</td>\n",
       "      <td>20.34</td>\n",
       "    </tr>\n",
       "    <tr>\n",
       "      <th>2</th>\n",
       "      <td>536365</td>\n",
       "      <td>84406B</td>\n",
       "      <td>CREAM CUPID HEARTS COAT HANGER</td>\n",
       "      <td>8</td>\n",
       "      <td>12/1/10 8:26</td>\n",
       "      <td>2.75</td>\n",
       "      <td>17850.0</td>\n",
       "      <td>United Kingdom</td>\n",
       "      <td>22.00</td>\n",
       "    </tr>\n",
       "    <tr>\n",
       "      <th>3</th>\n",
       "      <td>536365</td>\n",
       "      <td>84029G</td>\n",
       "      <td>KNITTED UNION FLAG HOT WATER BOTTLE</td>\n",
       "      <td>6</td>\n",
       "      <td>12/1/10 8:26</td>\n",
       "      <td>3.39</td>\n",
       "      <td>17850.0</td>\n",
       "      <td>United Kingdom</td>\n",
       "      <td>20.34</td>\n",
       "    </tr>\n",
       "    <tr>\n",
       "      <th>4</th>\n",
       "      <td>536365</td>\n",
       "      <td>84029E</td>\n",
       "      <td>RED WOOLLY HOTTIE WHITE HEART.</td>\n",
       "      <td>6</td>\n",
       "      <td>12/1/10 8:26</td>\n",
       "      <td>3.39</td>\n",
       "      <td>17850.0</td>\n",
       "      <td>United Kingdom</td>\n",
       "      <td>20.34</td>\n",
       "    </tr>\n",
       "  </tbody>\n",
       "</table>\n",
       "</div>"
      ],
      "text/plain": [
       "  InvoiceNo StockCode                          Description  Quantity  \\\n",
       "0    536365    85123A   WHITE HANGING HEART T-LIGHT HOLDER         6   \n",
       "1    536365     71053                  WHITE METAL LANTERN         6   \n",
       "2    536365    84406B       CREAM CUPID HEARTS COAT HANGER         8   \n",
       "3    536365    84029G  KNITTED UNION FLAG HOT WATER BOTTLE         6   \n",
       "4    536365    84029E       RED WOOLLY HOTTIE WHITE HEART.         6   \n",
       "\n",
       "    InvoiceDate  UnitPrice  CustomerID         Country  TotalPrice  \n",
       "0  12/1/10 8:26       2.55     17850.0  United Kingdom       15.30  \n",
       "1  12/1/10 8:26       3.39     17850.0  United Kingdom       20.34  \n",
       "2  12/1/10 8:26       2.75     17850.0  United Kingdom       22.00  \n",
       "3  12/1/10 8:26       3.39     17850.0  United Kingdom       20.34  \n",
       "4  12/1/10 8:26       3.39     17850.0  United Kingdom       20.34  "
      ]
     },
     "execution_count": 6,
     "metadata": {},
     "output_type": "execute_result"
    }
   ],
   "source": [
    "# 주문 가격\n",
    "df[\"TotalPrice\"] = df[\"Quantity\"] * df[\"UnitPrice\"]\n",
    "df.head()"
   ]
  },
  {
   "cell_type": "code",
   "execution_count": 7,
   "metadata": {
    "id": "Yjh3OImd9Yms"
   },
   "outputs": [
    {
     "name": "stderr",
     "output_type": "stream",
     "text": [
      "C:\\Users\\Coco\\AppData\\Local\\Temp\\ipykernel_78860\\3844768752.py:2: UserWarning: Could not infer format, so each element will be parsed individually, falling back to `dateutil`. To ensure parsing is consistent and as-expected, please specify a format.\n",
      "  df['InvoiceDate'] = pd.to_datetime(df['InvoiceDate'])\n"
     ]
    }
   ],
   "source": [
    "# 'InvoiceDate' 컬럼을 이용하여 주중과 주말을 구분\n",
    "df['InvoiceDate'] = pd.to_datetime(df['InvoiceDate'])\n",
    "df['DayOfWeek'] = df['InvoiceDate'].dt.dayofweek\n",
    "\n",
    "# 'InvoiceDate' 컬럼 이용하여 판매 월 추출\n",
    "df[\"InvoiceDate\"] = pd.to_datetime(df[\"InvoiceDate\"].astype(str))\n",
    "df[\"InvoiceMonth\"] = df[\"InvoiceDate\"].dt.month"
   ]
  },
  {
   "cell_type": "code",
   "execution_count": 8,
   "metadata": {},
   "outputs": [
    {
     "data": {
      "text/plain": [
       "InvoiceNo            0\n",
       "StockCode            0\n",
       "Description       1454\n",
       "Quantity             0\n",
       "InvoiceDate          0\n",
       "UnitPrice            0\n",
       "CustomerID      135080\n",
       "Country              0\n",
       "TotalPrice           0\n",
       "DayOfWeek            0\n",
       "InvoiceMonth         0\n",
       "dtype: int64"
      ]
     },
     "execution_count": 8,
     "metadata": {},
     "output_type": "execute_result"
    }
   ],
   "source": [
    "df.isnull().sum()"
   ]
  },
  {
   "cell_type": "code",
   "execution_count": 9,
   "metadata": {},
   "outputs": [
    {
     "name": "stdout",
     "output_type": "stream",
     "text": [
      "cancel\n",
      "0    532621\n",
      "1      9288\n",
      "Name: count, dtype: int64\n"
     ]
    }
   ],
   "source": [
    "df['cancel'] = df['InvoiceNo'].str.startswith('C', na=False).astype(int)\n",
    "print(df['cancel'].value_counts())"
   ]
  },
  {
   "cell_type": "markdown",
   "metadata": {},
   "source": [
    "InvoiceNo에서 C로 시작하는 주문은 취소 주문이고 9288개가 존재"
   ]
  },
  {
   "cell_type": "code",
   "execution_count": 10,
   "metadata": {},
   "outputs": [
    {
     "data": {
      "image/png": "[encoded data removed]",
      "text/plain": [
       "<Figure size 1800x800 with 2 Axes>"
      ]
     },
     "metadata": {},
     "output_type": "display_data"
    }
   ],
   "source": [
    "f, ax = plt.subplots(1,2,figsize=(18,8)) #수량과 가격 분포 확인\n",
    "\n",
    "sns.boxplot(x = 'UnitPrice', data=df, ax=ax[0])\n",
    "sns.boxplot(x = 'Quantity', data=df, ax=ax[1]) \n",
    "plt.show()"
   ]
  },
  {
   "cell_type": "code",
   "execution_count": 11,
   "metadata": {},
   "outputs": [
    {
     "data": {
      "text/html": [
       "<div>\n",
       "<style scoped>\n",
       "    .dataframe tbody tr th:only-of-type {\n",
       "        vertical-align: middle;\n",
       "    }\n",
       "\n",
       "    .dataframe tbody tr th {\n",
       "        vertical-align: top;\n",
       "    }\n",
       "\n",
       "    .dataframe thead th {\n",
       "        text-align: right;\n",
       "    }\n",
       "</style>\n",
       "<table border=\"1\" class=\"dataframe\">\n",
       "  <thead>\n",
       "    <tr style=\"text-align: right;\">\n",
       "      <th></th>\n",
       "      <th>InvoiceNo</th>\n",
       "      <th>StockCode</th>\n",
       "      <th>Description</th>\n",
       "      <th>Quantity</th>\n",
       "      <th>InvoiceDate</th>\n",
       "      <th>UnitPrice</th>\n",
       "      <th>CustomerID</th>\n",
       "      <th>Country</th>\n",
       "      <th>TotalPrice</th>\n",
       "      <th>DayOfWeek</th>\n",
       "      <th>InvoiceMonth</th>\n",
       "      <th>cancel</th>\n",
       "    </tr>\n",
       "  </thead>\n",
       "  <tbody>\n",
       "    <tr>\n",
       "      <th>141</th>\n",
       "      <td>C536379</td>\n",
       "      <td>D</td>\n",
       "      <td>Discount</td>\n",
       "      <td>-1</td>\n",
       "      <td>2010-12-01 09:41:00</td>\n",
       "      <td>27.50</td>\n",
       "      <td>14527.0</td>\n",
       "      <td>United Kingdom</td>\n",
       "      <td>-27.50</td>\n",
       "      <td>2</td>\n",
       "      <td>12</td>\n",
       "      <td>1</td>\n",
       "    </tr>\n",
       "    <tr>\n",
       "      <th>154</th>\n",
       "      <td>C536383</td>\n",
       "      <td>35004C</td>\n",
       "      <td>SET OF 3 COLOURED  FLYING DUCKS</td>\n",
       "      <td>-1</td>\n",
       "      <td>2010-12-01 09:49:00</td>\n",
       "      <td>4.65</td>\n",
       "      <td>15311.0</td>\n",
       "      <td>United Kingdom</td>\n",
       "      <td>-4.65</td>\n",
       "      <td>2</td>\n",
       "      <td>12</td>\n",
       "      <td>1</td>\n",
       "    </tr>\n",
       "    <tr>\n",
       "      <th>235</th>\n",
       "      <td>C536391</td>\n",
       "      <td>22556</td>\n",
       "      <td>PLASTERS IN TIN CIRCUS PARADE</td>\n",
       "      <td>-12</td>\n",
       "      <td>2010-12-01 10:24:00</td>\n",
       "      <td>1.65</td>\n",
       "      <td>17548.0</td>\n",
       "      <td>United Kingdom</td>\n",
       "      <td>-19.80</td>\n",
       "      <td>2</td>\n",
       "      <td>12</td>\n",
       "      <td>1</td>\n",
       "    </tr>\n",
       "    <tr>\n",
       "      <th>236</th>\n",
       "      <td>C536391</td>\n",
       "      <td>21984</td>\n",
       "      <td>PACK OF 12 PINK PAISLEY TISSUES</td>\n",
       "      <td>-24</td>\n",
       "      <td>2010-12-01 10:24:00</td>\n",
       "      <td>0.29</td>\n",
       "      <td>17548.0</td>\n",
       "      <td>United Kingdom</td>\n",
       "      <td>-6.96</td>\n",
       "      <td>2</td>\n",
       "      <td>12</td>\n",
       "      <td>1</td>\n",
       "    </tr>\n",
       "    <tr>\n",
       "      <th>237</th>\n",
       "      <td>C536391</td>\n",
       "      <td>21983</td>\n",
       "      <td>PACK OF 12 BLUE PAISLEY TISSUES</td>\n",
       "      <td>-24</td>\n",
       "      <td>2010-12-01 10:24:00</td>\n",
       "      <td>0.29</td>\n",
       "      <td>17548.0</td>\n",
       "      <td>United Kingdom</td>\n",
       "      <td>-6.96</td>\n",
       "      <td>2</td>\n",
       "      <td>12</td>\n",
       "      <td>1</td>\n",
       "    </tr>\n",
       "    <tr>\n",
       "      <th>...</th>\n",
       "      <td>...</td>\n",
       "      <td>...</td>\n",
       "      <td>...</td>\n",
       "      <td>...</td>\n",
       "      <td>...</td>\n",
       "      <td>...</td>\n",
       "      <td>...</td>\n",
       "      <td>...</td>\n",
       "      <td>...</td>\n",
       "      <td>...</td>\n",
       "      <td>...</td>\n",
       "      <td>...</td>\n",
       "    </tr>\n",
       "    <tr>\n",
       "      <th>540449</th>\n",
       "      <td>C581490</td>\n",
       "      <td>23144</td>\n",
       "      <td>ZINC T-LIGHT HOLDER STARS SMALL</td>\n",
       "      <td>-11</td>\n",
       "      <td>2011-12-09 09:57:00</td>\n",
       "      <td>0.83</td>\n",
       "      <td>14397.0</td>\n",
       "      <td>United Kingdom</td>\n",
       "      <td>-9.13</td>\n",
       "      <td>4</td>\n",
       "      <td>12</td>\n",
       "      <td>1</td>\n",
       "    </tr>\n",
       "    <tr>\n",
       "      <th>541541</th>\n",
       "      <td>C581499</td>\n",
       "      <td>M</td>\n",
       "      <td>Manual</td>\n",
       "      <td>-1</td>\n",
       "      <td>2011-12-09 10:28:00</td>\n",
       "      <td>224.69</td>\n",
       "      <td>15498.0</td>\n",
       "      <td>United Kingdom</td>\n",
       "      <td>-224.69</td>\n",
       "      <td>4</td>\n",
       "      <td>12</td>\n",
       "      <td>1</td>\n",
       "    </tr>\n",
       "    <tr>\n",
       "      <th>541715</th>\n",
       "      <td>C581568</td>\n",
       "      <td>21258</td>\n",
       "      <td>VICTORIAN SEWING BOX LARGE</td>\n",
       "      <td>-5</td>\n",
       "      <td>2011-12-09 11:57:00</td>\n",
       "      <td>10.95</td>\n",
       "      <td>15311.0</td>\n",
       "      <td>United Kingdom</td>\n",
       "      <td>-54.75</td>\n",
       "      <td>4</td>\n",
       "      <td>12</td>\n",
       "      <td>1</td>\n",
       "    </tr>\n",
       "    <tr>\n",
       "      <th>541716</th>\n",
       "      <td>C581569</td>\n",
       "      <td>84978</td>\n",
       "      <td>HANGING HEART JAR T-LIGHT HOLDER</td>\n",
       "      <td>-1</td>\n",
       "      <td>2011-12-09 11:58:00</td>\n",
       "      <td>1.25</td>\n",
       "      <td>17315.0</td>\n",
       "      <td>United Kingdom</td>\n",
       "      <td>-1.25</td>\n",
       "      <td>4</td>\n",
       "      <td>12</td>\n",
       "      <td>1</td>\n",
       "    </tr>\n",
       "    <tr>\n",
       "      <th>541717</th>\n",
       "      <td>C581569</td>\n",
       "      <td>20979</td>\n",
       "      <td>36 PENCILS TUBE RED RETROSPOT</td>\n",
       "      <td>-5</td>\n",
       "      <td>2011-12-09 11:58:00</td>\n",
       "      <td>1.25</td>\n",
       "      <td>17315.0</td>\n",
       "      <td>United Kingdom</td>\n",
       "      <td>-6.25</td>\n",
       "      <td>4</td>\n",
       "      <td>12</td>\n",
       "      <td>1</td>\n",
       "    </tr>\n",
       "  </tbody>\n",
       "</table>\n",
       "<p>10624 rows × 12 columns</p>\n",
       "</div>"
      ],
      "text/plain": [
       "       InvoiceNo StockCode                       Description  Quantity  \\\n",
       "141      C536379         D                          Discount        -1   \n",
       "154      C536383    35004C   SET OF 3 COLOURED  FLYING DUCKS        -1   \n",
       "235      C536391     22556    PLASTERS IN TIN CIRCUS PARADE        -12   \n",
       "236      C536391     21984  PACK OF 12 PINK PAISLEY TISSUES        -24   \n",
       "237      C536391     21983  PACK OF 12 BLUE PAISLEY TISSUES        -24   \n",
       "...          ...       ...                               ...       ...   \n",
       "540449   C581490     23144   ZINC T-LIGHT HOLDER STARS SMALL       -11   \n",
       "541541   C581499         M                            Manual        -1   \n",
       "541715   C581568     21258        VICTORIAN SEWING BOX LARGE        -5   \n",
       "541716   C581569     84978  HANGING HEART JAR T-LIGHT HOLDER        -1   \n",
       "541717   C581569     20979     36 PENCILS TUBE RED RETROSPOT        -5   \n",
       "\n",
       "               InvoiceDate  UnitPrice  CustomerID         Country  TotalPrice  \\\n",
       "141    2010-12-01 09:41:00      27.50     14527.0  United Kingdom      -27.50   \n",
       "154    2010-12-01 09:49:00       4.65     15311.0  United Kingdom       -4.65   \n",
       "235    2010-12-01 10:24:00       1.65     17548.0  United Kingdom      -19.80   \n",
       "236    2010-12-01 10:24:00       0.29     17548.0  United Kingdom       -6.96   \n",
       "237    2010-12-01 10:24:00       0.29     17548.0  United Kingdom       -6.96   \n",
       "...                    ...        ...         ...             ...         ...   \n",
       "540449 2011-12-09 09:57:00       0.83     14397.0  United Kingdom       -9.13   \n",
       "541541 2011-12-09 10:28:00     224.69     15498.0  United Kingdom     -224.69   \n",
       "541715 2011-12-09 11:57:00      10.95     15311.0  United Kingdom      -54.75   \n",
       "541716 2011-12-09 11:58:00       1.25     17315.0  United Kingdom       -1.25   \n",
       "541717 2011-12-09 11:58:00       1.25     17315.0  United Kingdom       -6.25   \n",
       "\n",
       "        DayOfWeek  InvoiceMonth  cancel  \n",
       "141             2            12       1  \n",
       "154             2            12       1  \n",
       "235             2            12       1  \n",
       "236             2            12       1  \n",
       "237             2            12       1  \n",
       "...           ...           ...     ...  \n",
       "540449          4            12       1  \n",
       "541541          4            12       1  \n",
       "541715          4            12       1  \n",
       "541716          4            12       1  \n",
       "541717          4            12       1  \n",
       "\n",
       "[10624 rows x 12 columns]"
      ]
     },
     "execution_count": 11,
     "metadata": {},
     "output_type": "execute_result"
    }
   ],
   "source": [
    "df[df['Quantity'] < 0] #수량이 0 미만인 주문 확인, 대부분 취소된 주문 , C536379 값을 기억해주세요!"
   ]
  },
  {
   "cell_type": "code",
   "execution_count": 12,
   "metadata": {},
   "outputs": [
    {
     "data": {
      "text/html": [
       "<div>\n",
       "<style scoped>\n",
       "    .dataframe tbody tr th:only-of-type {\n",
       "        vertical-align: middle;\n",
       "    }\n",
       "\n",
       "    .dataframe tbody tr th {\n",
       "        vertical-align: top;\n",
       "    }\n",
       "\n",
       "    .dataframe thead th {\n",
       "        text-align: right;\n",
       "    }\n",
       "</style>\n",
       "<table border=\"1\" class=\"dataframe\">\n",
       "  <thead>\n",
       "    <tr style=\"text-align: right;\">\n",
       "      <th></th>\n",
       "      <th>InvoiceNo</th>\n",
       "      <th>StockCode</th>\n",
       "      <th>Description</th>\n",
       "      <th>Quantity</th>\n",
       "      <th>InvoiceDate</th>\n",
       "      <th>UnitPrice</th>\n",
       "      <th>CustomerID</th>\n",
       "      <th>Country</th>\n",
       "      <th>TotalPrice</th>\n",
       "      <th>DayOfWeek</th>\n",
       "      <th>InvoiceMonth</th>\n",
       "      <th>cancel</th>\n",
       "    </tr>\n",
       "  </thead>\n",
       "  <tbody>\n",
       "    <tr>\n",
       "      <th>2406</th>\n",
       "      <td>536589</td>\n",
       "      <td>21777</td>\n",
       "      <td>NaN</td>\n",
       "      <td>-10</td>\n",
       "      <td>2010-12-01 16:50:00</td>\n",
       "      <td>0.0</td>\n",
       "      <td>NaN</td>\n",
       "      <td>United Kingdom</td>\n",
       "      <td>-0.0</td>\n",
       "      <td>2</td>\n",
       "      <td>12</td>\n",
       "      <td>0</td>\n",
       "    </tr>\n",
       "    <tr>\n",
       "      <th>4347</th>\n",
       "      <td>536764</td>\n",
       "      <td>84952C</td>\n",
       "      <td>NaN</td>\n",
       "      <td>-38</td>\n",
       "      <td>2010-12-02 14:42:00</td>\n",
       "      <td>0.0</td>\n",
       "      <td>NaN</td>\n",
       "      <td>United Kingdom</td>\n",
       "      <td>-0.0</td>\n",
       "      <td>3</td>\n",
       "      <td>12</td>\n",
       "      <td>0</td>\n",
       "    </tr>\n",
       "    <tr>\n",
       "      <th>7188</th>\n",
       "      <td>536996</td>\n",
       "      <td>22712</td>\n",
       "      <td>NaN</td>\n",
       "      <td>-20</td>\n",
       "      <td>2010-12-03 15:30:00</td>\n",
       "      <td>0.0</td>\n",
       "      <td>NaN</td>\n",
       "      <td>United Kingdom</td>\n",
       "      <td>-0.0</td>\n",
       "      <td>4</td>\n",
       "      <td>12</td>\n",
       "      <td>0</td>\n",
       "    </tr>\n",
       "    <tr>\n",
       "      <th>7189</th>\n",
       "      <td>536997</td>\n",
       "      <td>22028</td>\n",
       "      <td>NaN</td>\n",
       "      <td>-20</td>\n",
       "      <td>2010-12-03 15:30:00</td>\n",
       "      <td>0.0</td>\n",
       "      <td>NaN</td>\n",
       "      <td>United Kingdom</td>\n",
       "      <td>-0.0</td>\n",
       "      <td>4</td>\n",
       "      <td>12</td>\n",
       "      <td>0</td>\n",
       "    </tr>\n",
       "    <tr>\n",
       "      <th>7190</th>\n",
       "      <td>536998</td>\n",
       "      <td>85067</td>\n",
       "      <td>NaN</td>\n",
       "      <td>-6</td>\n",
       "      <td>2010-12-03 15:30:00</td>\n",
       "      <td>0.0</td>\n",
       "      <td>NaN</td>\n",
       "      <td>United Kingdom</td>\n",
       "      <td>-0.0</td>\n",
       "      <td>4</td>\n",
       "      <td>12</td>\n",
       "      <td>0</td>\n",
       "    </tr>\n",
       "    <tr>\n",
       "      <th>...</th>\n",
       "      <td>...</td>\n",
       "      <td>...</td>\n",
       "      <td>...</td>\n",
       "      <td>...</td>\n",
       "      <td>...</td>\n",
       "      <td>...</td>\n",
       "      <td>...</td>\n",
       "      <td>...</td>\n",
       "      <td>...</td>\n",
       "      <td>...</td>\n",
       "      <td>...</td>\n",
       "      <td>...</td>\n",
       "    </tr>\n",
       "    <tr>\n",
       "      <th>535333</th>\n",
       "      <td>581210</td>\n",
       "      <td>23395</td>\n",
       "      <td>check</td>\n",
       "      <td>-26</td>\n",
       "      <td>2011-12-07 18:36:00</td>\n",
       "      <td>0.0</td>\n",
       "      <td>NaN</td>\n",
       "      <td>United Kingdom</td>\n",
       "      <td>-0.0</td>\n",
       "      <td>2</td>\n",
       "      <td>12</td>\n",
       "      <td>0</td>\n",
       "    </tr>\n",
       "    <tr>\n",
       "      <th>535335</th>\n",
       "      <td>581212</td>\n",
       "      <td>22578</td>\n",
       "      <td>lost</td>\n",
       "      <td>-1050</td>\n",
       "      <td>2011-12-07 18:38:00</td>\n",
       "      <td>0.0</td>\n",
       "      <td>NaN</td>\n",
       "      <td>United Kingdom</td>\n",
       "      <td>-0.0</td>\n",
       "      <td>2</td>\n",
       "      <td>12</td>\n",
       "      <td>0</td>\n",
       "    </tr>\n",
       "    <tr>\n",
       "      <th>535336</th>\n",
       "      <td>581213</td>\n",
       "      <td>22576</td>\n",
       "      <td>check</td>\n",
       "      <td>-30</td>\n",
       "      <td>2011-12-07 18:38:00</td>\n",
       "      <td>0.0</td>\n",
       "      <td>NaN</td>\n",
       "      <td>United Kingdom</td>\n",
       "      <td>-0.0</td>\n",
       "      <td>2</td>\n",
       "      <td>12</td>\n",
       "      <td>0</td>\n",
       "    </tr>\n",
       "    <tr>\n",
       "      <th>536908</th>\n",
       "      <td>581226</td>\n",
       "      <td>23090</td>\n",
       "      <td>missing</td>\n",
       "      <td>-338</td>\n",
       "      <td>2011-12-08 09:56:00</td>\n",
       "      <td>0.0</td>\n",
       "      <td>NaN</td>\n",
       "      <td>United Kingdom</td>\n",
       "      <td>-0.0</td>\n",
       "      <td>3</td>\n",
       "      <td>12</td>\n",
       "      <td>0</td>\n",
       "    </tr>\n",
       "    <tr>\n",
       "      <th>538919</th>\n",
       "      <td>581422</td>\n",
       "      <td>23169</td>\n",
       "      <td>smashed</td>\n",
       "      <td>-235</td>\n",
       "      <td>2011-12-08 15:24:00</td>\n",
       "      <td>0.0</td>\n",
       "      <td>NaN</td>\n",
       "      <td>United Kingdom</td>\n",
       "      <td>-0.0</td>\n",
       "      <td>3</td>\n",
       "      <td>12</td>\n",
       "      <td>0</td>\n",
       "    </tr>\n",
       "  </tbody>\n",
       "</table>\n",
       "<p>1336 rows × 12 columns</p>\n",
       "</div>"
      ],
      "text/plain": [
       "       InvoiceNo StockCode Description  Quantity         InvoiceDate  \\\n",
       "2406      536589     21777         NaN       -10 2010-12-01 16:50:00   \n",
       "4347      536764    84952C         NaN       -38 2010-12-02 14:42:00   \n",
       "7188      536996     22712         NaN       -20 2010-12-03 15:30:00   \n",
       "7189      536997     22028         NaN       -20 2010-12-03 15:30:00   \n",
       "7190      536998     85067         NaN        -6 2010-12-03 15:30:00   \n",
       "...          ...       ...         ...       ...                 ...   \n",
       "535333    581210     23395       check       -26 2011-12-07 18:36:00   \n",
       "535335    581212     22578        lost     -1050 2011-12-07 18:38:00   \n",
       "535336    581213     22576       check       -30 2011-12-07 18:38:00   \n",
       "536908    581226     23090     missing      -338 2011-12-08 09:56:00   \n",
       "538919    581422     23169     smashed      -235 2011-12-08 15:24:00   \n",
       "\n",
       "        UnitPrice  CustomerID         Country  TotalPrice  DayOfWeek  \\\n",
       "2406          0.0         NaN  United Kingdom        -0.0          2   \n",
       "4347          0.0         NaN  United Kingdom        -0.0          3   \n",
       "7188          0.0         NaN  United Kingdom        -0.0          4   \n",
       "7189          0.0         NaN  United Kingdom        -0.0          4   \n",
       "7190          0.0         NaN  United Kingdom        -0.0          4   \n",
       "...           ...         ...             ...         ...        ...   \n",
       "535333        0.0         NaN  United Kingdom        -0.0          2   \n",
       "535335        0.0         NaN  United Kingdom        -0.0          2   \n",
       "535336        0.0         NaN  United Kingdom        -0.0          2   \n",
       "536908        0.0         NaN  United Kingdom        -0.0          3   \n",
       "538919        0.0         NaN  United Kingdom        -0.0          3   \n",
       "\n",
       "        InvoiceMonth  cancel  \n",
       "2406              12       0  \n",
       "4347              12       0  \n",
       "7188              12       0  \n",
       "7189              12       0  \n",
       "7190              12       0  \n",
       "...              ...     ...  \n",
       "535333            12       0  \n",
       "535335            12       0  \n",
       "535336            12       0  \n",
       "536908            12       0  \n",
       "538919            12       0  \n",
       "\n",
       "[1336 rows x 12 columns]"
      ]
     },
     "execution_count": 12,
     "metadata": {},
     "output_type": "execute_result"
    }
   ],
   "source": [
    "df[(df['cancel'] == 0) & (df['Quantity'] < 0)] #최소되지 않은  주문 중에서 수량이 음수인 경우도 존재 ==> 이상치"
   ]
  },
  {
   "cell_type": "code",
   "execution_count": 13,
   "metadata": {},
   "outputs": [],
   "source": [
    "df = df[(df['cancel'] == 1) | (df['Quantity'] >= 0)] # 취소되지 않은 주문 중 수량이 음수인 이상치 제거\n",
    "df = df[df['UnitPrice'] > 0] #가격이 음수나 0인 이상치 제거\n"
   ]
  },
  {
   "cell_type": "code",
   "execution_count": 14,
   "metadata": {},
   "outputs": [
    {
     "data": {
      "text/html": [
       "<div>\n",
       "<style scoped>\n",
       "    .dataframe tbody tr th:only-of-type {\n",
       "        vertical-align: middle;\n",
       "    }\n",
       "\n",
       "    .dataframe tbody tr th {\n",
       "        vertical-align: top;\n",
       "    }\n",
       "\n",
       "    .dataframe thead th {\n",
       "        text-align: right;\n",
       "    }\n",
       "</style>\n",
       "<table border=\"1\" class=\"dataframe\">\n",
       "  <thead>\n",
       "    <tr style=\"text-align: right;\">\n",
       "      <th></th>\n",
       "      <th>InvoiceNo</th>\n",
       "      <th>StockCode</th>\n",
       "      <th>Description</th>\n",
       "      <th>Quantity</th>\n",
       "      <th>InvoiceDate</th>\n",
       "      <th>UnitPrice</th>\n",
       "      <th>CustomerID</th>\n",
       "      <th>Country</th>\n",
       "      <th>TotalPrice</th>\n",
       "      <th>DayOfWeek</th>\n",
       "      <th>InvoiceMonth</th>\n",
       "      <th>cancel</th>\n",
       "    </tr>\n",
       "  </thead>\n",
       "  <tbody>\n",
       "  </tbody>\n",
       "</table>\n",
       "</div>"
      ],
      "text/plain": [
       "Empty DataFrame\n",
       "Columns: [InvoiceNo, StockCode, Description, Quantity, InvoiceDate, UnitPrice, CustomerID, Country, TotalPrice, DayOfWeek, InvoiceMonth, cancel]\n",
       "Index: []"
      ]
     },
     "execution_count": 14,
     "metadata": {},
     "output_type": "execute_result"
    }
   ],
   "source": [
    "df[df['InvoiceNo'] == 536379] #취소된 주문에서 C를 제거한 Invoice는 취소 전 주문을 의미하는 것이 아님 "
   ]
  },
  {
   "cell_type": "markdown",
   "metadata": {},
   "source": [
    "취소된 주문에서 C를 제거한 Invoice는 취소 전 주문을 의미하는 것이 아님 \n",
    "취소된 주문과 취소전 주문 쌍을 제거해야 이후의 통계 분석 결과가 정확해질 것으로 판단함\n",
    "주문-취소 쌍을 파악하기 위해 CustomerID,Quantity,UnitPrice,StockCode로 비교 분석함"
   ]
  },
  {
   "cell_type": "code",
   "execution_count": 15,
   "metadata": {},
   "outputs": [],
   "source": [
    "cancellation = df[df['cancel'] == 1].copy()\n",
    "order = df[df['cancel'] == 0].copy()\n",
    "\n",
    "cancellation['PosQuantity'] = cancellation['Quantity'].abs()\n",
    "\n",
    "for col in ['CustomerID']: #결측치를 N/A 로 대체 => 결측치 끼리도 주문-취소 쌍 대조를 위해서\n",
    "    cancellation[col] = cancellation[col].fillna('N/A')\n",
    "    order[col] = order[col].fillna('N/A')\n",
    "\n",
    "#매칭키 생성\n",
    "order['match_key'] =  order['CustomerID'].astype(str) + '|' + \\\n",
    "                      order['StockCode'].astype(str) + '|' + \\\n",
    "                      order['Quantity'].astype(int).astype(str) + '|' + \\\n",
    "                      order['UnitPrice'].astype(float).astype(str)\n",
    "\n",
    "cancellation['match_key'] = cancellation['CustomerID'].astype(str) + '|' + \\\n",
    "                            cancellation['StockCode'].astype(str) + '|' + \\\n",
    "                            cancellation['PosQuantity'].astype(int).astype(str) + '|' + \\\n",
    "                            cancellation['UnitPrice'].astype(float).astype(str)\n",
    "\n",
    "order_key_set = set(order['match_key'])\n",
    "#취소-주문 쌍 식별\n",
    "matched_mask = cancellation['match_key'].isin(order_key_set)\n",
    "\n",
    "#제거할 행의 인덱스(위치) 식별\n",
    "cancellation_indices_drop = cancellation[matched_mask].index\n",
    "\n",
    "matched_key_set = set(cancellation[matched_mask]['match_key'])\n",
    "\n",
    "potential_order_drop = order[order['match_key'].isin(matched_key_set)]\n",
    "\n",
    "order_drop = potential_order_drop.drop_duplicates(subset=['match_key'], keep='first')\n",
    "\n",
    "order_indices_drop = order_drop.index\n",
    "\n",
    "all_indices_drop = cancellation_indices_drop.union(order_indices_drop)\n",
    "df= df.drop(index=all_indices_drop)\n"
   ]
  },
  {
   "cell_type": "code",
   "execution_count": 16,
   "metadata": {},
   "outputs": [
    {
     "data": {
      "text/html": [
       "<div>\n",
       "<style scoped>\n",
       "    .dataframe tbody tr th:only-of-type {\n",
       "        vertical-align: middle;\n",
       "    }\n",
       "\n",
       "    .dataframe tbody tr th {\n",
       "        vertical-align: top;\n",
       "    }\n",
       "\n",
       "    .dataframe thead th {\n",
       "        text-align: right;\n",
       "    }\n",
       "</style>\n",
       "<table border=\"1\" class=\"dataframe\">\n",
       "  <thead>\n",
       "    <tr style=\"text-align: right;\">\n",
       "      <th></th>\n",
       "      <th>InvoiceNo</th>\n",
       "      <th>StockCode</th>\n",
       "      <th>Description</th>\n",
       "      <th>Quantity</th>\n",
       "      <th>InvoiceDate</th>\n",
       "      <th>UnitPrice</th>\n",
       "      <th>CustomerID</th>\n",
       "      <th>Country</th>\n",
       "      <th>TotalPrice</th>\n",
       "      <th>DayOfWeek</th>\n",
       "      <th>InvoiceMonth</th>\n",
       "      <th>cancel</th>\n",
       "    </tr>\n",
       "  </thead>\n",
       "  <tbody>\n",
       "    <tr>\n",
       "      <th>141</th>\n",
       "      <td>C536379</td>\n",
       "      <td>D</td>\n",
       "      <td>Discount</td>\n",
       "      <td>-1</td>\n",
       "      <td>2010-12-01 09:41:00</td>\n",
       "      <td>27.50</td>\n",
       "      <td>14527.0</td>\n",
       "      <td>United Kingdom</td>\n",
       "      <td>-27.50</td>\n",
       "      <td>2</td>\n",
       "      <td>12</td>\n",
       "      <td>1</td>\n",
       "    </tr>\n",
       "    <tr>\n",
       "      <th>154</th>\n",
       "      <td>C536383</td>\n",
       "      <td>35004C</td>\n",
       "      <td>SET OF 3 COLOURED  FLYING DUCKS</td>\n",
       "      <td>-1</td>\n",
       "      <td>2010-12-01 09:49:00</td>\n",
       "      <td>4.65</td>\n",
       "      <td>15311.0</td>\n",
       "      <td>United Kingdom</td>\n",
       "      <td>-4.65</td>\n",
       "      <td>2</td>\n",
       "      <td>12</td>\n",
       "      <td>1</td>\n",
       "    </tr>\n",
       "    <tr>\n",
       "      <th>235</th>\n",
       "      <td>C536391</td>\n",
       "      <td>22556</td>\n",
       "      <td>PLASTERS IN TIN CIRCUS PARADE</td>\n",
       "      <td>-12</td>\n",
       "      <td>2010-12-01 10:24:00</td>\n",
       "      <td>1.65</td>\n",
       "      <td>17548.0</td>\n",
       "      <td>United Kingdom</td>\n",
       "      <td>-19.80</td>\n",
       "      <td>2</td>\n",
       "      <td>12</td>\n",
       "      <td>1</td>\n",
       "    </tr>\n",
       "    <tr>\n",
       "      <th>236</th>\n",
       "      <td>C536391</td>\n",
       "      <td>21984</td>\n",
       "      <td>PACK OF 12 PINK PAISLEY TISSUES</td>\n",
       "      <td>-24</td>\n",
       "      <td>2010-12-01 10:24:00</td>\n",
       "      <td>0.29</td>\n",
       "      <td>17548.0</td>\n",
       "      <td>United Kingdom</td>\n",
       "      <td>-6.96</td>\n",
       "      <td>2</td>\n",
       "      <td>12</td>\n",
       "      <td>1</td>\n",
       "    </tr>\n",
       "    <tr>\n",
       "      <th>237</th>\n",
       "      <td>C536391</td>\n",
       "      <td>21983</td>\n",
       "      <td>PACK OF 12 BLUE PAISLEY TISSUES</td>\n",
       "      <td>-24</td>\n",
       "      <td>2010-12-01 10:24:00</td>\n",
       "      <td>0.29</td>\n",
       "      <td>17548.0</td>\n",
       "      <td>United Kingdom</td>\n",
       "      <td>-6.96</td>\n",
       "      <td>2</td>\n",
       "      <td>12</td>\n",
       "      <td>1</td>\n",
       "    </tr>\n",
       "    <tr>\n",
       "      <th>...</th>\n",
       "      <td>...</td>\n",
       "      <td>...</td>\n",
       "      <td>...</td>\n",
       "      <td>...</td>\n",
       "      <td>...</td>\n",
       "      <td>...</td>\n",
       "      <td>...</td>\n",
       "      <td>...</td>\n",
       "      <td>...</td>\n",
       "      <td>...</td>\n",
       "      <td>...</td>\n",
       "      <td>...</td>\n",
       "    </tr>\n",
       "    <tr>\n",
       "      <th>540449</th>\n",
       "      <td>C581490</td>\n",
       "      <td>23144</td>\n",
       "      <td>ZINC T-LIGHT HOLDER STARS SMALL</td>\n",
       "      <td>-11</td>\n",
       "      <td>2011-12-09 09:57:00</td>\n",
       "      <td>0.83</td>\n",
       "      <td>14397.0</td>\n",
       "      <td>United Kingdom</td>\n",
       "      <td>-9.13</td>\n",
       "      <td>4</td>\n",
       "      <td>12</td>\n",
       "      <td>1</td>\n",
       "    </tr>\n",
       "    <tr>\n",
       "      <th>541541</th>\n",
       "      <td>C581499</td>\n",
       "      <td>M</td>\n",
       "      <td>Manual</td>\n",
       "      <td>-1</td>\n",
       "      <td>2011-12-09 10:28:00</td>\n",
       "      <td>224.69</td>\n",
       "      <td>15498.0</td>\n",
       "      <td>United Kingdom</td>\n",
       "      <td>-224.69</td>\n",
       "      <td>4</td>\n",
       "      <td>12</td>\n",
       "      <td>1</td>\n",
       "    </tr>\n",
       "    <tr>\n",
       "      <th>541715</th>\n",
       "      <td>C581568</td>\n",
       "      <td>21258</td>\n",
       "      <td>VICTORIAN SEWING BOX LARGE</td>\n",
       "      <td>-5</td>\n",
       "      <td>2011-12-09 11:57:00</td>\n",
       "      <td>10.95</td>\n",
       "      <td>15311.0</td>\n",
       "      <td>United Kingdom</td>\n",
       "      <td>-54.75</td>\n",
       "      <td>4</td>\n",
       "      <td>12</td>\n",
       "      <td>1</td>\n",
       "    </tr>\n",
       "    <tr>\n",
       "      <th>541716</th>\n",
       "      <td>C581569</td>\n",
       "      <td>84978</td>\n",
       "      <td>HANGING HEART JAR T-LIGHT HOLDER</td>\n",
       "      <td>-1</td>\n",
       "      <td>2011-12-09 11:58:00</td>\n",
       "      <td>1.25</td>\n",
       "      <td>17315.0</td>\n",
       "      <td>United Kingdom</td>\n",
       "      <td>-1.25</td>\n",
       "      <td>4</td>\n",
       "      <td>12</td>\n",
       "      <td>1</td>\n",
       "    </tr>\n",
       "    <tr>\n",
       "      <th>541717</th>\n",
       "      <td>C581569</td>\n",
       "      <td>20979</td>\n",
       "      <td>36 PENCILS TUBE RED RETROSPOT</td>\n",
       "      <td>-5</td>\n",
       "      <td>2011-12-09 11:58:00</td>\n",
       "      <td>1.25</td>\n",
       "      <td>17315.0</td>\n",
       "      <td>United Kingdom</td>\n",
       "      <td>-6.25</td>\n",
       "      <td>4</td>\n",
       "      <td>12</td>\n",
       "      <td>1</td>\n",
       "    </tr>\n",
       "  </tbody>\n",
       "</table>\n",
       "<p>6003 rows × 12 columns</p>\n",
       "</div>"
      ],
      "text/plain": [
       "       InvoiceNo StockCode                       Description  Quantity  \\\n",
       "141      C536379         D                          Discount        -1   \n",
       "154      C536383    35004C   SET OF 3 COLOURED  FLYING DUCKS        -1   \n",
       "235      C536391     22556    PLASTERS IN TIN CIRCUS PARADE        -12   \n",
       "236      C536391     21984  PACK OF 12 PINK PAISLEY TISSUES        -24   \n",
       "237      C536391     21983  PACK OF 12 BLUE PAISLEY TISSUES        -24   \n",
       "...          ...       ...                               ...       ...   \n",
       "540449   C581490     23144   ZINC T-LIGHT HOLDER STARS SMALL       -11   \n",
       "541541   C581499         M                            Manual        -1   \n",
       "541715   C581568     21258        VICTORIAN SEWING BOX LARGE        -5   \n",
       "541716   C581569     84978  HANGING HEART JAR T-LIGHT HOLDER        -1   \n",
       "541717   C581569     20979     36 PENCILS TUBE RED RETROSPOT        -5   \n",
       "\n",
       "               InvoiceDate  UnitPrice  CustomerID         Country  TotalPrice  \\\n",
       "141    2010-12-01 09:41:00      27.50     14527.0  United Kingdom      -27.50   \n",
       "154    2010-12-01 09:49:00       4.65     15311.0  United Kingdom       -4.65   \n",
       "235    2010-12-01 10:24:00       1.65     17548.0  United Kingdom      -19.80   \n",
       "236    2010-12-01 10:24:00       0.29     17548.0  United Kingdom       -6.96   \n",
       "237    2010-12-01 10:24:00       0.29     17548.0  United Kingdom       -6.96   \n",
       "...                    ...        ...         ...             ...         ...   \n",
       "540449 2011-12-09 09:57:00       0.83     14397.0  United Kingdom       -9.13   \n",
       "541541 2011-12-09 10:28:00     224.69     15498.0  United Kingdom     -224.69   \n",
       "541715 2011-12-09 11:57:00      10.95     15311.0  United Kingdom      -54.75   \n",
       "541716 2011-12-09 11:58:00       1.25     17315.0  United Kingdom       -1.25   \n",
       "541717 2011-12-09 11:58:00       1.25     17315.0  United Kingdom       -6.25   \n",
       "\n",
       "        DayOfWeek  InvoiceMonth  cancel  \n",
       "141             2            12       1  \n",
       "154             2            12       1  \n",
       "235             2            12       1  \n",
       "236             2            12       1  \n",
       "237             2            12       1  \n",
       "...           ...           ...     ...  \n",
       "540449          4            12       1  \n",
       "541541          4            12       1  \n",
       "541715          4            12       1  \n",
       "541716          4            12       1  \n",
       "541717          4            12       1  \n",
       "\n",
       "[6003 rows x 12 columns]"
      ]
     },
     "execution_count": 16,
     "metadata": {},
     "output_type": "execute_result"
    }
   ],
   "source": [
    "df[df['cancel'] == 1] #원래 주문을 찾지 못한 취소 건들"
   ]
  },
  {
   "cell_type": "code",
   "execution_count": 17,
   "metadata": {},
   "outputs": [],
   "source": [
    "df = df[df['cancel'] == 0] # 나머지 취소 건들 제외"
   ]
  },
  {
   "cell_type": "markdown",
   "metadata": {
    "id": "JT3nUp9NMpGi"
   },
   "source": [
    "## 1. 모집단과 표본 집단의 TotalPrice를 비교해 주세요.\n",
    "\n",
    "* 데이터셋에서 무작위로 1000개의 표본을 추출하세요.\n",
    "* 추출된 표본과 전체 데이터셋의 'TotalPrice'에 대해 평균과 표준편차를 비교해주세요.  \n",
    "* 중심극한정리를 사용해 모집단과 표본의 차이를 설명해주세요."
   ]
  },
  {
   "cell_type": "code",
   "execution_count": 18,
   "metadata": {
    "id": "-VJd-zJU9qSR"
   },
   "outputs": [
    {
     "name": "stdout",
     "output_type": "stream",
     "text": [
      "모집단 평균:19.38, 모집단 표준편차:86.52\n",
      "표본집단 평균:19.99, 표본집단 표준편차:67.65\n"
     ]
    }
   ],
   "source": [
    "rd_sample = df.sample(n=1000, random_state=1)\n",
    "\n",
    "pp_mean = df['TotalPrice'].mean()\n",
    "pp_std = df['TotalPrice'].std()\n",
    "\n",
    "sample_mean = rd_sample['TotalPrice'].mean()\n",
    "sample_std = rd_sample['TotalPrice'].std()\n",
    "\n",
    "print(f'모집단 평균:{pp_mean:.2f}, 모집단 표준편차:{pp_std:.2f}')\n",
    "print(f'표본집단 평균:{sample_mean:.2f}, 표본집단 표준편차:{sample_std:.2f}')"
   ]
  },
  {
   "cell_type": "markdown",
   "metadata": {},
   "source": [
    "1000개 표본은 전체 표본 수의 0.18% 밖에 되지 않기 때문에 평균과 표준편차가 차이가 크다\n",
    "그리고 표본 중에 이상치가 있기 때문에 모집단의 편차가 크고, 표본 집단에는 이상치가 적게 포함되어서 편차가 작은 것 같다"
   ]
  },
  {
   "cell_type": "code",
   "execution_count": 19,
   "metadata": {},
   "outputs": [
    {
     "data": {
      "image/png": "[encoded data removed]",
      "text/plain": [
       "<Figure size 1500x600 with 1 Axes>"
      ]
     },
     "metadata": {},
     "output_type": "display_data"
    },
    {
     "data": {
      "image/png": "[encoded data removed]",
      "text/plain": [
       "<Figure size 1500x500 with 4 Axes>"
      ]
     },
     "metadata": {},
     "output_type": "display_data"
    },
    {
     "name": "stdout",
     "output_type": "stream",
     "text": [
      "x축 범위가 달라짐에 주의!\n"
     ]
    }
   ],
   "source": [
    "\n",
    "trial = 10000 #시행 횟수     \n",
    "\n",
    "sample_means1 = []\n",
    "sample_means2 = []\n",
    "sample_means3 = []\n",
    "sample_means4 = []\n",
    "\n",
    "for i in range(trial):\n",
    "    sample1 = df['TotalPrice'].sample(n=10, replace=True)\n",
    "    sample2 = df['TotalPrice'].sample(n=100, replace=True)\n",
    "    sample3 = df['TotalPrice'].sample(n=1000, replace=True)\n",
    "    sample4 = df['TotalPrice'].sample(n=10000, replace=True)\n",
    "    \n",
    "    sample_means1.append(sample1.mean())\n",
    "    sample_means2.append(sample2.mean())\n",
    "    sample_means3.append(sample3.mean())\n",
    "    sample_means4.append(sample4.mean())\n",
    "\n",
    "\n",
    "plt.figure(figsize=(15, 6))\n",
    "plt.hist(sample_means1, bins=200, density=True, label='표본 개수 10개')\n",
    "plt.hist(sample_means2, bins=200, density=True, label='표본 개수 100개')\n",
    "plt.hist(sample_means3, bins=200, density=True, label='표본 개수 1000개')\n",
    "plt.hist(sample_means4, bins=200, density=True, label='표본 개수 10000개')\n",
    "\n",
    "plt.axvline(pp_mean, color='black', linestyle='--', linewidth=2, label='모집단')\n",
    "\n",
    "plt.title('중심 극한 정리')\n",
    "plt.xlabel('평균')\n",
    "plt.ylabel('밀도')\n",
    "plt.legend()\n",
    "plt.xlim([0, 40])\n",
    "plt.show()\n",
    "\n",
    "\n",
    "plt.figure(figsize=(15, 5))\n",
    "plt.subplot(1, 4, 1)\n",
    "plt.hist(sample_means1, bins=200, density=True, label='표본 개수 10개')\n",
    "plt.axvline(pp_mean, color='black', linestyle='--', linewidth=2, label='모집단')\n",
    "plt.title('표본 개수 10개')\n",
    "plt.xlabel('평균')\n",
    "plt.ylabel('밀도')\n",
    "plt.xlim([0, 40])\n",
    "\n",
    "plt.subplot(1, 4, 2)\n",
    "plt.hist(sample_means2, bins=200, density=True, label='표본 개수 100개')\n",
    "plt.axvline(pp_mean, color='black', linestyle='--', linewidth=2, label='모집단')\n",
    "plt.title('표본 개수 100개')\n",
    "plt.xlabel('평균')\n",
    "plt.ylabel('밀도')\n",
    "plt.xlim([0, 40])\n",
    "\n",
    "plt.subplot(1, 4, 3)\n",
    "plt.hist(sample_means3, bins=200, density=True, label='표본 개수 1000개')\n",
    "plt.axvline(pp_mean, color='black', linestyle='--', linewidth=2, label='모집단')\n",
    "plt.title('표본 개수 1000개')\n",
    "plt.xlabel('평균')\n",
    "plt.ylabel('밀도')\n",
    "plt.xlim([10, 30])\n",
    "\n",
    "plt.subplot(1, 4, 4)\n",
    "plt.hist(sample_means4, bins=200, density=True, label='표본 개수 10000개')\n",
    "plt.axvline(pp_mean, color='black', linestyle='--', linewidth=2, label='모집단')\n",
    "plt.title('표본 개수 10000개')\n",
    "plt.xlabel('평균')\n",
    "plt.ylabel('밀도')\n",
    "plt.xlim([15, 25])\n",
    "plt.show()\n",
    "\n",
    "print(\"x축 범위가 달라짐에 주의!\")"
   ]
  },
  {
   "cell_type": "markdown",
   "metadata": {},
   "source": [
    "샘플 갯수가 많아 질수록 분산이 줄어들고 평균에 가까워짐 => 중심극한 정리를 따름\n",
    "\n",
    "중심 극한 정리에 의해 표본 개수가 많아 질수록 표본 집단의 평균의 평균이 모집단의 평균과 비슷해지고 유추할 수 있습니다.\n"
   ]
  },
  {
   "cell_type": "markdown",
   "metadata": {
    "id": "dvTXhGBpNG2E"
   },
   "source": [
    "## 2. 주문이 가장 많은 상위 두 국가의 'TotalPrice' 평균에 차이가 있는지 검증하세요.\n",
    "\n",
    "* 'Country' 변수를 바탕으로 주문이 가장 많은 상위 두 국가를 찾으세요.\n",
    "* 독립표본 t-검정을 사용하여 두 국가 간 'TotalPrice' 평균의 차이가 통계적으로 유의미한지 검증하세요.  \n",
    "* t-통계량과 p-값을 해석하여 결과를 설명하고, 1종 오류와 2종 오류의 개념을 적용하여 설명해주세요."
   ]
  },
  {
   "cell_type": "code",
   "execution_count": 20,
   "metadata": {
    "id": "ffgl-6Kk9rrO"
   },
   "outputs": [
    {
     "data": {
      "text/plain": [
       "Country\n",
       "United Kingdom          482609\n",
       "Germany                   8956\n",
       "France                    8333\n",
       "EIRE                      7717\n",
       "Spain                     2459\n",
       "Netherlands               2355\n",
       "Belgium                   2024\n",
       "Switzerland               1958\n",
       "Portugal                  1491\n",
       "Australia                 1114\n",
       "Norway                    1060\n",
       "Channel Islands            747\n",
       "Italy                      746\n",
       "Finland                    683\n",
       "Cyprus                     611\n",
       "Unspecified                446\n",
       "Sweden                     445\n",
       "Austria                    398\n",
       "Denmark                    377\n",
       "Poland                     328\n",
       "Japan                      320\n",
       "Israel                     295\n",
       "Hong Kong                  280\n",
       "Singapore                  215\n",
       "Iceland                    182\n",
       "Canada                     151\n",
       "Greece                     145\n",
       "Malta                      111\n",
       "United Arab Emirates        68\n",
       "USA                         67\n",
       "European Community          60\n",
       "RSA                         57\n",
       "Lebanon                     45\n",
       "Lithuania                   35\n",
       "Brazil                      32\n",
       "Czech Republic              24\n",
       "Bahrain                     17\n",
       "Saudi Arabia                 9\n",
       "Name: count, dtype: int64"
      ]
     },
     "execution_count": 20,
     "metadata": {},
     "output_type": "execute_result"
    }
   ],
   "source": [
    "df['Country'].value_counts()"
   ]
  },
  {
   "cell_type": "markdown",
   "metadata": {},
   "source": [
    "주문이 가장 많은 상위 두 국가는 영국과 독일이다"
   ]
  },
  {
   "cell_type": "code",
   "execution_count": 21,
   "metadata": {
    "id": "UuN-1uRCNz_I"
   },
   "outputs": [
    {
     "name": "stdout",
     "output_type": "stream",
     "text": [
      "영국 평균:17.87, 독일 평균:25.10\n",
      "\n",
      "등분산성 검정 (Levene's test) p-value: 0.3199\n",
      "T-통계량: -7.8582\n",
      "P-값: 0.0000\n"
     ]
    }
   ],
   "source": [
    "from scipy import stats\n",
    "\n",
    "Price_UK = df[df['Country'] == 'United Kingdom']['TotalPrice']\n",
    "Price_Ge = df[df['Country'] == 'Germany']['TotalPrice']\n",
    "\n",
    "print(f'영국 평균:{Price_UK.mean():.2f}, 독일 평균:{Price_Ge.mean():.2f}')\n",
    "\n",
    "\n",
    "levene_stat, levene_p = stats.levene(Price_UK, Price_Ge)\n",
    "print(f\"\\n등분산성 검정 (Levene's test) p-value: {levene_p:.4f}\") #등분산성 검정에서 영국과 독일은 등분산을 가지고 있다고 판단\n",
    "\n",
    "t_statistic, p_value = stats.ttest_ind(Price_UK, Price_Ge, equal_var=True) \n",
    "\n",
    "print(f\"T-통계량: {t_statistic:.4f}\")\n",
    "print(f\"P-값: {p_value:.4f}\")\n"
   ]
  },
  {
   "cell_type": "markdown",
   "metadata": {},
   "source": [
    "t 통계량은 -7.8582로 매우 큰 값을 가지고 있고, 음수인 이유는 영국 평균이 독일 평균보다 낮기 때문입니다\n",
    "이 때 p 값은 거의 0에 가까운 값을 가지고 있습니다\n",
    "\n",
    "유의 수준이 0.05라고 하면 p값은 거의 0이므로 유의수준 보다 낮기 때문에 귀무 가설'영국과 독일의 totalprice 평균이 차이가 없다'를 기각하고\n",
    "대립가설 '영국과 독일의 totalprice 평균이 차이가 있다'를 채택했습니다\n",
    "\n",
    "1종 오류: 귀무 가설이 참 인데도 채택하지 않음\n",
    "이 경우는 귀무 가설을 기각했으므로 1종 오류를 범할 확률이 존재합니다\n",
    "다만 p 값이 매우 낮기 때문에 1종 오류를 범할 확률도 매우 낮을 것이라 생각합니다\n",
    "\n",
    "2종 오류: 귀무 가설이 거짓 인데도 기각하지 않음\n",
    "귀무 가설을 기각했으므로 2종 오류를 범할 수 없습니다\n"
   ]
  },
  {
   "cell_type": "markdown",
   "metadata": {
    "id": "yWpUgBedN0PK"
   },
   "source": [
    "## 3. 주중, 주말에 따라서 발생하는 UnitPrice의 분포가 달라지는지 확인하세요.\n",
    "\n",
    "* 주중의 'UnitPrice'와 주말의 'UnitPrice'의 분포를 분석하기 위해 데이터의 중심경향치(평균, 중간값), 변산성(표준편차, 분산), 분위수를 계산하세요.  \n",
    "* 상자수염그림과 히스토그램을 그려 시각화를 통해 분포를 확인하고 데이터의 분포에 대해 설명해주세요."
   ]
  },
  {
   "cell_type": "code",
   "execution_count": 22,
   "metadata": {
    "id": "rAMuPWXh9uAN"
   },
   "outputs": [
    {
     "data": {
      "text/html": [
       "<div>\n",
       "<style scoped>\n",
       "    .dataframe tbody tr th:only-of-type {\n",
       "        vertical-align: middle;\n",
       "    }\n",
       "\n",
       "    .dataframe tbody tr th {\n",
       "        vertical-align: top;\n",
       "    }\n",
       "\n",
       "    .dataframe thead th {\n",
       "        text-align: right;\n",
       "    }\n",
       "</style>\n",
       "<table border=\"1\" class=\"dataframe\">\n",
       "  <thead>\n",
       "    <tr style=\"text-align: right;\">\n",
       "      <th></th>\n",
       "      <th>mean</th>\n",
       "      <th>median</th>\n",
       "      <th>std</th>\n",
       "      <th>var</th>\n",
       "      <th>25%</th>\n",
       "      <th>50%</th>\n",
       "      <th>75%</th>\n",
       "    </tr>\n",
       "    <tr>\n",
       "      <th>DoW</th>\n",
       "      <th></th>\n",
       "      <th></th>\n",
       "      <th></th>\n",
       "      <th></th>\n",
       "      <th></th>\n",
       "      <th></th>\n",
       "      <th></th>\n",
       "    </tr>\n",
       "  </thead>\n",
       "  <tbody>\n",
       "    <tr>\n",
       "      <th>Weekday</th>\n",
       "      <td>3.918754</td>\n",
       "      <td>2.10</td>\n",
       "      <td>27.893310</td>\n",
       "      <td>778.036746</td>\n",
       "      <td>1.25</td>\n",
       "      <td>2.10</td>\n",
       "      <td>4.13</td>\n",
       "    </tr>\n",
       "    <tr>\n",
       "      <th>Weekend</th>\n",
       "      <td>2.847989</td>\n",
       "      <td>1.69</td>\n",
       "      <td>7.724137</td>\n",
       "      <td>59.662294</td>\n",
       "      <td>1.25</td>\n",
       "      <td>1.69</td>\n",
       "      <td>3.75</td>\n",
       "    </tr>\n",
       "  </tbody>\n",
       "</table>\n",
       "</div>"
      ],
      "text/plain": [
       "             mean  median        std         var   25%   50%   75%\n",
       "DoW                                                               \n",
       "Weekday  3.918754    2.10  27.893310  778.036746  1.25  2.10  4.13\n",
       "Weekend  2.847989    1.69   7.724137   59.662294  1.25  1.69  3.75"
      ]
     },
     "execution_count": 22,
     "metadata": {},
     "output_type": "execute_result"
    }
   ],
   "source": [
    "#주중 주말 데이터 분리\n",
    "df['DoW'] = df['DayOfWeek'].apply(lambda x: 'Weekend' if x >= 5 else 'Weekday')\n",
    "\n",
    "UP_table = df.groupby('DoW')['UnitPrice'].describe()\n",
    "UP_table['median'] = df.groupby('DoW')['UnitPrice'].median()\n",
    "UP_table['var'] = df.groupby('DoW')['UnitPrice'].var()\n",
    "\n",
    "UP_table[['mean', 'median', 'std', 'var', '25%', '50%', '75%']]\n"
   ]
  },
  {
   "cell_type": "code",
   "execution_count": 23,
   "metadata": {
    "id": "qynX6XgM9t5n"
   },
   "outputs": [
    {
     "data": {
      "image/png": "[encoded data removed]",
      "text/plain": [
       "<Figure size 640x480 with 1 Axes>"
      ]
     },
     "metadata": {},
     "output_type": "display_data"
    },
    {
     "data": {
      "image/png": "[encoded data removed]",
      "text/plain": [
       "<Figure size 1800x800 with 1 Axes>"
      ]
     },
     "metadata": {},
     "output_type": "display_data"
    },
    {
     "name": "stdout",
     "output_type": "stream",
     "text": [
      "\n",
      "상위 1% 이상치 제거\n"
     ]
    },
    {
     "data": {
      "image/png": "[encoded data removed]",
      "text/plain": [
       "<Figure size 640x480 with 1 Axes>"
      ]
     },
     "metadata": {},
     "output_type": "display_data"
    },
    {
     "data": {
      "image/png": "[encoded data removed]",
      "text/plain": [
       "<Figure size 1800x800 with 1 Axes>"
      ]
     },
     "metadata": {},
     "output_type": "display_data"
    }
   ],
   "source": [
    "sns.boxplot(x='DoW', y='UnitPrice', data=df, order=['Weekday', 'Weekend'])\n",
    "plt.show()\n",
    "\n",
    "f, ax = plt.subplots(figsize=(18,8)) \n",
    "plt.hist(df[df['DoW'] == 'Weekend']['UnitPrice'], bins=1000, density=True, label='Weekend')\n",
    "plt.hist(df[df['DoW'] == 'Weekday']['UnitPrice'], bins=10000, density=True, label='Weekday')\n",
    "plt.legend(loc = 'best')\n",
    "plt.xlabel('가격')\n",
    "plt.ylabel('밀도')\n",
    "plt.xlim([0, 60])\n",
    "plt.show()\n",
    "\n",
    "print(\"\\n상위 1% 이상치 제거\")\n",
    "\n",
    "df_limit = df[df['UnitPrice'] < df['UnitPrice'].quantile(0.99)] #상위 이상치 제거\n",
    "\n",
    "sns.boxplot(x='DoW', y='UnitPrice', data=df_limit, order=['Weekday', 'Weekend'])\n",
    "plt.show()\n",
    "\n",
    "f, ax = plt.subplots(figsize=(18,8)) \n",
    "plt.hist(df_limit[df_limit['DoW'] == 'Weekend']['UnitPrice'], bins=100, density=True, label='Weekend')\n",
    "plt.hist(df_limit[df_limit['DoW'] == 'Weekday']['UnitPrice'], bins=100, density=True, label='Weekday')\n",
    "plt.legend(loc = 'best')\n",
    "plt.xlabel('가격')\n",
    "plt.ylabel('밀도')\n",
    "plt.xlim([0, 20])\n",
    "plt.show()"
   ]
  },
  {
   "cell_type": "code",
   "execution_count": 24,
   "metadata": {
    "id": "pBNoAnjj9tzh"
   },
   "outputs": [
    {
     "name": "stdout",
     "output_type": "stream",
     "text": [
      "U-통계량: 16096668027.0000\n",
      "P-값: 0.0000\n",
      "\n",
      "상위 1% 이상치 제거 후 통계량\n",
      "U-통계량: 15714909891.5000\n",
      "P-값: 0.0000\n"
     ]
    }
   ],
   "source": [
    "UP_weekday = df[df['DoW'] == 'Weekday']['UnitPrice']\n",
    "UP_weekend = df[df['DoW'] == 'Weekend']['UnitPrice']\n",
    "\n",
    "u_statistic, p_value = stats.mannwhitneyu(UP_weekday, UP_weekend,alternative='two-sided') #맨-휘트니 U 검정\n",
    "\n",
    "print(f\"U-통계량: {u_statistic:.4f}\")\n",
    "print(f\"P-값: {p_value:.4f}\")\n",
    "\n",
    "UP_weekday = df_limit[df_limit['DoW'] == 'Weekday']['UnitPrice']\n",
    "UP_weekend = df_limit[df_limit['DoW'] == 'Weekend']['UnitPrice']\n",
    "\n",
    "u_statistic, p_value = stats.mannwhitneyu(UP_weekday, UP_weekend,alternative='two-sided') #맨-휘트니 U 검정\n",
    "print(\"\\n상위 1% 이상치 제거 후 통계량\")\n",
    "print(f\"U-통계량: {u_statistic:.4f}\")\n",
    "print(f\"P-값: {p_value:.4f}\")\n"
   ]
  },
  {
   "cell_type": "markdown",
   "metadata": {},
   "source": [
    "맨-휘트니 U 검정은 두 집단의 분포를 비교 분석하는 방법이다.\n",
    "이상치의 영향을 고려해서 이상치 제거 유무에 따라서 맨-휘트니 U 검정을 시행했습니다.\n",
    "\n",
    "둘다 p 값이 0에 근접하므로\n",
    "귀무가설\"주중 주말의 가격의 분포 차이는 없다\"를 기각하고 대립가설 \"주중 주말의 가격의 분포 차이는 있다\"를 채택하였습니다.\n",
    "\n",
    "결론:주중 주말의 가격의 분포 차이는 있다"
   ]
  },
  {
   "cell_type": "markdown",
   "metadata": {
    "id": "zbNpkFBBT4aK"
   },
   "source": [
    "## 4. 상품의 단가와 판매 국가, 판매 날짜을 이용해 판매 수량을 예측하는 회귀 모델을 만드세요.\n",
    "* 필요한 데이터를 정리하고 결측치와 이상치를 제거해주세요.  \n",
    "* 변수를 다음과 같이 설정하여 다중 선형 회귀 분석을 진행하세요.\n",
    "    * 종속변수: 판매 수량(`Quantity`)\n",
    "    * 독립변수: 상품 단가(`UnitPrice`), 판매 국가(`Country`), 판매 요일(`DayOfWeek`), 판매 월( `InvoiceMonth`)   \n",
    "* 회귀계수와 결정계수를 활용하여 회귀 분석 결과를 해석해주세요."
   ]
  },
  {
   "cell_type": "code",
   "execution_count": 25,
   "metadata": {
    "id": "katPA0wf9wST"
   },
   "outputs": [
    {
     "name": "stdout",
     "output_type": "stream",
     "text": [
      "결정계수: 0.0323\n",
      "\n",
      "[회귀 계수]\n",
      "[-0.01927926 -0.0110988  -0.00285063  1.46207609 -0.22941485 -0.15596075\n",
      " -0.24629938 -0.2496105  -0.07620031 -0.21433392 -0.27728084  0.16362943\n",
      "  0.02808358 -0.05841747 -0.3261635  -0.13559629 -0.19785409 -0.20016571\n",
      " -0.27233814 -0.10291397 -0.19925857 -0.1522087  -0.26589101  1.63395478\n",
      " -0.32606824 -0.0305925  -0.32851685  1.73093618 -0.06434296 -0.2578894\n",
      " -0.26390209 -0.38478403 -0.31909019  0.08991614 -0.26183767  1.60708203\n",
      " -0.13675854 -0.14433652 -0.17333201 -0.30811762 -0.3562016 ]\n"
     ]
    }
   ],
   "source": [
    "#데이터 전처리는 앞에서 했기 때문에 생략합니다\n",
    "from sklearn.preprocessing import RobustScaler, StandardScaler\n",
    "from sklearn.linear_model import LinearRegression\n",
    "\n",
    "df_for_train = df[['Quantity','UnitPrice', 'Country', 'DayOfWeek', 'InvoiceMonth']]\n",
    "\n",
    "transformer = StandardScaler()\n",
    "LR = LinearRegression()\n",
    "\n",
    "dfe = pd.get_dummies(df_for_train['Country']) #원 핫 인코딩\n",
    "dfe.reset_index(drop=True, inplace=True) #인덱스 초기화\n",
    "dfr = transformer.fit_transform(df_for_train[['Quantity','UnitPrice', 'DayOfWeek', 'InvoiceMonth']]) #정규화 스케일링\n",
    "dfr = pd.DataFrame(dfr, columns=['Quantity','UnitPrice', 'DayOfWeek', 'InvoiceMonth'])\n",
    "\n",
    "X = pd.concat([dfr[['UnitPrice', 'DayOfWeek', 'InvoiceMonth']], dfe], axis= 1)\n",
    "Y = dfr['Quantity']\n",
    "\n",
    "LR.fit(X,Y) #모델 학습\n",
    "\n",
    "r_square = LR.score(X, Y)\n",
    "intercept = LR.intercept_\n",
    "coefficients = LR.coef_\n",
    "\n",
    "print(f\"결정계수: {r_square:.4f}\")\n",
    "\n",
    "print(f\"\\n[회귀 계수]\")\n",
    "print(LR.coef_)\n"
   ]
  },
  {
   "cell_type": "markdown",
   "metadata": {},
   "source": [
    "종속 변수와 독립 변수 간의 관계가 선형이 아니거나, 뚜렷한 관련이 없거나 데이터가 정규화 과정에서 이상치의 영향을 많이 받아서 결정계수가 낮고 회귀 계수도 불안정한 값을 가질 수 있다고 생각합니다."
   ]
  },
  {
   "cell_type": "markdown",
   "metadata": {
    "id": "QDgJTeRoUwjf"
   },
   "source": [
    "## 5. 상품 정보와 거래 정보를 바탕으로 해당 거래가 반품될 가능성을 예측하는 로지스틱 회귀 모델을 만드세요.\n",
    "* 필요한 데이터를 정리하고 결측치와 이상치를 제거해주세요.  \n",
    "* `Quantity` 피쳐를 활용해 `IsReturn` 피쳐를 생성하세요.\n",
    "* 모델 학습에 사용할 적절한 피쳐를 선정하세요.\n",
    "* 모델 학습과 검증을 위해 데이터셋을 train셋과 test셋으로 나누세요.\n",
    "* `IsReturn`을 예측하는 로지스틱 회귀 모델을 학습하세요.\n",
    "* 혼동행렬, 정밀도, 재현율, F1-score 등 다양한 평가지표를 사용하여 모델의 성능을 평가하세요.\n",
    "* 모델의 성능을 더 높일 수 있는 방안에 대해서 고민해보세요."
   ]
  },
  {
   "cell_type": "code",
   "execution_count": 26,
   "metadata": {
    "id": "mcvefNO19yk6"
   },
   "outputs": [
    {
     "name": "stderr",
     "output_type": "stream",
     "text": [
      "C:\\Users\\Coco\\AppData\\Local\\Temp\\ipykernel_78860\\1441193299.py:3: UserWarning: Could not infer format, so each element will be parsed individually, falling back to `dateutil`. To ensure parsing is consistent and as-expected, please specify a format.\n",
      "  df2['InvoiceDate'] = pd.to_datetime(df2['InvoiceDate'])\n"
     ]
    }
   ],
   "source": [
    "df2 = pd.read_csv(path + '/' + os.listdir(path)[0], encoding='latin1') # 전처리전 새 데이터 원본\n",
    "df2[\"TotalPrice\"] = df2[\"Quantity\"] * df2[\"UnitPrice\"]\n",
    "df2['InvoiceDate'] = pd.to_datetime(df2['InvoiceDate'])\n",
    "df2['DayOfWeek'] = df2['InvoiceDate'].dt.dayofweek\n",
    "df2[\"InvoiceDate\"] = pd.to_datetime(df2[\"InvoiceDate\"].astype(str))\n",
    "df2[\"InvoiceMonth\"] = df2[\"InvoiceDate\"].dt.month\n",
    "\n",
    "df2['IsReturn'] = df2['InvoiceNo'].str.startswith('C', na=False).astype(int) #주문 반품 확인 피쳐 생성\n",
    "df2 = df2[df2['UnitPrice'] > 0] #가격이 음수나 0인 이상치 제거\n",
    "\n"
   ]
  },
  {
   "cell_type": "code",
   "execution_count": 27,
   "metadata": {
    "id": "qk0d5pqM9yVk"
   },
   "outputs": [
    {
     "name": "stdout",
     "output_type": "stream",
     "text": [
      "정확도: 0.9828\n"
     ]
    }
   ],
   "source": [
    "from sklearn.linear_model import LogisticRegression\n",
    "from sklearn.model_selection import train_test_split\n",
    "\n",
    "transformer = StandardScaler()\n",
    "\n",
    "df2['Quantity'] = df2['Quantity'].abs() #수량을 전부 양수로 바꿈\n",
    "\n",
    "dfe2 = pd.get_dummies(df2['Country']) #원 핫 인코딩\n",
    "dfr2 = transformer.fit_transform(df2[['Quantity','UnitPrice', 'DayOfWeek', 'InvoiceMonth']]) #정규화 스케일링\n",
    "dfr2 = pd.DataFrame(df2, columns=['Quantity','UnitPrice', 'DayOfWeek', 'InvoiceMonth'])\n",
    "\n",
    "X = pd.concat([dfr2, dfe2], axis= 1)\n",
    "Y = df2['IsReturn']\n",
    "\n",
    "#학습 데이터와 테스트 데이터 분리\n",
    "X_train, X_test, Y_train, Y_test = train_test_split(X, Y, test_size=0.3, random_state=42, stratify=Y)\n",
    "\n",
    "lr_model = LogisticRegression(random_state=42, max_iter=3000)\n",
    "lr_model.fit(X_train, Y_train)\n",
    "y_pred = lr_model.predict(X_test)\n",
    "y_pred_proba = lr_model.predict_proba(X_test)[:, 1]\n",
    "\n",
    "from sklearn.metrics import confusion_matrix, accuracy_score, roc_auc_score, roc_curve\n",
    "\n",
    "acc = accuracy_score(Y_test, y_pred)\n",
    "cm = confusion_matrix(Y_test, y_pred)\n",
    "auc = roc_auc_score(Y_test, y_pred_proba)\n",
    "fpr, tpr, _ = roc_curve(Y_test, y_pred_proba)\n",
    "\n",
    "print(f'정확도: {acc:.4f}')\n",
    "\n"
   ]
  },
  {
   "cell_type": "code",
   "execution_count": 28,
   "metadata": {},
   "outputs": [
    {
     "data": {
      "image/png": "[encoded data removed]",
      "text/plain": [
       "<Figure size 800x600 with 2 Axes>"
      ]
     },
     "metadata": {},
     "output_type": "display_data"
    }
   ],
   "source": [
    "plt.figure(figsize=(8, 6))\n",
    "sns.heatmap(cm, annot=True, fmt='d', cmap='Blues',\n",
    "            xticklabels=['No Return', 'Return'], yticklabels=['No Return', 'Return'])\n",
    "plt.xlabel('Predicted Label')\n",
    "plt.ylabel('True Label')\n",
    "plt.title('혼동 행렬')\n",
    "plt.show()"
   ]
  },
  {
   "cell_type": "code",
   "execution_count": 29,
   "metadata": {},
   "outputs": [
    {
     "data": {
      "image/png": "[encoded data removed]",
      "text/plain": [
       "<Figure size 800x600 with 1 Axes>"
      ]
     },
     "metadata": {},
     "output_type": "display_data"
    }
   ],
   "source": [
    "fpr, tpr, _ = roc_curve(Y_test, y_pred_proba)\n",
    "plt.figure(figsize=(8, 6))\n",
    "plt.plot(fpr, tpr, label=f'Logistic Regression (AUC = {auc:.2f})')\n",
    "plt.plot([0, 1], [0, 1], 'k--', label='Random Chance')\n",
    "plt.xlabel('False Positive Rate')\n",
    "plt.ylabel('True Positive Rate')\n",
    "plt.title('ROC Curve')\n",
    "plt.legend(loc='lower right')\n",
    "plt.grid(True)\n",
    "plt.show()"
   ]
  },
  {
   "cell_type": "code",
   "execution_count": 30,
   "metadata": {},
   "outputs": [
    {
     "name": "stdout",
     "output_type": "stream",
     "text": [
      "\n",
      "정밀도: 0.4242\n",
      "재현율: 0.0050\n",
      "F1-점수: 0.0099\n"
     ]
    }
   ],
   "source": [
    "from sklearn.metrics import precision_score, recall_score, f1_score\n",
    "\n",
    "precision = precision_score(Y_test, y_pred, pos_label=1)\n",
    "recall = recall_score(Y_test, y_pred, pos_label=1)\n",
    "f1 = f1_score(Y_test, y_pred, pos_label=1)\n",
    "\n",
    "print(f\"\\n정밀도: {precision:.4f}\")\n",
    "print(f\"재현율: {recall:.4f}\")\n",
    "print(f\"F1-점수: {f1:.4f}\")"
   ]
  },
  {
   "cell_type": "markdown",
   "metadata": {},
   "source": [
    "모델 성능이 낮게 나온 이유\n",
    "1) 로지스틱 회귀 분석 모델이 맞는 모델이 아님\n",
    "2) 실제 반품 여부와 feature들 간에 관계가 없음\n",
    "3) parameter 튜닝이 잘못됨\n",
    "4) 데이터의 불균형(반품 데이터가 부족함)\n"
   ]
  }
 ],
 "metadata": {
  "colab": {
   "provenance": []
  },
  "kernelspec": {
   "display_name": "Python [conda env:base] *",
   "language": "python",
   "name": "conda-base-py"
  },
  "language_info": {
   "codemirror_mode": {
    "name": "ipython",
    "version": 3
   },
   "file_extension": ".py",
   "mimetype": "text/x-python",
   "name": "python",
   "nbconvert_exporter": "python",
   "pygments_lexer": "ipython3",
   "version": "3.11.7"
  }
 },
 "nbformat": 4,
 "nbformat_minor": 4
}
